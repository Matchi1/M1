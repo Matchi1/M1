{
 "cells": [
  {
   "cell_type": "code",
   "execution_count": 1,
   "metadata": {},
   "outputs": [],
   "source": [
    "def xgcd(a,b):\n",
    "    if b == 0:\n",
    "        return (a, 1, 0)\n",
    "    (d, u, v) = xgcd(b, a % b)\n",
    "    return (d, v, u - (a // b) * v)\n",
    "\n",
    "def inversemod(x,n):\n",
    "    d,u,v = xgcd(x,n)\n",
    "    if d!=1: raise Exception('Element non inversible')\n",
    "    return u if u>0 else n+u "
   ]
  },
  {
   "cell_type": "code",
   "execution_count": 2,
   "metadata": {},
   "outputs": [],
   "source": [
    "class RSA:\n",
    "    def __init__(self,p,q,e):\n",
    "        self.p = p\n",
    "        self.q = q\n",
    "        self.e = e\n",
    "\n",
    "    def encrypt(self,x):\n",
    "        n = self.p * self.q\n",
    "        delta = (self.p - 1) * (self.q - 1)\n",
    "        return x ** e % n\n",
    "\n",
    "    def decrypt(self,y):\n",
    "        n = self.p * self.q\n",
    "        delta = (self.p - 1) * (self.q - 1)\n",
    "        d = inversemod(self.e, delta)\n",
    "        return y ** d % n"
   ]
  },
  {
   "cell_type": "code",
   "execution_count": 3,
   "metadata": {},
   "outputs": [
    {
     "name": "stdout",
     "output_type": "stream",
     "text": [
      "0xd8c98e8fb21d843c7806cd6deaa30d73ab4965515ceaf662ca1c1502aab3b9df5e7fb0db7d156121\n",
      "0x10a000004972030440233370fff100006020600010a000004972030440233370fff1000060206\n"
     ]
    }
   ],
   "source": [
    "p = 1113954325148827987925490175477024844070922844843\n",
    "q = 1917481702524504439375786268230862180696934189293\n",
    "v = 1808808319415691415062465989446183136395423154715795462152356725976667671981921260211627443446049\n",
    "e = 3\n",
    "rsa = RSA(p,q,e)\n",
    "crypted = rsa.encrypt(v)\n",
    "print(hex(v))\n",
    "print(hex(crypted))\n"
   ]
  },
  {
   "cell_type": "code",
   "execution_count": 18,
   "metadata": {},
   "outputs": [
    {
     "name": "stdout",
     "output_type": "stream",
     "text": [
      "0b10001100\n",
      "0x82\n"
     ]
    }
   ],
   "source": [
    "print(bin(0x8C))\n",
    "print(hex(0b10000010))"
   ]
  },
  {
   "cell_type": "code",
   "execution_count": null,
   "metadata": {},
   "outputs": [],
   "source": [
    "2E 03 30 30 (00 00 0D 8C 09 8E 8F B2 01 D8 43 C7\n",
    "08 06 CD 6D 0E AA 30 D7 03 AB 49 65 05 15 CE AF\n",
    "06 62 CA 1C 01 50 2A AB 03 B9 DF 5E 07 FB 0D B7\n",
    "0D 15 61 21)\n",
    "2E 02 38 F1 (00 04 97 20 03 04 40 23\n",
    "03 37 0F FF 01 01 00 06 02 50 02 06 02 50 34 97\n",
    "05 44 84 94 02 4F 4E 2F 04 D4 F4 E4 09 51 55 45\n",
    "02 02 02 02 00 20 20 20 02 02 02 02 00 20 F2 00)\n",
    "2E 16 70 3A 00 00 07 FE 0B 4B EC 14 09 5A 92 E6"
   ]
  },
  {
   "cell_type": "code",
   "execution_count": 30,
   "metadata": {},
   "outputs": [
    {
     "data": {
      "text/plain": [
       "'0x10a000004972030440233370fff100006020600010a000004972030440233370fff1000060206'"
      ]
     },
     "execution_count": 30,
     "metadata": {},
     "output_type": "execute_result"
    }
   ],
   "source": [
    "x = 0x0000D8C98E8FB21D843C7806CD6DEAA30D73AB4965515CEAF662CA1C1502AAB3B9DF5E7FB0DB7D156121\n",
    "hex(rsa.encrypt(x))\n",
    "carte = 3141592653589793\n",
    "old = 0x10a00000 4972030440233370 fff1000 0602 0600010a00000 4972030440233370 fff10 00 0602 06\n",
    "new = 0x10a000003141592653589793fff100013130600010a000003141592653589793fff1000131306"
   ]
  },
  {
   "cell_type": "code",
   "execution_count": 38,
   "metadata": {},
   "outputs": [
    {
     "name": "stdout",
     "output_type": "stream",
     "text": [
      "b'474552415244204d414e534f4946'\n"
     ]
    }
   ],
   "source": [
    "from codecs import encode, decode\n",
    "\n",
    "nom = b'GERARD MANSOIF'\n",
    "print(encode(nom, 'hex'))"
   ]
  },
  {
   "cell_type": "code",
   "execution_count": 48,
   "metadata": {},
   "outputs": [
    {
     "data": {
      "text/plain": [
       "b'\\xff\\xf1\\x01\\x00\\x06%\\x00 bP4\\x97'"
      ]
     },
     "execution_count": 48,
     "metadata": {},
     "output_type": "execute_result"
    }
   ],
   "source": [
    "decode(b'FFF101000625002062503497', 'hex')"
   ]
  },
  {
   "cell_type": "code",
   "execution_count": 49,
   "metadata": {},
   "outputs": [
    {
     "name": "stdout",
     "output_type": "stream",
     "text": [
      "b'\\x00Ir\\x03\\x04@#3p\\xff\\xf1\\x01\\x00\\x06%\\x00 bP4\\x97THIBON/MONIQUE            \\xf2\\x00'\n",
      "168708145866623027648897979446624793667959603089329629678549258909676429493856455050086061632576\n"
     ]
    }
   ],
   "source": [
    "x = b'004972030440233370FFF101000625002062503497544849424F4E2F4D4F4E49515545202020202020202020202020F200'\n",
    "old = 0x300314153926535839793FFF310100063250020632503497347455243152442034d414e5334f49463202020230202020320202023020F200\n",
    "print(decode(x, 'hex'))\n",
    "print(rsa.encrypt(old))"
   ]
  },
  {
   "cell_type": "code",
   "execution_count": null,
   "metadata": {},
   "outputs": [],
   "source": [
    "new = 0x310a000030314159326535893793fff130001313306000103a000003314159263535897933fff10030131306"
   ]
  }
 ],
 "metadata": {
  "kernelspec": {
   "display_name": "Python 3",
   "language": "python",
   "name": "python3"
  },
  "language_info": {
   "codemirror_mode": {
    "name": "ipython",
    "version": 3
   },
   "file_extension": ".py",
   "mimetype": "text/x-python",
   "name": "python",
   "nbconvert_exporter": "python",
   "pygments_lexer": "ipython3",
   "version": "3.7.3"
  }
 },
 "nbformat": 4,
 "nbformat_minor": 2
}
