{
 "cells": [
  {
   "cell_type": "code",
   "execution_count": 1,
   "metadata": {},
   "outputs": [],
   "source": [
    "from itertools import *"
   ]
  },
  {
   "cell_type": "code",
   "execution_count": 2,
   "metadata": {},
   "outputs": [
    {
     "data": {
      "text/plain": [
       "92"
      ]
     },
     "execution_count": 2,
     "metadata": {},
     "output_type": "execute_result"
    }
   ],
   "source": [
    "def reine(n):\n",
    "    def reine_aux(tup):\n",
    "        for i in range(len(tup)):\n",
    "            for j in range(i + 1, len(tup)):\n",
    "                if (i + tup[i] == j + tup[j]) or (i - tup[i] == j - tup[j]):\n",
    "                    return False\n",
    "        return True\n",
    "\n",
    "    it = permutations(range(n))\n",
    "    res = filter(lambda x: reine_aux(x), it)\n",
    "    return len(list(res))\n",
    "\n",
    "#A partir de 11 c'est long\n",
    "reine(8)"
   ]
  },
  {
   "cell_type": "code",
   "execution_count": 18,
   "metadata": {},
   "outputs": [
    {
     "name": "stdout",
     "output_type": "stream",
     "text": [
      "['8724', '4765290', '9016590', '13790604']\n"
     ]
    },
    {
     "data": {
      "text/plain": [
       "1"
      ]
     },
     "execution_count": 18,
     "metadata": {},
     "output_type": "execute_result"
    }
   ],
   "source": [
    "from string import ascii_letters\n",
    "\n",
    "def convert(words, trad):\n",
    "    t = str.maketrans(trad)\n",
    "    values = [w.translate(t) for w in words]\n",
    "    result = 0\n",
    "    for i in range(len(values) - 1):\n",
    "        result += int(values[i])\n",
    "    if result == int(values[-1]):\n",
    "        print(values)\n",
    "        return True\n",
    "    return False\n",
    "\n",
    "def solve(exp):\n",
    "    words = [w for w in exp.split(' ') if len(w) > 1]\n",
    "    ll = []\n",
    "    for letter in exp:\n",
    "        if letter in ascii_letters and letter not in ll:\n",
    "            ll.append(letter)\n",
    "    count = 0\n",
    "    for perm in permutations(range(10), len(ll)):\n",
    "        trad = {ll[i]: str(perm[i]) for i in range(len(ll))}\n",
    "        if convert(words, trad):\n",
    "            count += 1\n",
    "    return count\n",
    "\n",
    "solve(\"MARS + SATURNE + NEPTUNE = PLANETES\")"
   ]
  },
  {
   "cell_type": "code",
   "execution_count": null,
   "metadata": {},
   "outputs": [],
   "source": [
    "dir(\"\")"
   ]
  },
  {
   "cell_type": "code",
   "execution_count": null,
   "metadata": {},
   "outputs": [],
   "source": []
  }
 ],
 "metadata": {
  "kernelspec": {
   "display_name": "Python 3",
   "language": "python",
   "name": "python3"
  },
  "language_info": {
   "codemirror_mode": {
    "name": "ipython",
    "version": 3
   },
   "file_extension": ".py",
   "mimetype": "text/x-python",
   "name": "python",
   "nbconvert_exporter": "python",
   "pygments_lexer": "ipython3",
   "version": "3.7.3"
  }
 },
 "nbformat": 4,
 "nbformat_minor": 2
}
