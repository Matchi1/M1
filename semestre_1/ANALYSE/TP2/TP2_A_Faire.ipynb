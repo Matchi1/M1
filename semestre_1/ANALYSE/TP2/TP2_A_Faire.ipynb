{
 "cells": [
  {
   "cell_type": "markdown",
   "metadata": {},
   "source": [
    "### Pour ce TP 2 vous n'aurez pas d'indication sur la routine d'analyse notamment les NAN, les min, les max, les describe etc. bref ce qui a été vu au cours précédent. \n",
    "### Les exercices ne sont pas forcément à faire dans l'ordre !"
   ]
  },
  {
   "cell_type": "markdown",
   "metadata": {},
   "source": [
    "# Partie 1 : Étude de la liaison entre variables quantitatives"
   ]
  },
  {
   "cell_type": "markdown",
   "metadata": {},
   "source": [
    "## DataSet : \"Voiture_Conso.xlsx\""
   ]
  },
  {
   "cell_type": "raw",
   "metadata": {},
   "source": [
    "L'enjeu pour ce DataSet est d'étudier les relations entre les véhicules, leur cylindrée, Puissance Poids et Conso afin d'aboutir à une/plusieurs droites de regréssion permettant de \"modéliser\" leur rapport. \n",
    "Vous noterez que les échelles ne sont pas les mêmes donc pour des corrélation ou autre il faudra peut être standardiser.\n",
    "L'enjeu est de déterminer le meilleur lien entre toutes ces caractéristiques pour par exemple permettre à un \"futur acheteur\" de se \"projeter\". \n",
    "Et aussi pourquoi ne pas ajouter un champs \"Pays de fabrication\" pour faire appaître des \"sous-populations\". Ce champs permettrait de faire des comparaisons moyenne de consommation entre pays par exemple, de puissance ou autre ..."
   ]
  },
  {
   "cell_type": "code",
   "execution_count": 1,
   "metadata": {},
   "outputs": [],
   "source": [
    "import pandas as pd\n",
    "import seaborn as sns\n",
    "import scipy.stats\n",
    "import matplotlib.pyplot as plt\n",
    "import numpy as np\n",
    "\n",
    "# df = pd.read_csv(\"Voiture_Conso.csv\", delimiter=\"|\")\n",
    "df = pd.read_excel(\"Voiture_Conso.xlsx\")"
   ]
  },
  {
   "cell_type": "code",
   "execution_count": 2,
   "metadata": {},
   "outputs": [
    {
     "data": {
      "text/html": [
       "<div>\n",
       "<style scoped>\n",
       "    .dataframe tbody tr th:only-of-type {\n",
       "        vertical-align: middle;\n",
       "    }\n",
       "\n",
       "    .dataframe tbody tr th {\n",
       "        vertical-align: top;\n",
       "    }\n",
       "\n",
       "    .dataframe thead th {\n",
       "        text-align: right;\n",
       "    }\n",
       "</style>\n",
       "<table border=\"1\" class=\"dataframe\">\n",
       "  <thead>\n",
       "    <tr style=\"text-align: right;\">\n",
       "      <th></th>\n",
       "      <th>Numero</th>\n",
       "      <th>Modele</th>\n",
       "      <th>Cylindree</th>\n",
       "      <th>Puissance</th>\n",
       "      <th>Poids</th>\n",
       "      <th>Conso</th>\n",
       "    </tr>\n",
       "  </thead>\n",
       "  <tbody>\n",
       "    <tr>\n",
       "      <th>0</th>\n",
       "      <td>1</td>\n",
       "      <td>Daihatsu Cuore</td>\n",
       "      <td>846</td>\n",
       "      <td>32</td>\n",
       "      <td>650</td>\n",
       "      <td>5.7</td>\n",
       "    </tr>\n",
       "    <tr>\n",
       "      <th>1</th>\n",
       "      <td>2</td>\n",
       "      <td>Suzuki Swift 1.0 GLS</td>\n",
       "      <td>993</td>\n",
       "      <td>39</td>\n",
       "      <td>790</td>\n",
       "      <td>5.8</td>\n",
       "    </tr>\n",
       "    <tr>\n",
       "      <th>2</th>\n",
       "      <td>3</td>\n",
       "      <td>Fiat Panda Mambo L</td>\n",
       "      <td>899</td>\n",
       "      <td>29</td>\n",
       "      <td>730</td>\n",
       "      <td>6.1</td>\n",
       "    </tr>\n",
       "    <tr>\n",
       "      <th>3</th>\n",
       "      <td>4</td>\n",
       "      <td>VW Polo 1.4 60</td>\n",
       "      <td>1390</td>\n",
       "      <td>44</td>\n",
       "      <td>955</td>\n",
       "      <td>6.5</td>\n",
       "    </tr>\n",
       "    <tr>\n",
       "      <th>4</th>\n",
       "      <td>5</td>\n",
       "      <td>Opel Corsa 1.2i Eco</td>\n",
       "      <td>1195</td>\n",
       "      <td>33</td>\n",
       "      <td>895</td>\n",
       "      <td>6.8</td>\n",
       "    </tr>\n",
       "  </tbody>\n",
       "</table>\n",
       "</div>"
      ],
      "text/plain": [
       "   Numero                Modele  Cylindree   Puissance   Poids   Conso\n",
       "0       1        Daihatsu Cuore         846          32     650    5.7\n",
       "1       2  Suzuki Swift 1.0 GLS         993          39     790    5.8\n",
       "2       3    Fiat Panda Mambo L         899          29     730    6.1\n",
       "3       4        VW Polo 1.4 60        1390          44     955    6.5\n",
       "4       5   Opel Corsa 1.2i Eco        1195          33     895    6.8"
      ]
     },
     "execution_count": 2,
     "metadata": {},
     "output_type": "execute_result"
    }
   ],
   "source": [
    "df.head()"
   ]
  },
  {
   "cell_type": "code",
   "execution_count": 3,
   "metadata": {},
   "outputs": [
    {
     "name": "stdout",
     "output_type": "stream",
     "text": [
      "<class 'pandas.core.frame.DataFrame'>\n",
      "RangeIndex: 28 entries, 0 to 27\n",
      "Data columns (total 6 columns):\n",
      " #   Column      Non-Null Count  Dtype  \n",
      "---  ------      --------------  -----  \n",
      " 0   Numero      28 non-null     int64  \n",
      " 1   Modele      28 non-null     object \n",
      " 2   Cylindree   28 non-null     int64  \n",
      " 3   Puissance   28 non-null     int64  \n",
      " 4   Poids       28 non-null     int64  \n",
      " 5   Conso       28 non-null     float64\n",
      "dtypes: float64(1), int64(4), object(1)\n",
      "memory usage: 1.4+ KB\n"
     ]
    }
   ],
   "source": [
    "df.info()"
   ]
  },
  {
   "cell_type": "code",
   "execution_count": 4,
   "metadata": {},
   "outputs": [
    {
     "data": {
      "text/plain": [
       "array(['Daihatsu Cuore', 'Suzuki Swift 1.0 GLS', 'Fiat Panda Mambo L',\n",
       "       'VW Polo 1.4 60', 'Opel Corsa 1.2i Eco', 'Subaru Vivio 4WD',\n",
       "       'Toyota Corolla', 'Opel Astra 1.6i 16V', 'Peugeot 306 XS 108',\n",
       "       'Renault Safrane 2.2. V', 'Seat Ibiza 2.0 GTI', 'VW Golt 2.0 GTI',\n",
       "       'Citroen ZX Volcane', 'Fiat Tempra 1.6 Liberty',\n",
       "       'Fort Escort 1.4i PT', 'Honda Civic Joker 1.4', 'Volvo 850 2.5',\n",
       "       'Ford Fiesta 1.2 Zetec', 'Hyundai Sonata 3000', 'Lancia K 3.0 LS',\n",
       "       'Mazda Hachtback V', 'Mitsubishi Galant', 'Opel Omega 2.5i V6',\n",
       "       'Peugeot 806 2.0', 'Nissan Primera 2.0', 'Seat Alhambra 2.0',\n",
       "       'Toyota Previa salon', 'Volvo 960 Kombi aut'], dtype=object)"
      ]
     },
     "execution_count": 4,
     "metadata": {},
     "output_type": "execute_result"
    }
   ],
   "source": [
    "df.Modele.unique()"
   ]
  },
  {
   "cell_type": "code",
   "execution_count": 5,
   "metadata": {},
   "outputs": [
    {
     "data": {
      "text/html": [
       "<div>\n",
       "<style scoped>\n",
       "    .dataframe tbody tr th:only-of-type {\n",
       "        vertical-align: middle;\n",
       "    }\n",
       "\n",
       "    .dataframe tbody tr th {\n",
       "        vertical-align: top;\n",
       "    }\n",
       "\n",
       "    .dataframe thead th {\n",
       "        text-align: right;\n",
       "    }\n",
       "</style>\n",
       "<table border=\"1\" class=\"dataframe\">\n",
       "  <thead>\n",
       "    <tr style=\"text-align: right;\">\n",
       "      <th></th>\n",
       "      <th>Numero</th>\n",
       "      <th>Modele</th>\n",
       "      <th>Cylindree</th>\n",
       "      <th>Puissance</th>\n",
       "      <th>Poids</th>\n",
       "      <th>Conso</th>\n",
       "    </tr>\n",
       "  </thead>\n",
       "  <tbody>\n",
       "    <tr>\n",
       "      <th>0</th>\n",
       "      <td>1</td>\n",
       "      <td>Daihatsu Cuore</td>\n",
       "      <td>846</td>\n",
       "      <td>32</td>\n",
       "      <td>650</td>\n",
       "      <td>5.7</td>\n",
       "    </tr>\n",
       "  </tbody>\n",
       "</table>\n",
       "</div>"
      ],
      "text/plain": [
       "   Numero          Modele  Cylindree   Puissance   Poids   Conso\n",
       "0       1  Daihatsu Cuore         846          32     650    5.7"
      ]
     },
     "execution_count": 5,
     "metadata": {},
     "output_type": "execute_result"
    }
   ],
   "source": [
    "df[df.Modele == \"Daihatsu Cuore\"]"
   ]
  },
  {
   "cell_type": "code",
   "execution_count": 6,
   "metadata": {},
   "outputs": [
    {
     "data": {
      "text/plain": [
       "Index(['Numero', 'Modele', 'Cylindree ', 'Puissance ', 'Poids ', 'Conso'], dtype='object')"
      ]
     },
     "execution_count": 6,
     "metadata": {},
     "output_type": "execute_result"
    }
   ],
   "source": [
    "df.columns"
   ]
  },
  {
   "cell_type": "code",
   "execution_count": 7,
   "metadata": {},
   "outputs": [
    {
     "data": {
      "text/plain": [
       "<AxesSubplot:xlabel='Cylindree ', ylabel='Puissance '>"
      ]
     },
     "execution_count": 7,
     "metadata": {},
     "output_type": "execute_result"
    },
    {
     "data": {
      "image/png": "[encoded data removed]",
      "text/plain": [
       "<Figure size 432x288 with 1 Axes>"
      ]
     },
     "metadata": {
      "needs_background": "light"
     },
     "output_type": "display_data"
    }
   ],
   "source": [
    "df.plot(kind=\"scatter\",x=\"Cylindree \",y=\"Puissance \")"
   ]
  },
  {
   "cell_type": "code",
   "execution_count": 8,
   "metadata": {},
   "outputs": [
    {
     "data": {
      "text/plain": [
       "[<matplotlib.lines.Line2D at 0x7f334a7effd0>]"
      ]
     },
     "execution_count": 8,
     "metadata": {},
     "output_type": "execute_result"
    },
    {
     "data": {
      "image/png": "[encoded data removed]",
      "text/plain": [
       "<Figure size 432x288 with 1 Axes>"
      ]
     },
     "metadata": {
      "needs_background": "light"
     },
     "output_type": "display_data"
    }
   ],
   "source": [
    "\n",
    "xy = np.array([df[\"Cylindree \"], df[\"Puissance \"]])\n",
    "X = np.array(df[\"Cylindree \"])\n",
    "Y = np.array(df[\"Puissance \"])\n",
    "X = X.reshape(-1,1)\n",
    "Y = Y.reshape(-1,1)\n",
    "result = scipy.stats.linregress(xy)\n",
    "\n",
    "ordonne = np.linspace(0,4000,100)\n",
    "\n",
    "a = result.slope\n",
    "b = result.intercept\n",
    "\n",
    "plt.scatter(X,Y)\n",
    "plt.plot(ordonne,a*ordonne+b,color='r')"
   ]
  },
  {
   "cell_type": "code",
   "execution_count": 9,
   "metadata": {},
   "outputs": [
    {
     "data": {
      "image/png": "[encoded data removed]",
      "text/plain": [
       "<Figure size 360x360 with 1 Axes>"
      ]
     },
     "metadata": {
      "needs_background": "light"
     },
     "output_type": "display_data"
    }
   ],
   "source": [
    "sns.lmplot(x=\"Poids \", y=\"Conso\", data=df);"
   ]
  },
  {
   "cell_type": "code",
   "execution_count": 10,
   "metadata": {},
   "outputs": [
    {
     "data": {
      "image/png": "[encoded data removed]",
      "text/plain": [
       "<Figure size 576x432 with 2 Axes>"
      ]
     },
     "metadata": {
      "needs_background": "light"
     },
     "output_type": "display_data"
    }
   ],
   "source": [
    "corr_df = df.corr(method='pearson')\n",
    "\n",
    "plt.figure(figsize=(8, 6))\n",
    "sns.heatmap(corr_df, annot=True)\n",
    "plt.show()"
   ]
  },
  {
   "cell_type": "markdown",
   "metadata": {},
   "source": [
    "# Partie 2 : Étude de la liaison entre variables qualitatives"
   ]
  },
  {
   "cell_type": "markdown",
   "metadata": {},
   "source": [
    "## DataSet 2.1 \"Quantitatif.txt\" (vu en cours)"
   ]
  },
  {
   "cell_type": "raw",
   "metadata": {},
   "source": [
    "Il s'agit de reprendre ce qui a été fait en cours ... pour ce faire la main ! En particulier sur les pivot_table, les crosstab et aussi why not les Groupby. Vous aurez la liberté de faire autant de croisement que vous voulez et autant de graphique que vous voulez. D'ailleurs comment pourrait on faire pour afficher sur un même schéma toutes ces données qualitatives ?"
   ]
  },
  {
   "cell_type": "code",
   "execution_count": 11,
   "metadata": {},
   "outputs": [],
   "source": [
    "df = pd.read_table(\"qualitatif.txt\", delimiter=\" \")"
   ]
  },
  {
   "cell_type": "code",
   "execution_count": 12,
   "metadata": {},
   "outputs": [
    {
     "data": {
      "text/html": [
       "<div>\n",
       "<style scoped>\n",
       "    .dataframe tbody tr th:only-of-type {\n",
       "        vertical-align: middle;\n",
       "    }\n",
       "\n",
       "    .dataframe tbody tr th {\n",
       "        vertical-align: top;\n",
       "    }\n",
       "\n",
       "    .dataframe thead th {\n",
       "        text-align: right;\n",
       "    }\n",
       "</style>\n",
       "<table border=\"1\" class=\"dataframe\">\n",
       "  <thead>\n",
       "    <tr style=\"text-align: right;\">\n",
       "      <th></th>\n",
       "      <th>cheveux</th>\n",
       "      <th>yeux</th>\n",
       "      <th>sexe</th>\n",
       "    </tr>\n",
       "  </thead>\n",
       "  <tbody>\n",
       "    <tr>\n",
       "      <th>0</th>\n",
       "      <td>Noir</td>\n",
       "      <td>Marron</td>\n",
       "      <td>Male</td>\n",
       "    </tr>\n",
       "    <tr>\n",
       "      <th>1</th>\n",
       "      <td>Blond</td>\n",
       "      <td>Bleu</td>\n",
       "      <td>Femelle</td>\n",
       "    </tr>\n",
       "    <tr>\n",
       "      <th>2</th>\n",
       "      <td>Noir</td>\n",
       "      <td>Bleu</td>\n",
       "      <td>Male</td>\n",
       "    </tr>\n",
       "    <tr>\n",
       "      <th>3</th>\n",
       "      <td>Marron</td>\n",
       "      <td>Marron</td>\n",
       "      <td>Femelle</td>\n",
       "    </tr>\n",
       "    <tr>\n",
       "      <th>4</th>\n",
       "      <td>Roux</td>\n",
       "      <td>Marron</td>\n",
       "      <td>Male</td>\n",
       "    </tr>\n",
       "  </tbody>\n",
       "</table>\n",
       "</div>"
      ],
      "text/plain": [
       "  cheveux    yeux     sexe\n",
       "0    Noir  Marron     Male\n",
       "1   Blond    Bleu  Femelle\n",
       "2    Noir    Bleu     Male\n",
       "3  Marron  Marron  Femelle\n",
       "4    Roux  Marron     Male"
      ]
     },
     "execution_count": 12,
     "metadata": {},
     "output_type": "execute_result"
    }
   ],
   "source": [
    "df.head()"
   ]
  },
  {
   "cell_type": "code",
   "execution_count": 13,
   "metadata": {},
   "outputs": [
    {
     "data": {
      "text/plain": [
       "Index(['cheveux', 'yeux', 'sexe'], dtype='object')"
      ]
     },
     "execution_count": 13,
     "metadata": {},
     "output_type": "execute_result"
    }
   ],
   "source": [
    "df.columns"
   ]
  },
  {
   "cell_type": "code",
   "execution_count": 14,
   "metadata": {},
   "outputs": [
    {
     "data": {
      "text/html": [
       "<div>\n",
       "<style scoped>\n",
       "    .dataframe tbody tr th:only-of-type {\n",
       "        vertical-align: middle;\n",
       "    }\n",
       "\n",
       "    .dataframe tbody tr th {\n",
       "        vertical-align: top;\n",
       "    }\n",
       "\n",
       "    .dataframe thead th {\n",
       "        text-align: right;\n",
       "    }\n",
       "</style>\n",
       "<table border=\"1\" class=\"dataframe\">\n",
       "  <thead>\n",
       "    <tr style=\"text-align: right;\">\n",
       "      <th>yeux</th>\n",
       "      <th>Bleu</th>\n",
       "      <th>Marron</th>\n",
       "      <th>Noisette</th>\n",
       "      <th>Vert</th>\n",
       "      <th>All</th>\n",
       "    </tr>\n",
       "    <tr>\n",
       "      <th>cheveux</th>\n",
       "      <th></th>\n",
       "      <th></th>\n",
       "      <th></th>\n",
       "      <th></th>\n",
       "      <th></th>\n",
       "    </tr>\n",
       "  </thead>\n",
       "  <tbody>\n",
       "    <tr>\n",
       "      <th>Blond</th>\n",
       "      <td>94</td>\n",
       "      <td>7</td>\n",
       "      <td>10</td>\n",
       "      <td>16</td>\n",
       "      <td>127</td>\n",
       "    </tr>\n",
       "    <tr>\n",
       "      <th>Marron</th>\n",
       "      <td>84</td>\n",
       "      <td>119</td>\n",
       "      <td>54</td>\n",
       "      <td>29</td>\n",
       "      <td>286</td>\n",
       "    </tr>\n",
       "    <tr>\n",
       "      <th>Noir</th>\n",
       "      <td>20</td>\n",
       "      <td>68</td>\n",
       "      <td>15</td>\n",
       "      <td>5</td>\n",
       "      <td>108</td>\n",
       "    </tr>\n",
       "    <tr>\n",
       "      <th>Roux</th>\n",
       "      <td>17</td>\n",
       "      <td>26</td>\n",
       "      <td>14</td>\n",
       "      <td>14</td>\n",
       "      <td>71</td>\n",
       "    </tr>\n",
       "    <tr>\n",
       "      <th>All</th>\n",
       "      <td>215</td>\n",
       "      <td>220</td>\n",
       "      <td>93</td>\n",
       "      <td>64</td>\n",
       "      <td>592</td>\n",
       "    </tr>\n",
       "  </tbody>\n",
       "</table>\n",
       "</div>"
      ],
      "text/plain": [
       "yeux     Bleu  Marron  Noisette  Vert  All\n",
       "cheveux                                   \n",
       "Blond      94       7        10    16  127\n",
       "Marron     84     119        54    29  286\n",
       "Noir       20      68        15     5  108\n",
       "Roux       17      26        14    14   71\n",
       "All       215     220        93    64  592"
      ]
     },
     "execution_count": 14,
     "metadata": {},
     "output_type": "execute_result"
    }
   ],
   "source": [
    "pd.crosstab(df.cheveux, df.yeux, margins=True)"
   ]
  },
  {
   "cell_type": "code",
   "execution_count": 15,
   "metadata": {},
   "outputs": [
    {
     "data": {
      "text/html": [
       "<div>\n",
       "<style scoped>\n",
       "    .dataframe tbody tr th:only-of-type {\n",
       "        vertical-align: middle;\n",
       "    }\n",
       "\n",
       "    .dataframe tbody tr th {\n",
       "        vertical-align: top;\n",
       "    }\n",
       "\n",
       "    .dataframe thead th {\n",
       "        text-align: right;\n",
       "    }\n",
       "</style>\n",
       "<table border=\"1\" class=\"dataframe\">\n",
       "  <thead>\n",
       "    <tr style=\"text-align: right;\">\n",
       "      <th></th>\n",
       "      <th>yeux</th>\n",
       "      <th>Bleu</th>\n",
       "      <th>Marron</th>\n",
       "      <th>Noisette</th>\n",
       "      <th>Vert</th>\n",
       "      <th>All</th>\n",
       "    </tr>\n",
       "    <tr>\n",
       "      <th>cheveux</th>\n",
       "      <th>sexe</th>\n",
       "      <th></th>\n",
       "      <th></th>\n",
       "      <th></th>\n",
       "      <th></th>\n",
       "      <th></th>\n",
       "    </tr>\n",
       "  </thead>\n",
       "  <tbody>\n",
       "    <tr>\n",
       "      <th rowspan=\"2\" valign=\"top\">Blond</th>\n",
       "      <th>Femelle</th>\n",
       "      <td>64</td>\n",
       "      <td>4</td>\n",
       "      <td>5</td>\n",
       "      <td>8</td>\n",
       "      <td>81</td>\n",
       "    </tr>\n",
       "    <tr>\n",
       "      <th>Male</th>\n",
       "      <td>30</td>\n",
       "      <td>3</td>\n",
       "      <td>5</td>\n",
       "      <td>8</td>\n",
       "      <td>46</td>\n",
       "    </tr>\n",
       "    <tr>\n",
       "      <th rowspan=\"2\" valign=\"top\">Marron</th>\n",
       "      <th>Femelle</th>\n",
       "      <td>34</td>\n",
       "      <td>81</td>\n",
       "      <td>29</td>\n",
       "      <td>14</td>\n",
       "      <td>158</td>\n",
       "    </tr>\n",
       "    <tr>\n",
       "      <th>Male</th>\n",
       "      <td>50</td>\n",
       "      <td>38</td>\n",
       "      <td>25</td>\n",
       "      <td>15</td>\n",
       "      <td>128</td>\n",
       "    </tr>\n",
       "    <tr>\n",
       "      <th rowspan=\"2\" valign=\"top\">Noir</th>\n",
       "      <th>Femelle</th>\n",
       "      <td>9</td>\n",
       "      <td>36</td>\n",
       "      <td>5</td>\n",
       "      <td>2</td>\n",
       "      <td>52</td>\n",
       "    </tr>\n",
       "    <tr>\n",
       "      <th>Male</th>\n",
       "      <td>11</td>\n",
       "      <td>32</td>\n",
       "      <td>10</td>\n",
       "      <td>3</td>\n",
       "      <td>56</td>\n",
       "    </tr>\n",
       "    <tr>\n",
       "      <th rowspan=\"2\" valign=\"top\">Roux</th>\n",
       "      <th>Femelle</th>\n",
       "      <td>7</td>\n",
       "      <td>16</td>\n",
       "      <td>7</td>\n",
       "      <td>7</td>\n",
       "      <td>37</td>\n",
       "    </tr>\n",
       "    <tr>\n",
       "      <th>Male</th>\n",
       "      <td>10</td>\n",
       "      <td>10</td>\n",
       "      <td>7</td>\n",
       "      <td>7</td>\n",
       "      <td>34</td>\n",
       "    </tr>\n",
       "    <tr>\n",
       "      <th>All</th>\n",
       "      <th></th>\n",
       "      <td>215</td>\n",
       "      <td>220</td>\n",
       "      <td>93</td>\n",
       "      <td>64</td>\n",
       "      <td>592</td>\n",
       "    </tr>\n",
       "  </tbody>\n",
       "</table>\n",
       "</div>"
      ],
      "text/plain": [
       "yeux             Bleu  Marron  Noisette  Vert  All\n",
       "cheveux sexe                                      \n",
       "Blond   Femelle    64       4         5     8   81\n",
       "        Male       30       3         5     8   46\n",
       "Marron  Femelle    34      81        29    14  158\n",
       "        Male       50      38        25    15  128\n",
       "Noir    Femelle     9      36         5     2   52\n",
       "        Male       11      32        10     3   56\n",
       "Roux    Femelle     7      16         7     7   37\n",
       "        Male       10      10         7     7   34\n",
       "All               215     220        93    64  592"
      ]
     },
     "execution_count": 15,
     "metadata": {},
     "output_type": "execute_result"
    }
   ],
   "source": [
    "pd.crosstab([df.cheveux, df.sexe], df.yeux, margins=True)"
   ]
  },
  {
   "cell_type": "code",
   "execution_count": 16,
   "metadata": {},
   "outputs": [
    {
     "data": {
      "text/plain": [
       "<AxesSubplot:xlabel='cheveux'>"
      ]
     },
     "execution_count": 16,
     "metadata": {},
     "output_type": "execute_result"
    },
    {
     "data": {
      "image/png": "[encoded data removed]",
      "text/plain": [
       "<Figure size 432x288 with 1 Axes>"
      ]
     },
     "metadata": {
      "needs_background": "light"
     },
     "output_type": "display_data"
    }
   ],
   "source": [
    "pd.crosstab(df.cheveux, df.yeux, margins=True, normalize=True).plot.bar(stacked=True)"
   ]
  },
  {
   "cell_type": "code",
   "execution_count": 17,
   "metadata": {},
   "outputs": [
    {
     "data": {
      "text/plain": [
       "<AxesSubplot:xlabel='cheveux'>"
      ]
     },
     "execution_count": 17,
     "metadata": {},
     "output_type": "execute_result"
    },
    {
     "data": {
      "image/png": "[encoded data removed]",
      "text/plain": [
       "<Figure size 432x288 with 1 Axes>"
      ]
     },
     "metadata": {
      "needs_background": "light"
     },
     "output_type": "display_data"
    }
   ],
   "source": [
    "pd.crosstab(df.cheveux, df.yeux, margins=True, normalize=True).plot.bar(stacked=False)"
   ]
  },
  {
   "cell_type": "code",
   "execution_count": 18,
   "metadata": {},
   "outputs": [
    {
     "data": {
      "text/plain": [
       "<AxesSubplot:xlabel='cheveux,yeux'>"
      ]
     },
     "execution_count": 18,
     "metadata": {},
     "output_type": "execute_result"
    },
    {
     "data": {
      "image/png": "[encoded data removed]",
      "text/plain": [
       "<Figure size 432x288 with 1 Axes>"
      ]
     },
     "metadata": {
      "needs_background": "light"
     },
     "output_type": "display_data"
    }
   ],
   "source": [
    "df.groupby(['cheveux', 'yeux']).count().plot.bar()"
   ]
  },
  {
   "cell_type": "markdown",
   "metadata": {},
   "source": [
    "## DataSet 2.2 (intégré dans le code) Indépendance de variable qualitatives"
   ]
  },
  {
   "cell_type": "markdown",
   "metadata": {},
   "source": [
    "Aujourd’hui, il vous prend la soudaine envie de faire des statistiques sur les habitants de votre ville. Vous souhaitez connaître leurs boissons préférées parmi celles-ci : café, thé, eau, ou autre.\n",
    "\n",
    "Vous réalisez donc votre enquête en vous rendant dans les cafés pour observer discrètement les clients et noter la boisson qu’ils ont commandé. Vous souhaitez rassembler un échantillon de 100 personnes. Pour chacune d’elle, vous avez noté la boisson commandée et le nom du café dans lequel vous l’avez observée. On appellera ces deux variables nom café et boisson préférée . Voici la distribution que vous obtenez pour la variable boisson préférée:\n",
    "\n",
    "    café : 50 personnes sur 100, soit f(cafe) = 50 %\n",
    "    thé : 30 personnes sur 100, soit f(the) = 30 %\n",
    "    autres boissons : 20 personnes sur 100, soit f(autre)= 20 %\n",
    "\n",
    "Vous continuez votre enquête en vous rendant dans un café où il y a 10 clients. Combien de personnes vous attendez-vous à voir face à un thé ? Intuitivement, vous vous attendez à trouver 3 personnes qui ont commandé un thé car vous savez qu’en général, 30 % des personnes commandent un thé. Vous avez donc réalisé le calcul suivant : 30%*10 = 3.\n",
    "De même, vous vous attentez à voir 5 personnes avec un café, et 2 personnes avec d’autres boissons.\n",
    "\n",
    "A votre grande surprise, il y a en fait 9 personnes avec du thé, et seulement 1 avec un café ! Cela diffère beaucoup de ce à quoi vous vous attentiez : il y a 90 % de personnes qui boivent du thé. C'est peut-être un hasard, alors vous décidez de revenir régulièrement pour savoir si ce 90 % se confirme de jour en jour ou pas. Effectivement, ce pourcentage reste à peu près constant même après de nombreuses observations !\n",
    "\n",
    "Mais vous comprenez vite pourquoi en regardant le nom du café : « Salon de thé Chez Luc ». Vous êtes dans un café un peu spécial : c’est un salon de thé ! Les clients qui fréquentent cet endroit sont donc principalement des amateurs de thé.\n",
    "\n",
    "On dit alors que le fait d’aimer le thé et le fait de fréquenter le salon de thé Chez Luc ne sont pas indépendants. Si deux événements ne sont pas indépendants, alors on s’attend à trouver une corrélation entre ceux-ci. Vous souvenez de la question que l'on se pose pour les corrélations : Sachant que l'on connaît la valeur d'une variable, peut-on avoir une indication un peu plus précise sur la valeur d'une autre variable ?\n",
    "\n",
    "QUESTION : Sachant qu’une personne fréquente le café Salon de thé Chez Luc, peut-on avoir une indication un peu plus précise sur sa boisson préférée ?\n",
    "\n",
    "A FAIRE : utilisation du Khi_2 ... et bien sur tout ce qui va avant, tableau de contingence etc ..."
   ]
  },
  {
   "cell_type": "code",
   "execution_count": 19,
   "metadata": {},
   "outputs": [],
   "source": [
    "# DataSet de votre enquête\n",
    "# touchez à rien !\n",
    "\n",
    "X = [\"Chez Luc\"]*10\n",
    "X.extend([\"Au café Dembas\"]*20)\n",
    "X.extend([\"Au café Ducoing\"]*40)\n",
    "X.extend([\"Chez Sarah\"]*30)\n",
    " \n",
    "Y = [\"Café\"]*1\n",
    "Y.extend([\"Thé\"]*9)\n",
    "Y.extend([\"Autre\"]*0)\n",
    " \n",
    "Y.extend([\"Café\"]*9)\n",
    "Y.extend([\"Thé\"]*6)\n",
    "Y.extend([\"Autre\"]*5)\n",
    " \n",
    "Y.extend([\"Café\"]*20)\n",
    "Y.extend([\"Thé\"]*10)\n",
    "Y.extend([\"Autre\"]*10)\n",
    " \n",
    "Y.extend([\"Café\"]*20)\n",
    "Y.extend([\"Thé\"]*5)\n",
    "Y.extend([\"Autre\"]*5)\n",
    " \n",
    "data = {\n",
    "    'bar':X,\n",
    "    'boisson':Y\n",
    "}\n",
    "df_Khi2 = pd.DataFrame(data)"
   ]
  },
  {
   "cell_type": "code",
   "execution_count": 20,
   "metadata": {},
   "outputs": [
    {
     "data": {
      "text/html": [
       "<div>\n",
       "<style scoped>\n",
       "    .dataframe tbody tr th:only-of-type {\n",
       "        vertical-align: middle;\n",
       "    }\n",
       "\n",
       "    .dataframe tbody tr th {\n",
       "        vertical-align: top;\n",
       "    }\n",
       "\n",
       "    .dataframe thead th {\n",
       "        text-align: right;\n",
       "    }\n",
       "</style>\n",
       "<table border=\"1\" class=\"dataframe\">\n",
       "  <thead>\n",
       "    <tr style=\"text-align: right;\">\n",
       "      <th></th>\n",
       "      <th>bar</th>\n",
       "      <th>boisson</th>\n",
       "    </tr>\n",
       "  </thead>\n",
       "  <tbody>\n",
       "    <tr>\n",
       "      <th>0</th>\n",
       "      <td>Chez Luc</td>\n",
       "      <td>Café</td>\n",
       "    </tr>\n",
       "    <tr>\n",
       "      <th>1</th>\n",
       "      <td>Chez Luc</td>\n",
       "      <td>Thé</td>\n",
       "    </tr>\n",
       "    <tr>\n",
       "      <th>2</th>\n",
       "      <td>Chez Luc</td>\n",
       "      <td>Thé</td>\n",
       "    </tr>\n",
       "    <tr>\n",
       "      <th>3</th>\n",
       "      <td>Chez Luc</td>\n",
       "      <td>Thé</td>\n",
       "    </tr>\n",
       "    <tr>\n",
       "      <th>4</th>\n",
       "      <td>Chez Luc</td>\n",
       "      <td>Thé</td>\n",
       "    </tr>\n",
       "  </tbody>\n",
       "</table>\n",
       "</div>"
      ],
      "text/plain": [
       "        bar boisson\n",
       "0  Chez Luc    Café\n",
       "1  Chez Luc     Thé\n",
       "2  Chez Luc     Thé\n",
       "3  Chez Luc     Thé\n",
       "4  Chez Luc     Thé"
      ]
     },
     "execution_count": 20,
     "metadata": {},
     "output_type": "execute_result"
    }
   ],
   "source": [
    "df_Khi2.head()"
   ]
  },
  {
   "cell_type": "code",
   "execution_count": 21,
   "metadata": {},
   "outputs": [
    {
     "data": {
      "text/html": [
       "<div>\n",
       "<style scoped>\n",
       "    .dataframe tbody tr th:only-of-type {\n",
       "        vertical-align: middle;\n",
       "    }\n",
       "\n",
       "    .dataframe tbody tr th {\n",
       "        vertical-align: top;\n",
       "    }\n",
       "\n",
       "    .dataframe thead th {\n",
       "        text-align: right;\n",
       "    }\n",
       "</style>\n",
       "<table border=\"1\" class=\"dataframe\">\n",
       "  <thead>\n",
       "    <tr style=\"text-align: right;\">\n",
       "      <th></th>\n",
       "      <th>boisson</th>\n",
       "    </tr>\n",
       "    <tr>\n",
       "      <th>bar</th>\n",
       "      <th></th>\n",
       "    </tr>\n",
       "  </thead>\n",
       "  <tbody>\n",
       "    <tr>\n",
       "      <th>Au café Dembas</th>\n",
       "      <td>20</td>\n",
       "    </tr>\n",
       "    <tr>\n",
       "      <th>Au café Ducoing</th>\n",
       "      <td>40</td>\n",
       "    </tr>\n",
       "    <tr>\n",
       "      <th>Chez Luc</th>\n",
       "      <td>10</td>\n",
       "    </tr>\n",
       "    <tr>\n",
       "      <th>Chez Sarah</th>\n",
       "      <td>30</td>\n",
       "    </tr>\n",
       "  </tbody>\n",
       "</table>\n",
       "</div>"
      ],
      "text/plain": [
       "                 boisson\n",
       "bar                     \n",
       "Au café Dembas        20\n",
       "Au café Ducoing       40\n",
       "Chez Luc              10\n",
       "Chez Sarah            30"
      ]
     },
     "execution_count": 21,
     "metadata": {},
     "output_type": "execute_result"
    }
   ],
   "source": [
    "df_Khi2.groupby(['bar']).count()"
   ]
  },
  {
   "cell_type": "code",
   "execution_count": 22,
   "metadata": {},
   "outputs": [
    {
     "data": {
      "text/html": [
       "<div>\n",
       "<style scoped>\n",
       "    .dataframe tbody tr th:only-of-type {\n",
       "        vertical-align: middle;\n",
       "    }\n",
       "\n",
       "    .dataframe tbody tr th {\n",
       "        vertical-align: top;\n",
       "    }\n",
       "\n",
       "    .dataframe thead th {\n",
       "        text-align: right;\n",
       "    }\n",
       "</style>\n",
       "<table border=\"1\" class=\"dataframe\">\n",
       "  <thead>\n",
       "    <tr style=\"text-align: right;\">\n",
       "      <th></th>\n",
       "      <th>bar</th>\n",
       "      <th>boisson_Autre</th>\n",
       "      <th>boisson_Café</th>\n",
       "      <th>boisson_Thé</th>\n",
       "    </tr>\n",
       "  </thead>\n",
       "  <tbody>\n",
       "    <tr>\n",
       "      <th>0</th>\n",
       "      <td>Chez Luc</td>\n",
       "      <td>0</td>\n",
       "      <td>1</td>\n",
       "      <td>0</td>\n",
       "    </tr>\n",
       "    <tr>\n",
       "      <th>1</th>\n",
       "      <td>Chez Luc</td>\n",
       "      <td>0</td>\n",
       "      <td>0</td>\n",
       "      <td>1</td>\n",
       "    </tr>\n",
       "    <tr>\n",
       "      <th>2</th>\n",
       "      <td>Chez Luc</td>\n",
       "      <td>0</td>\n",
       "      <td>0</td>\n",
       "      <td>1</td>\n",
       "    </tr>\n",
       "    <tr>\n",
       "      <th>3</th>\n",
       "      <td>Chez Luc</td>\n",
       "      <td>0</td>\n",
       "      <td>0</td>\n",
       "      <td>1</td>\n",
       "    </tr>\n",
       "    <tr>\n",
       "      <th>4</th>\n",
       "      <td>Chez Luc</td>\n",
       "      <td>0</td>\n",
       "      <td>0</td>\n",
       "      <td>1</td>\n",
       "    </tr>\n",
       "    <tr>\n",
       "      <th>...</th>\n",
       "      <td>...</td>\n",
       "      <td>...</td>\n",
       "      <td>...</td>\n",
       "      <td>...</td>\n",
       "    </tr>\n",
       "    <tr>\n",
       "      <th>95</th>\n",
       "      <td>Chez Sarah</td>\n",
       "      <td>1</td>\n",
       "      <td>0</td>\n",
       "      <td>0</td>\n",
       "    </tr>\n",
       "    <tr>\n",
       "      <th>96</th>\n",
       "      <td>Chez Sarah</td>\n",
       "      <td>1</td>\n",
       "      <td>0</td>\n",
       "      <td>0</td>\n",
       "    </tr>\n",
       "    <tr>\n",
       "      <th>97</th>\n",
       "      <td>Chez Sarah</td>\n",
       "      <td>1</td>\n",
       "      <td>0</td>\n",
       "      <td>0</td>\n",
       "    </tr>\n",
       "    <tr>\n",
       "      <th>98</th>\n",
       "      <td>Chez Sarah</td>\n",
       "      <td>1</td>\n",
       "      <td>0</td>\n",
       "      <td>0</td>\n",
       "    </tr>\n",
       "    <tr>\n",
       "      <th>99</th>\n",
       "      <td>Chez Sarah</td>\n",
       "      <td>1</td>\n",
       "      <td>0</td>\n",
       "      <td>0</td>\n",
       "    </tr>\n",
       "  </tbody>\n",
       "</table>\n",
       "<p>100 rows × 4 columns</p>\n",
       "</div>"
      ],
      "text/plain": [
       "           bar  boisson_Autre  boisson_Café  boisson_Thé\n",
       "0     Chez Luc              0             1            0\n",
       "1     Chez Luc              0             0            1\n",
       "2     Chez Luc              0             0            1\n",
       "3     Chez Luc              0             0            1\n",
       "4     Chez Luc              0             0            1\n",
       "..         ...            ...           ...          ...\n",
       "95  Chez Sarah              1             0            0\n",
       "96  Chez Sarah              1             0            0\n",
       "97  Chez Sarah              1             0            0\n",
       "98  Chez Sarah              1             0            0\n",
       "99  Chez Sarah              1             0            0\n",
       "\n",
       "[100 rows x 4 columns]"
      ]
     },
     "execution_count": 22,
     "metadata": {},
     "output_type": "execute_result"
    }
   ],
   "source": [
    "encoded_data = pd.get_dummies(data=df_Khi2, columns=['boisson'])\n",
    "encoded_data"
   ]
  },
  {
   "cell_type": "code",
   "execution_count": 44,
   "metadata": {},
   "outputs": [
    {
     "data": {
      "text/html": [
       "<div>\n",
       "<style scoped>\n",
       "    .dataframe tbody tr th:only-of-type {\n",
       "        vertical-align: middle;\n",
       "    }\n",
       "\n",
       "    .dataframe tbody tr th {\n",
       "        vertical-align: top;\n",
       "    }\n",
       "\n",
       "    .dataframe thead th {\n",
       "        text-align: right;\n",
       "    }\n",
       "</style>\n",
       "<table border=\"1\" class=\"dataframe\">\n",
       "  <thead>\n",
       "    <tr style=\"text-align: right;\">\n",
       "      <th></th>\n",
       "      <th>boisson_Autre</th>\n",
       "      <th>boisson_Café</th>\n",
       "      <th>boisson_Thé</th>\n",
       "    </tr>\n",
       "    <tr>\n",
       "      <th>bar</th>\n",
       "      <th></th>\n",
       "      <th></th>\n",
       "      <th></th>\n",
       "    </tr>\n",
       "  </thead>\n",
       "  <tbody>\n",
       "    <tr>\n",
       "      <th>Au café Dembas</th>\n",
       "      <td>20</td>\n",
       "      <td>20</td>\n",
       "      <td>20</td>\n",
       "    </tr>\n",
       "    <tr>\n",
       "      <th>Au café Ducoing</th>\n",
       "      <td>40</td>\n",
       "      <td>40</td>\n",
       "      <td>40</td>\n",
       "    </tr>\n",
       "    <tr>\n",
       "      <th>Chez Luc</th>\n",
       "      <td>10</td>\n",
       "      <td>10</td>\n",
       "      <td>10</td>\n",
       "    </tr>\n",
       "    <tr>\n",
       "      <th>Chez Sarah</th>\n",
       "      <td>30</td>\n",
       "      <td>30</td>\n",
       "      <td>30</td>\n",
       "    </tr>\n",
       "  </tbody>\n",
       "</table>\n",
       "</div>"
      ],
      "text/plain": [
       "                 boisson_Autre  boisson_Café  boisson_Thé\n",
       "bar                                                      \n",
       "Au café Dembas              20            20           20\n",
       "Au café Ducoing             40            40           40\n",
       "Chez Luc                    10            10           10\n",
       "Chez Sarah                  30            30           30"
      ]
     },
     "execution_count": 44,
     "metadata": {},
     "output_type": "execute_result"
    }
   ],
   "source": [
    "encoded_data.groupby(['bar']).count()"
   ]
  },
  {
   "cell_type": "code",
   "execution_count": 41,
   "metadata": {},
   "outputs": [
    {
     "data": {
      "text/plain": [
       "array([[20, 20, 20],\n",
       "       [40, 40, 40],\n",
       "       [10, 10, 10],\n",
       "       [30, 30, 30]])"
      ]
     },
     "execution_count": 41,
     "metadata": {},
     "output_type": "execute_result"
    }
   ],
   "source": [
    "from scipy.stats import chi2_contingency\n",
    "\n",
    "array = np.array(encoded_data.groupby(['bar']).count())\n",
    "array"
   ]
  },
  {
   "cell_type": "code",
   "execution_count": 43,
   "metadata": {},
   "outputs": [
    {
     "data": {
      "text/plain": [
       "array([[10, 10, 20],\n",
       "       [20, 20, 20]])"
      ]
     },
     "execution_count": 43,
     "metadata": {},
     "output_type": "execute_result"
    }
   ],
   "source": [
    "obs = np.array([[10, 10, 20], [20, 20, 20]])\n",
    "obs"
   ]
  },
  {
   "cell_type": "code",
   "execution_count": 46,
   "metadata": {},
   "outputs": [
    {
     "data": {
      "text/plain": [
       "(0.0,\n",
       " 1.0,\n",
       " 6,\n",
       " array([[20., 20., 20.],\n",
       "        [40., 40., 40.],\n",
       "        [10., 10., 10.],\n",
       "        [30., 30., 30.]]))"
      ]
     },
     "execution_count": 46,
     "metadata": {},
     "output_type": "execute_result"
    }
   ],
   "source": [
    "chi2_contingency(array)"
   ]
  },
  {
   "cell_type": "code",
   "execution_count": null,
   "metadata": {},
   "outputs": [],
   "source": []
  }
 ],
 "metadata": {
  "kernelspec": {
   "display_name": "Python 3",
   "language": "python",
   "name": "python3"
  },
  "language_info": {
   "codemirror_mode": {
    "name": "ipython",
    "version": 3
   },
   "file_extension": ".py",
   "mimetype": "text/x-python",
   "name": "python",
   "nbconvert_exporter": "python",
   "pygments_lexer": "ipython3",
   "version": "3.8.5"
  }
 },
 "nbformat": 4,
 "nbformat_minor": 5
}
