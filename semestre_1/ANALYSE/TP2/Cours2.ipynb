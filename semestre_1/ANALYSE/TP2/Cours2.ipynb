{
 "cells": [
  {
   "cell_type": "code",
   "execution_count": 1,
   "metadata": {},
   "outputs": [],
   "source": [
    "import numpy as np\n",
    "import pandas as pd\n",
    "import seaborn as sns\n",
    "import matplotlib.pyplot as plt"
   ]
  },
  {
   "cell_type": "markdown",
   "metadata": {},
   "source": [
    "# I Cours 2 - Première partie : Liaison entre deux variables quantitatives"
   ]
  },
  {
   "cell_type": "code",
   "execution_count": 2,
   "metadata": {},
   "outputs": [
    {
     "data": {
      "text/html": [
       "<div>\n",
       "<style scoped>\n",
       "    .dataframe tbody tr th:only-of-type {\n",
       "        vertical-align: middle;\n",
       "    }\n",
       "\n",
       "    .dataframe tbody tr th {\n",
       "        vertical-align: top;\n",
       "    }\n",
       "\n",
       "    .dataframe thead th {\n",
       "        text-align: right;\n",
       "    }\n",
       "</style>\n",
       "<table border=\"1\" class=\"dataframe\">\n",
       "  <thead>\n",
       "    <tr style=\"text-align: right;\">\n",
       "      <th></th>\n",
       "      <th>Etat</th>\n",
       "      <th>Date</th>\n",
       "      <th>Population</th>\n",
       "      <th>Crime_Violent</th>\n",
       "    </tr>\n",
       "  </thead>\n",
       "  <tbody>\n",
       "    <tr>\n",
       "      <th>count</th>\n",
       "      <td>2341</td>\n",
       "      <td>2341.000000</td>\n",
       "      <td>2.341000e+03</td>\n",
       "      <td>2341.000000</td>\n",
       "    </tr>\n",
       "    <tr>\n",
       "      <th>unique</th>\n",
       "      <td>51</td>\n",
       "      <td>NaN</td>\n",
       "      <td>NaN</td>\n",
       "      <td>NaN</td>\n",
       "    </tr>\n",
       "    <tr>\n",
       "      <th>top</th>\n",
       "      <td>Alabama</td>\n",
       "      <td>NaN</td>\n",
       "      <td>NaN</td>\n",
       "      <td>NaN</td>\n",
       "    </tr>\n",
       "    <tr>\n",
       "      <th>freq</th>\n",
       "      <td>46</td>\n",
       "      <td>NaN</td>\n",
       "      <td>NaN</td>\n",
       "      <td>NaN</td>\n",
       "    </tr>\n",
       "    <tr>\n",
       "      <th>mean</th>\n",
       "      <td>NaN</td>\n",
       "      <td>1982.543785</td>\n",
       "      <td>4.559175e+06</td>\n",
       "      <td>22854.015805</td>\n",
       "    </tr>\n",
       "    <tr>\n",
       "      <th>std</th>\n",
       "      <td>NaN</td>\n",
       "      <td>13.258875</td>\n",
       "      <td>5.041065e+06</td>\n",
       "      <td>38717.581833</td>\n",
       "    </tr>\n",
       "    <tr>\n",
       "      <th>min</th>\n",
       "      <td>NaN</td>\n",
       "      <td>1960.000000</td>\n",
       "      <td>2.261670e+05</td>\n",
       "      <td>37.000000</td>\n",
       "    </tr>\n",
       "    <tr>\n",
       "      <th>25%</th>\n",
       "      <td>NaN</td>\n",
       "      <td>1971.000000</td>\n",
       "      <td>1.111000e+06</td>\n",
       "      <td>2785.000000</td>\n",
       "    </tr>\n",
       "    <tr>\n",
       "      <th>50%</th>\n",
       "      <td>NaN</td>\n",
       "      <td>1983.000000</td>\n",
       "      <td>3.115000e+06</td>\n",
       "      <td>10085.000000</td>\n",
       "    </tr>\n",
       "    <tr>\n",
       "      <th>75%</th>\n",
       "      <td>NaN</td>\n",
       "      <td>1994.000000</td>\n",
       "      <td>5.439692e+06</td>\n",
       "      <td>26093.000000</td>\n",
       "    </tr>\n",
       "    <tr>\n",
       "      <th>max</th>\n",
       "      <td>NaN</td>\n",
       "      <td>2005.000000</td>\n",
       "      <td>3.613215e+07</td>\n",
       "      <td>345624.000000</td>\n",
       "    </tr>\n",
       "  </tbody>\n",
       "</table>\n",
       "</div>"
      ],
      "text/plain": [
       "           Etat         Date    Population  Crime_Violent\n",
       "count      2341  2341.000000  2.341000e+03    2341.000000\n",
       "unique       51          NaN           NaN            NaN\n",
       "top     Alabama          NaN           NaN            NaN\n",
       "freq         46          NaN           NaN            NaN\n",
       "mean        NaN  1982.543785  4.559175e+06   22854.015805\n",
       "std         NaN    13.258875  5.041065e+06   38717.581833\n",
       "min         NaN  1960.000000  2.261670e+05      37.000000\n",
       "25%         NaN  1971.000000  1.111000e+06    2785.000000\n",
       "50%         NaN  1983.000000  3.115000e+06   10085.000000\n",
       "75%         NaN  1994.000000  5.439692e+06   26093.000000\n",
       "max         NaN  2005.000000  3.613215e+07  345624.000000"
      ]
     },
     "execution_count": 2,
     "metadata": {},
     "output_type": "execute_result"
    }
   ],
   "source": [
    "# crime violent aux USA\n",
    "dataCrime = pd.read_csv('CrimeStateDate.csv')\n",
    "dataCrime.describe(include='all')"
   ]
  },
  {
   "cell_type": "code",
   "execution_count": 3,
   "metadata": {},
   "outputs": [
    {
     "name": "stdout",
     "output_type": "stream",
     "text": [
      "<class 'pandas.core.frame.DataFrame'>\n",
      "RangeIndex: 2341 entries, 0 to 2340\n",
      "Data columns (total 4 columns):\n",
      " #   Column         Non-Null Count  Dtype \n",
      "---  ------         --------------  ----- \n",
      " 0   Etat           2341 non-null   object\n",
      " 1   Date           2341 non-null   int64 \n",
      " 2   Population     2341 non-null   int64 \n",
      " 3   Crime_Violent  2341 non-null   int64 \n",
      "dtypes: int64(3), object(1)\n",
      "memory usage: 73.3+ KB\n"
     ]
    }
   ],
   "source": [
    "dataCrime.info()"
   ]
  },
  {
   "cell_type": "code",
   "execution_count": 7,
   "metadata": {},
   "outputs": [
    {
     "data": {
      "text/plain": [
       "array([1960, 1961, 1962, 1963, 1964, 1965, 1966, 1967, 1968, 1969, 1970,\n",
       "       1971, 1972, 1973, 1974, 1975, 1976, 1977, 1978, 1979, 1980, 1981,\n",
       "       1982, 1983, 1984, 1985, 1986, 1987, 1988, 1989, 1990, 1991, 1992,\n",
       "       1993, 1994, 1995, 1996, 1997, 1998, 1999, 2000, 2001, 2002, 2003,\n",
       "       2004, 2005])"
      ]
     },
     "execution_count": 7,
     "metadata": {},
     "output_type": "execute_result"
    }
   ],
   "source": [
    "dfTest=dataCrime.Date.unique()\n",
    "dfTest"
   ]
  },
  {
   "cell_type": "code",
   "execution_count": 8,
   "metadata": {},
   "outputs": [
    {
     "data": {
      "text/plain": [
       "<AxesSubplot:xlabel='Population', ylabel='Crime_Violent'>"
      ]
     },
     "execution_count": 8,
     "metadata": {},
     "output_type": "execute_result"
    },
    {
     "data": {
      "image/png": "[encoded data removed]",
      "text/plain": [
       "<Figure size 432x288 with 1 Axes>"
      ]
     },
     "metadata": {
      "needs_background": "light"
     },
     "output_type": "display_data"
    }
   ],
   "source": [
    "dataCrime[dataCrime.Date==2005].plot(kind=\"scatter\",x=\"Population\",y=\"Crime_Violent\")"
   ]
  },
  {
   "cell_type": "code",
   "execution_count": 10,
   "metadata": {},
   "outputs": [
    {
     "data": {
      "text/html": [
       "<div>\n",
       "<style scoped>\n",
       "    .dataframe tbody tr th:only-of-type {\n",
       "        vertical-align: middle;\n",
       "    }\n",
       "\n",
       "    .dataframe tbody tr th {\n",
       "        vertical-align: top;\n",
       "    }\n",
       "\n",
       "    .dataframe thead th {\n",
       "        text-align: right;\n",
       "    }\n",
       "</style>\n",
       "<table border=\"1\" class=\"dataframe\">\n",
       "  <thead>\n",
       "    <tr style=\"text-align: right;\">\n",
       "      <th></th>\n",
       "      <th>Col A</th>\n",
       "      <th>Col B</th>\n",
       "      <th>Col C</th>\n",
       "      <th>Col D</th>\n",
       "    </tr>\n",
       "  </thead>\n",
       "  <tbody>\n",
       "    <tr>\n",
       "      <th>0</th>\n",
       "      <td>180000</td>\n",
       "      <td>110</td>\n",
       "      <td>18.9</td>\n",
       "      <td>1400</td>\n",
       "    </tr>\n",
       "    <tr>\n",
       "      <th>1</th>\n",
       "      <td>360000</td>\n",
       "      <td>905</td>\n",
       "      <td>23.4</td>\n",
       "      <td>1800</td>\n",
       "    </tr>\n",
       "    <tr>\n",
       "      <th>2</th>\n",
       "      <td>230000</td>\n",
       "      <td>230</td>\n",
       "      <td>14.0</td>\n",
       "      <td>1300</td>\n",
       "    </tr>\n",
       "    <tr>\n",
       "      <th>3</th>\n",
       "      <td>60000</td>\n",
       "      <td>450</td>\n",
       "      <td>13.5</td>\n",
       "      <td>1500</td>\n",
       "    </tr>\n",
       "  </tbody>\n",
       "</table>\n",
       "</div>"
      ],
      "text/plain": [
       "    Col A  Col B  Col C  Col D\n",
       "0  180000    110   18.9   1400\n",
       "1  360000    905   23.4   1800\n",
       "2  230000    230   14.0   1300\n",
       "3   60000    450   13.5   1500"
      ]
     },
     "metadata": {},
     "output_type": "display_data"
    }
   ],
   "source": [
    "# Centrer et réduire les données \n",
    "# create data\n",
    "dfCentrerReduire = pd.DataFrame([\n",
    "                   [180000, 110, 18.9, 1400], \n",
    "                   [360000, 905, 23.4, 1800], \n",
    "                   [230000, 230, 14.0, 1300], \n",
    "                   [60000, 450, 13.5, 1500]], \n",
    "   \n",
    "                   columns=['Col A', 'Col B',\n",
    "                            'Col C', 'Col D'])\n",
    "# view data\n",
    "display(dfCentrerReduire)"
   ]
  },
  {
   "cell_type": "code",
   "execution_count": 11,
   "metadata": {},
   "outputs": [
    {
     "data": {
      "text/html": [
       "<div>\n",
       "<style scoped>\n",
       "    .dataframe tbody tr th:only-of-type {\n",
       "        vertical-align: middle;\n",
       "    }\n",
       "\n",
       "    .dataframe tbody tr th {\n",
       "        vertical-align: top;\n",
       "    }\n",
       "\n",
       "    .dataframe thead th {\n",
       "        text-align: right;\n",
       "    }\n",
       "</style>\n",
       "<table border=\"1\" class=\"dataframe\">\n",
       "  <thead>\n",
       "    <tr style=\"text-align: right;\">\n",
       "      <th></th>\n",
       "      <th>Col A</th>\n",
       "      <th>Col B</th>\n",
       "      <th>Col C</th>\n",
       "      <th>Col D</th>\n",
       "    </tr>\n",
       "  </thead>\n",
       "  <tbody>\n",
       "    <tr>\n",
       "      <th>count</th>\n",
       "      <td>4.000000</td>\n",
       "      <td>4.00000</td>\n",
       "      <td>4.000000</td>\n",
       "      <td>4.00000</td>\n",
       "    </tr>\n",
       "    <tr>\n",
       "      <th>mean</th>\n",
       "      <td>207500.000000</td>\n",
       "      <td>423.75000</td>\n",
       "      <td>17.450000</td>\n",
       "      <td>1500.00000</td>\n",
       "    </tr>\n",
       "    <tr>\n",
       "      <th>std</th>\n",
       "      <td>124197.423484</td>\n",
       "      <td>350.36588</td>\n",
       "      <td>4.655105</td>\n",
       "      <td>216.02469</td>\n",
       "    </tr>\n",
       "    <tr>\n",
       "      <th>min</th>\n",
       "      <td>60000.000000</td>\n",
       "      <td>110.00000</td>\n",
       "      <td>13.500000</td>\n",
       "      <td>1300.00000</td>\n",
       "    </tr>\n",
       "    <tr>\n",
       "      <th>25%</th>\n",
       "      <td>150000.000000</td>\n",
       "      <td>200.00000</td>\n",
       "      <td>13.875000</td>\n",
       "      <td>1375.00000</td>\n",
       "    </tr>\n",
       "    <tr>\n",
       "      <th>50%</th>\n",
       "      <td>205000.000000</td>\n",
       "      <td>340.00000</td>\n",
       "      <td>16.450000</td>\n",
       "      <td>1450.00000</td>\n",
       "    </tr>\n",
       "    <tr>\n",
       "      <th>75%</th>\n",
       "      <td>262500.000000</td>\n",
       "      <td>563.75000</td>\n",
       "      <td>20.025000</td>\n",
       "      <td>1575.00000</td>\n",
       "    </tr>\n",
       "    <tr>\n",
       "      <th>max</th>\n",
       "      <td>360000.000000</td>\n",
       "      <td>905.00000</td>\n",
       "      <td>23.400000</td>\n",
       "      <td>1800.00000</td>\n",
       "    </tr>\n",
       "  </tbody>\n",
       "</table>\n",
       "</div>"
      ],
      "text/plain": [
       "               Col A      Col B      Col C       Col D\n",
       "count       4.000000    4.00000   4.000000     4.00000\n",
       "mean   207500.000000  423.75000  17.450000  1500.00000\n",
       "std    124197.423484  350.36588   4.655105   216.02469\n",
       "min     60000.000000  110.00000  13.500000  1300.00000\n",
       "25%    150000.000000  200.00000  13.875000  1375.00000\n",
       "50%    205000.000000  340.00000  16.450000  1450.00000\n",
       "75%    262500.000000  563.75000  20.025000  1575.00000\n",
       "max    360000.000000  905.00000  23.400000  1800.00000"
      ]
     },
     "execution_count": 11,
     "metadata": {},
     "output_type": "execute_result"
    }
   ],
   "source": [
    "dfCentrerReduire.describe(include='all')"
   ]
  },
  {
   "cell_type": "code",
   "execution_count": 12,
   "metadata": {},
   "outputs": [
    {
     "data": {
      "text/html": [
       "<div>\n",
       "<style scoped>\n",
       "    .dataframe tbody tr th:only-of-type {\n",
       "        vertical-align: middle;\n",
       "    }\n",
       "\n",
       "    .dataframe tbody tr th {\n",
       "        vertical-align: top;\n",
       "    }\n",
       "\n",
       "    .dataframe thead th {\n",
       "        text-align: right;\n",
       "    }\n",
       "</style>\n",
       "<table border=\"1\" class=\"dataframe\">\n",
       "  <thead>\n",
       "    <tr style=\"text-align: right;\">\n",
       "      <th></th>\n",
       "      <th>Col A</th>\n",
       "      <th>Col B</th>\n",
       "      <th>Col C</th>\n",
       "      <th>Col D</th>\n",
       "    </tr>\n",
       "  </thead>\n",
       "  <tbody>\n",
       "    <tr>\n",
       "      <th>0</th>\n",
       "      <td>-0.221422</td>\n",
       "      <td>-0.895492</td>\n",
       "      <td>0.311486</td>\n",
       "      <td>-0.46291</td>\n",
       "    </tr>\n",
       "    <tr>\n",
       "      <th>1</th>\n",
       "      <td>1.227884</td>\n",
       "      <td>1.373564</td>\n",
       "      <td>1.278167</td>\n",
       "      <td>1.38873</td>\n",
       "    </tr>\n",
       "    <tr>\n",
       "      <th>2</th>\n",
       "      <td>0.181163</td>\n",
       "      <td>-0.552993</td>\n",
       "      <td>-0.741122</td>\n",
       "      <td>-0.92582</td>\n",
       "    </tr>\n",
       "    <tr>\n",
       "      <th>3</th>\n",
       "      <td>-1.187625</td>\n",
       "      <td>0.074922</td>\n",
       "      <td>-0.848531</td>\n",
       "      <td>0.00000</td>\n",
       "    </tr>\n",
       "  </tbody>\n",
       "</table>\n",
       "</div>"
      ],
      "text/plain": [
       "      Col A     Col B     Col C    Col D\n",
       "0 -0.221422 -0.895492  0.311486 -0.46291\n",
       "1  1.227884  1.373564  1.278167  1.38873\n",
       "2  0.181163 -0.552993 -0.741122 -0.92582\n",
       "3 -1.187625  0.074922 -0.848531  0.00000"
      ]
     },
     "execution_count": 12,
     "metadata": {},
     "output_type": "execute_result"
    }
   ],
   "source": [
    "# standardize the values in each column (méthode classique)\n",
    "# copy the data\n",
    "df_z_scaled = dfCentrerReduire.copy()\n",
    "# apply normalization techniques\n",
    "for column in df_z_scaled.columns:\n",
    "    df_z_scaled[column] = (df_z_scaled[column] - df_z_scaled[column].mean()) / df_z_scaled[column].std()\n",
    " \n",
    "df_z_scaled"
   ]
  },
  {
   "cell_type": "code",
   "execution_count": 17,
   "metadata": {},
   "outputs": [
    {
     "data": {
      "text/html": [
       "<div>\n",
       "<style scoped>\n",
       "    .dataframe tbody tr th:only-of-type {\n",
       "        vertical-align: middle;\n",
       "    }\n",
       "\n",
       "    .dataframe tbody tr th {\n",
       "        vertical-align: top;\n",
       "    }\n",
       "\n",
       "    .dataframe thead th {\n",
       "        text-align: right;\n",
       "    }\n",
       "</style>\n",
       "<table border=\"1\" class=\"dataframe\">\n",
       "  <thead>\n",
       "    <tr style=\"text-align: right;\">\n",
       "      <th></th>\n",
       "      <th>Col A</th>\n",
       "      <th>Col B</th>\n",
       "      <th>Col C</th>\n",
       "      <th>Col D</th>\n",
       "    </tr>\n",
       "  </thead>\n",
       "  <tbody>\n",
       "    <tr>\n",
       "      <th>count</th>\n",
       "      <td>4.000000e+00</td>\n",
       "      <td>4.000000e+00</td>\n",
       "      <td>4.000000e+00</td>\n",
       "      <td>4.000000</td>\n",
       "    </tr>\n",
       "    <tr>\n",
       "      <th>mean</th>\n",
       "      <td>-5.551115e-17</td>\n",
       "      <td>1.734723e-17</td>\n",
       "      <td>-2.775558e-17</td>\n",
       "      <td>0.000000</td>\n",
       "    </tr>\n",
       "    <tr>\n",
       "      <th>std</th>\n",
       "      <td>1.000000e+00</td>\n",
       "      <td>1.000000e+00</td>\n",
       "      <td>1.000000e+00</td>\n",
       "      <td>1.000000</td>\n",
       "    </tr>\n",
       "    <tr>\n",
       "      <th>min</th>\n",
       "      <td>-1.187625e+00</td>\n",
       "      <td>-8.954924e-01</td>\n",
       "      <td>-8.485309e-01</td>\n",
       "      <td>-0.925820</td>\n",
       "    </tr>\n",
       "    <tr>\n",
       "      <th>25%</th>\n",
       "      <td>-4.629726e-01</td>\n",
       "      <td>-6.386181e-01</td>\n",
       "      <td>-7.679741e-01</td>\n",
       "      <td>-0.578638</td>\n",
       "    </tr>\n",
       "    <tr>\n",
       "      <th>50%</th>\n",
       "      <td>-2.012924e-02</td>\n",
       "      <td>-2.390358e-01</td>\n",
       "      <td>-2.148179e-01</td>\n",
       "      <td>-0.231455</td>\n",
       "    </tr>\n",
       "    <tr>\n",
       "      <th>75%</th>\n",
       "      <td>4.428433e-01</td>\n",
       "      <td>3.995823e-01</td>\n",
       "      <td>5.531562e-01</td>\n",
       "      <td>0.347183</td>\n",
       "    </tr>\n",
       "    <tr>\n",
       "      <th>max</th>\n",
       "      <td>1.227884e+00</td>\n",
       "      <td>1.373564e+00</td>\n",
       "      <td>1.278167e+00</td>\n",
       "      <td>1.388730</td>\n",
       "    </tr>\n",
       "  </tbody>\n",
       "</table>\n",
       "</div>"
      ],
      "text/plain": [
       "              Col A         Col B         Col C     Col D\n",
       "count  4.000000e+00  4.000000e+00  4.000000e+00  4.000000\n",
       "mean  -5.551115e-17  1.734723e-17 -2.775558e-17  0.000000\n",
       "std    1.000000e+00  1.000000e+00  1.000000e+00  1.000000\n",
       "min   -1.187625e+00 -8.954924e-01 -8.485309e-01 -0.925820\n",
       "25%   -4.629726e-01 -6.386181e-01 -7.679741e-01 -0.578638\n",
       "50%   -2.012924e-02 -2.390358e-01 -2.148179e-01 -0.231455\n",
       "75%    4.428433e-01  3.995823e-01  5.531562e-01  0.347183\n",
       "max    1.227884e+00  1.373564e+00  1.278167e+00  1.388730"
      ]
     },
     "execution_count": 17,
     "metadata": {},
     "output_type": "execute_result"
    }
   ],
   "source": [
    "df_z_scaled = dfCentrerReduire.apply(lambda x: (x-x.mean())/x.std())\n",
    "df_z_scaled.describe(include='all')"
   ]
  },
  {
   "cell_type": "code",
   "execution_count": 15,
   "metadata": {},
   "outputs": [
    {
     "data": {
      "text/html": [
       "<div>\n",
       "<style scoped>\n",
       "    .dataframe tbody tr th:only-of-type {\n",
       "        vertical-align: middle;\n",
       "    }\n",
       "\n",
       "    .dataframe tbody tr th {\n",
       "        vertical-align: top;\n",
       "    }\n",
       "\n",
       "    .dataframe thead th {\n",
       "        text-align: right;\n",
       "    }\n",
       "</style>\n",
       "<table border=\"1\" class=\"dataframe\">\n",
       "  <thead>\n",
       "    <tr style=\"text-align: right;\">\n",
       "      <th></th>\n",
       "      <th>Col A</th>\n",
       "      <th>Col B</th>\n",
       "      <th>Col C</th>\n",
       "      <th>Col D</th>\n",
       "    </tr>\n",
       "  </thead>\n",
       "  <tbody>\n",
       "    <tr>\n",
       "      <th>0</th>\n",
       "      <td>-0.255676</td>\n",
       "      <td>-1.034026</td>\n",
       "      <td>0.359673</td>\n",
       "      <td>-0.534522</td>\n",
       "    </tr>\n",
       "    <tr>\n",
       "      <th>1</th>\n",
       "      <td>1.417838</td>\n",
       "      <td>1.586055</td>\n",
       "      <td>1.475900</td>\n",
       "      <td>1.603567</td>\n",
       "    </tr>\n",
       "    <tr>\n",
       "      <th>2</th>\n",
       "      <td>0.209189</td>\n",
       "      <td>-0.638542</td>\n",
       "      <td>-0.855774</td>\n",
       "      <td>-1.069045</td>\n",
       "    </tr>\n",
       "    <tr>\n",
       "      <th>3</th>\n",
       "      <td>-1.371352</td>\n",
       "      <td>0.086512</td>\n",
       "      <td>-0.979799</td>\n",
       "      <td>0.000000</td>\n",
       "    </tr>\n",
       "  </tbody>\n",
       "</table>\n",
       "</div>"
      ],
      "text/plain": [
       "      Col A     Col B     Col C     Col D\n",
       "0 -0.255676 -1.034026  0.359673 -0.534522\n",
       "1  1.417838  1.586055  1.475900  1.603567\n",
       "2  0.209189 -0.638542 -0.855774 -1.069045\n",
       "3 -1.371352  0.086512 -0.979799  0.000000"
      ]
     },
     "execution_count": 15,
     "metadata": {},
     "output_type": "execute_result"
    }
   ],
   "source": [
    "# ATTENTION ne marche pas !\n",
    "from sklearn.preprocessing import StandardScaler\n",
    "# initialize the scaler\n",
    "scaler = StandardScaler(with_mean=True, with_std=True)\n",
    "#standard=preprocessing.scale(dfCentrerReduire)\n",
    "# Apply the transormation\n",
    "df_sklearn = scaler.fit_transform(dfCentrerReduire.to_numpy())\n",
    "df_sklearn\n",
    "df_sklearn = pd.DataFrame(df_sklearn, columns=['Col A', 'Col B',\n",
    "                            'Col C', 'Col D'])\n",
    "df_sklearn"
   ]
  },
  {
   "cell_type": "code",
   "execution_count": 18,
   "metadata": {},
   "outputs": [
    {
     "name": "stdout",
     "output_type": "stream",
     "text": [
      "transformed\n",
      "      Col A     Col B     Col C     Col D\n",
      "0 -0.255676 -1.034026  0.359673 -0.534522\n",
      "1  1.417838  1.586055  1.475900  1.603567\n",
      "2  0.209189 -0.638542 -0.855774 -1.069045\n",
      "3 -1.371352  0.086512 -0.979799  0.000000\n"
     ]
    }
   ],
   "source": [
    "from scipy import stats\n",
    "\n",
    "print('transformed')\n",
    "print(stats.zscore(dfCentrerReduire))"
   ]
  },
  {
   "cell_type": "code",
   "execution_count": 9,
   "metadata": {},
   "outputs": [
    {
     "data": {
      "text/plain": [
       "<AxesSubplot:xlabel='Pop_Log10', ylabel='Crime_Log10'>"
      ]
     },
     "execution_count": 9,
     "metadata": {},
     "output_type": "execute_result"
    },
    {
     "data": {
      "image/png": "[encoded data removed]",
      "text/plain": [
       "<Figure size 432x288 with 1 Axes>"
      ]
     },
     "metadata": {
      "needs_background": "light"
     },
     "output_type": "display_data"
    }
   ],
   "source": [
    "dataCrime[\"Pop_Log10\"]=np.log10(dataCrime[\"Population\"])\n",
    "dataCrime[\"Crime_Log10\"]=np.log10(dataCrime[\"Crime_Violent\"])\n",
    "dataCrime[dataCrime.Date==2005].plot(kind=\"scatter\",x=\"Pop_Log10\",y=\"Crime_Log10\")"
   ]
  },
  {
   "cell_type": "code",
   "execution_count": 19,
   "metadata": {},
   "outputs": [],
   "source": [
    "sns.set_palette(sns.color_palette('Paired', n_colors = dataCrime.Etat.unique().size))"
   ]
  },
  {
   "cell_type": "code",
   "execution_count": null,
   "metadata": {},
   "outputs": [],
   "source": [
    "# crime violent aux USA\n",
    "#sns.set_palette(seaborn.color_palette('hls1', n_colors = dataCrime[\"Etat\"].unique.size))\n",
    "grid1 = sns.FacetGrid(dataCrime, col='Date', col_wrap=4, hue='Etat')\n",
    "grid1.map(sns.scatterplot, 'Pop_Log10', 'Crime_Log10')\n",
    "grid1.add_legend()"
   ]
  },
  {
   "cell_type": "code",
   "execution_count": 20,
   "metadata": {},
   "outputs": [
    {
     "data": {
      "text/plain": [
       "0.9015954724301449"
      ]
     },
     "execution_count": 20,
     "metadata": {},
     "output_type": "execute_result"
    }
   ],
   "source": [
    "# Corrélation de Pearson avec Pandas\n",
    "X = pd.Series(dataCrime.Population)\n",
    "Y = pd.Series(dataCrime.Crime_Violent)\n",
    "X.corr(Y) #Pearson par défaut"
   ]
  },
  {
   "cell_type": "code",
   "execution_count": 21,
   "metadata": {},
   "outputs": [
    {
     "data": {
      "text/plain": [
       "0.8861688707695606"
      ]
     },
     "execution_count": 21,
     "metadata": {},
     "output_type": "execute_result"
    }
   ],
   "source": [
    "# à titre d'exemple spearman\n",
    "X.corr(Y, method='spearman')"
   ]
  },
  {
   "cell_type": "code",
   "execution_count": 22,
   "metadata": {},
   "outputs": [
    {
     "data": {
      "text/plain": [
       "0.7137867689052079"
      ]
     },
     "execution_count": 22,
     "metadata": {},
     "output_type": "execute_result"
    }
   ],
   "source": [
    "# à titre d'exemple kendall\n",
    "X.corr(Y, method='kendall')"
   ]
  },
  {
   "cell_type": "code",
   "execution_count": 23,
   "metadata": {},
   "outputs": [
    {
     "data": {
      "text/plain": [
       "0.9015954724301447"
      ]
     },
     "execution_count": 23,
     "metadata": {},
     "output_type": "execute_result"
    }
   ],
   "source": [
    "# Corrélation de Pearson avec ScyPy\n",
    "import scipy.stats\n",
    "scipy.stats.pearsonr(X, Y)[0]"
   ]
  },
  {
   "cell_type": "code",
   "execution_count": 24,
   "metadata": {},
   "outputs": [
    {
     "data": {
      "text/plain": [
       "array([[1.        , 0.90159547],\n",
       "       [0.90159547, 1.        ]])"
      ]
     },
     "execution_count": 24,
     "metadata": {},
     "output_type": "execute_result"
    }
   ],
   "source": [
    "# Corrélation de Pearson avec NumPy\n",
    "# Le résultat est une matrice\n",
    "np.corrcoef(X, Y)"
   ]
  },
  {
   "cell_type": "code",
   "execution_count": null,
   "metadata": {},
   "outputs": [],
   "source": [
    "sns.lmplot(x='Pop_Log10', y='Crime_Log10',data=dataCrime[dataCrime.Date==2005]);"
   ]
  },
  {
   "cell_type": "code",
   "execution_count": null,
   "metadata": {},
   "outputs": [],
   "source": [
    "# La régression linéaire de type FacetGrid avec SeaBorn\n",
    "sns.lmplot(x='Pop_Log10', y='Crime_Log10',\n",
    "           col='Date', col_wrap=4, data=dataCrime);"
   ]
  },
  {
   "cell_type": "code",
   "execution_count": 25,
   "metadata": {},
   "outputs": [
    {
     "data": {
      "text/plain": [
       "[<matplotlib.lines.Line2D at 0x7f8081f204d0>]"
      ]
     },
     "execution_count": 25,
     "metadata": {},
     "output_type": "execute_result"
    },
    {
     "data": {
      "image/png": "[encoded data removed]",
      "text/plain": [
       "<Figure size 432x288 with 1 Axes>"
      ]
     },
     "metadata": {
      "needs_background": "light"
     },
     "output_type": "display_data"
    }
   ],
   "source": [
    "# Calcul de la régression linéaire avec SickiLearn\n",
    "from sklearn.linear_model import LinearRegression \n",
    "# le module scikit\n",
    "df = dataCrime[dataCrime.Date==2005]\n",
    "# On transforme les colonnes en array\n",
    "x = np.array(df.Pop_Log10)\n",
    "y = np.array(df.Crime_Log10)\n",
    "\n",
    "# On doit transformer la forme des vecteurs pour qu'ils puissent être\n",
    "# utilisés par Scikit learn\n",
    "# Une particularité de l'algorithme sklearn est que la plupart d'entre eux nécessitent que\n",
    "# leur entrée soit de la forme [n_samples, n_features]. \n",
    "# Notre jeu de données ne suit pas actuellement cette forme, X_train et X_val sont des tableaux 1D.\n",
    "# Nous devons les transformer en tableaux 2D. \n",
    "\n",
    "X = x.reshape(-1,1)\n",
    "Y = y.reshape(-1,1)\n",
    "\n",
    "# Y = [Intercept] + [Slope] * X\n",
    "reg = LinearRegression(normalize=True)\n",
    "reg.fit(X,Y)\n",
    "\n",
    "a = reg.coef_[0] # pour éviter une erreur de calcul avec plt.plot\n",
    "b = reg.intercept_\n",
    "\n",
    "ordonne = np.linspace(5.5,8,100)# Création de valeur de test pour tracer la droite\n",
    "\n",
    "plt.scatter(X,Y)\n",
    "plt.plot(ordonne,a*ordonne+b,color='r')"
   ]
  },
  {
   "cell_type": "code",
   "execution_count": 27,
   "metadata": {},
   "outputs": [],
   "source": [
    "# Résultat \n",
    "#Pop = a*crime+b"
   ]
  },
  {
   "cell_type": "code",
   "execution_count": 28,
   "metadata": {},
   "outputs": [],
   "source": [
    "# Calcul de la régression linéaire avec ScyPy\n",
    "import scipy.stats\n",
    "xy = np.array([df.Pop_Log10,\n",
    "                df.Crime_Log10])\n",
    "result = scipy.stats.linregress(xy)"
   ]
  },
  {
   "cell_type": "code",
   "execution_count": 29,
   "metadata": {},
   "outputs": [
    {
     "data": {
      "text/plain": [
       "[<matplotlib.lines.Line2D at 0x7f8081fd73d0>]"
      ]
     },
     "execution_count": 29,
     "metadata": {},
     "output_type": "execute_result"
    },
    {
     "data": {
      "image/png": "[encoded data removed]",
      "text/plain": [
       "<Figure size 432x288 with 1 Axes>"
      ]
     },
     "metadata": {
      "needs_background": "light"
     },
     "output_type": "display_data"
    }
   ],
   "source": [
    "plt.scatter(X,Y)\n",
    "plt.plot(ordonne,result.slope*ordonne+result.intercept,color='r')"
   ]
  },
  {
   "cell_type": "code",
   "execution_count": 30,
   "metadata": {},
   "outputs": [
    {
     "data": {
      "image/png": "[encoded data removed]",
      "text/plain": [
       "<Figure size 576x432 with 2 Axes>"
      ]
     },
     "metadata": {
      "needs_background": "light"
     },
     "output_type": "display_data"
    }
   ],
   "source": [
    "employees_df = pd.DataFrame({\n",
    "    'Name': [\"Jonathan\", \"Will\", \"Michael\", \"Liva\", \"Sia\", \"Alice\"],\n",
    "    'Age': [20, 22, 29, 20, 20, 21],\n",
    "    'Weight(KG)': [65, 75, 80, 60, 63, 70],\n",
    "    'Height(meters)': [1.6, 1.7, 1.85, 1.69, 1.8, 1.75],\n",
    "    'Salary($)': [3200, 3500, 4000, 2090, 2500, 3600]\n",
    "\n",
    "})\n",
    "\n",
    "corr_df = employees_df.corr(method='pearson')\n",
    "\n",
    "plt.figure(figsize=(8, 6))\n",
    "sns.heatmap(corr_df, annot=True)\n",
    "plt.show()"
   ]
  },
  {
   "cell_type": "code",
   "execution_count": 31,
   "metadata": {},
   "outputs": [
    {
     "data": {
      "image/png": "[encoded data removed]",
      "text/plain": [
       "<Figure size 576x432 with 2 Axes>"
      ]
     },
     "metadata": {
      "needs_background": "light"
     },
     "output_type": "display_data"
    }
   ],
   "source": [
    "corr_df = dataCrime.corr(method='pearson')\n",
    "\n",
    "plt.figure(figsize=(8, 6))\n",
    "sns.heatmap(corr_df, annot=True)\n",
    "plt.show()"
   ]
  },
  {
   "cell_type": "markdown",
   "metadata": {},
   "source": [
    "# II Cours 2 - Deuxième partie : Liaison entre deux variables quantitatives"
   ]
  },
  {
   "cell_type": "code",
   "execution_count": 32,
   "metadata": {},
   "outputs": [
    {
     "data": {
      "text/html": [
       "<div>\n",
       "<style scoped>\n",
       "    .dataframe tbody tr th:only-of-type {\n",
       "        vertical-align: middle;\n",
       "    }\n",
       "\n",
       "    .dataframe tbody tr th {\n",
       "        vertical-align: top;\n",
       "    }\n",
       "\n",
       "    .dataframe thead th {\n",
       "        text-align: right;\n",
       "    }\n",
       "</style>\n",
       "<table border=\"1\" class=\"dataframe\">\n",
       "  <thead>\n",
       "    <tr style=\"text-align: right;\">\n",
       "      <th></th>\n",
       "      <th>cheveux</th>\n",
       "      <th>yeux</th>\n",
       "      <th>sexe</th>\n",
       "    </tr>\n",
       "  </thead>\n",
       "  <tbody>\n",
       "    <tr>\n",
       "      <th>0</th>\n",
       "      <td>Noir</td>\n",
       "      <td>Marron</td>\n",
       "      <td>Male</td>\n",
       "    </tr>\n",
       "    <tr>\n",
       "      <th>1</th>\n",
       "      <td>Blond</td>\n",
       "      <td>Bleu</td>\n",
       "      <td>Femelle</td>\n",
       "    </tr>\n",
       "    <tr>\n",
       "      <th>2</th>\n",
       "      <td>Noir</td>\n",
       "      <td>Bleu</td>\n",
       "      <td>Male</td>\n",
       "    </tr>\n",
       "    <tr>\n",
       "      <th>3</th>\n",
       "      <td>Marron</td>\n",
       "      <td>Marron</td>\n",
       "      <td>Femelle</td>\n",
       "    </tr>\n",
       "    <tr>\n",
       "      <th>4</th>\n",
       "      <td>Roux</td>\n",
       "      <td>Marron</td>\n",
       "      <td>Male</td>\n",
       "    </tr>\n",
       "    <tr>\n",
       "      <th>...</th>\n",
       "      <td>...</td>\n",
       "      <td>...</td>\n",
       "      <td>...</td>\n",
       "    </tr>\n",
       "    <tr>\n",
       "      <th>587</th>\n",
       "      <td>Blond</td>\n",
       "      <td>Marron</td>\n",
       "      <td>Femelle</td>\n",
       "    </tr>\n",
       "    <tr>\n",
       "      <th>588</th>\n",
       "      <td>Marron</td>\n",
       "      <td>Bleu</td>\n",
       "      <td>Male</td>\n",
       "    </tr>\n",
       "    <tr>\n",
       "      <th>589</th>\n",
       "      <td>Marron</td>\n",
       "      <td>Noisette</td>\n",
       "      <td>Male</td>\n",
       "    </tr>\n",
       "    <tr>\n",
       "      <th>590</th>\n",
       "      <td>Marron</td>\n",
       "      <td>Noisette</td>\n",
       "      <td>Femelle</td>\n",
       "    </tr>\n",
       "    <tr>\n",
       "      <th>591</th>\n",
       "      <td>Marron</td>\n",
       "      <td>Bleu</td>\n",
       "      <td>Male</td>\n",
       "    </tr>\n",
       "  </tbody>\n",
       "</table>\n",
       "<p>592 rows × 3 columns</p>\n",
       "</div>"
      ],
      "text/plain": [
       "    cheveux      yeux     sexe\n",
       "0      Noir    Marron     Male\n",
       "1     Blond      Bleu  Femelle\n",
       "2      Noir      Bleu     Male\n",
       "3    Marron    Marron  Femelle\n",
       "4      Roux    Marron     Male\n",
       "..      ...       ...      ...\n",
       "587   Blond    Marron  Femelle\n",
       "588  Marron      Bleu     Male\n",
       "589  Marron  Noisette     Male\n",
       "590  Marron  Noisette  Femelle\n",
       "591  Marron      Bleu     Male\n",
       "\n",
       "[592 rows x 3 columns]"
      ]
     },
     "execution_count": 32,
     "metadata": {},
     "output_type": "execute_result"
    }
   ],
   "source": [
    "df_Quali = pd.read_table('qualitatif.txt',delimiter=' ')\n",
    "df_Quali"
   ]
  },
  {
   "cell_type": "code",
   "execution_count": 33,
   "metadata": {},
   "outputs": [
    {
     "name": "stdout",
     "output_type": "stream",
     "text": [
      "<class 'pandas.core.frame.DataFrame'>\n",
      "RangeIndex: 592 entries, 0 to 591\n",
      "Data columns (total 3 columns):\n",
      " #   Column   Non-Null Count  Dtype \n",
      "---  ------   --------------  ----- \n",
      " 0   cheveux  592 non-null    object\n",
      " 1   yeux     592 non-null    object\n",
      " 2   sexe     592 non-null    object\n",
      "dtypes: object(3)\n",
      "memory usage: 14.0+ KB\n"
     ]
    }
   ],
   "source": [
    "df_Quali.info()"
   ]
  },
  {
   "cell_type": "code",
   "execution_count": 34,
   "metadata": {},
   "outputs": [
    {
     "data": {
      "text/html": [
       "<div>\n",
       "<style scoped>\n",
       "    .dataframe tbody tr th:only-of-type {\n",
       "        vertical-align: middle;\n",
       "    }\n",
       "\n",
       "    .dataframe tbody tr th {\n",
       "        vertical-align: top;\n",
       "    }\n",
       "\n",
       "    .dataframe thead th {\n",
       "        text-align: right;\n",
       "    }\n",
       "</style>\n",
       "<table border=\"1\" class=\"dataframe\">\n",
       "  <thead>\n",
       "    <tr style=\"text-align: right;\">\n",
       "      <th>yeux</th>\n",
       "      <th>Bleu</th>\n",
       "      <th>Marron</th>\n",
       "      <th>Noisette</th>\n",
       "      <th>Vert</th>\n",
       "      <th>All</th>\n",
       "    </tr>\n",
       "    <tr>\n",
       "      <th>cheveux</th>\n",
       "      <th></th>\n",
       "      <th></th>\n",
       "      <th></th>\n",
       "      <th></th>\n",
       "      <th></th>\n",
       "    </tr>\n",
       "  </thead>\n",
       "  <tbody>\n",
       "    <tr>\n",
       "      <th>Blond</th>\n",
       "      <td>94</td>\n",
       "      <td>7</td>\n",
       "      <td>10</td>\n",
       "      <td>16</td>\n",
       "      <td>127</td>\n",
       "    </tr>\n",
       "    <tr>\n",
       "      <th>Marron</th>\n",
       "      <td>84</td>\n",
       "      <td>119</td>\n",
       "      <td>54</td>\n",
       "      <td>29</td>\n",
       "      <td>286</td>\n",
       "    </tr>\n",
       "    <tr>\n",
       "      <th>Noir</th>\n",
       "      <td>20</td>\n",
       "      <td>68</td>\n",
       "      <td>15</td>\n",
       "      <td>5</td>\n",
       "      <td>108</td>\n",
       "    </tr>\n",
       "    <tr>\n",
       "      <th>Roux</th>\n",
       "      <td>17</td>\n",
       "      <td>26</td>\n",
       "      <td>14</td>\n",
       "      <td>14</td>\n",
       "      <td>71</td>\n",
       "    </tr>\n",
       "    <tr>\n",
       "      <th>All</th>\n",
       "      <td>215</td>\n",
       "      <td>220</td>\n",
       "      <td>93</td>\n",
       "      <td>64</td>\n",
       "      <td>592</td>\n",
       "    </tr>\n",
       "  </tbody>\n",
       "</table>\n",
       "</div>"
      ],
      "text/plain": [
       "yeux     Bleu  Marron  Noisette  Vert  All\n",
       "cheveux                                   \n",
       "Blond      94       7        10    16  127\n",
       "Marron     84     119        54    29  286\n",
       "Noir       20      68        15     5  108\n",
       "Roux       17      26        14    14   71\n",
       "All       215     220        93    64  592"
      ]
     },
     "execution_count": 34,
     "metadata": {},
     "output_type": "execute_result"
    }
   ],
   "source": [
    "pd.crosstab(df_Quali.cheveux, df_Quali.yeux, margins=True)"
   ]
  },
  {
   "cell_type": "code",
   "execution_count": 35,
   "metadata": {},
   "outputs": [
    {
     "data": {
      "text/html": [
       "<div>\n",
       "<style scoped>\n",
       "    .dataframe tbody tr th:only-of-type {\n",
       "        vertical-align: middle;\n",
       "    }\n",
       "\n",
       "    .dataframe tbody tr th {\n",
       "        vertical-align: top;\n",
       "    }\n",
       "\n",
       "    .dataframe thead th {\n",
       "        text-align: right;\n",
       "    }\n",
       "</style>\n",
       "<table border=\"1\" class=\"dataframe\">\n",
       "  <thead>\n",
       "    <tr style=\"text-align: right;\">\n",
       "      <th></th>\n",
       "      <th>yeux</th>\n",
       "      <th>Bleu</th>\n",
       "      <th>Marron</th>\n",
       "      <th>Noisette</th>\n",
       "      <th>Vert</th>\n",
       "      <th>All</th>\n",
       "    </tr>\n",
       "    <tr>\n",
       "      <th>cheveux</th>\n",
       "      <th>sexe</th>\n",
       "      <th></th>\n",
       "      <th></th>\n",
       "      <th></th>\n",
       "      <th></th>\n",
       "      <th></th>\n",
       "    </tr>\n",
       "  </thead>\n",
       "  <tbody>\n",
       "    <tr>\n",
       "      <th rowspan=\"2\" valign=\"top\">Blond</th>\n",
       "      <th>Femelle</th>\n",
       "      <td>64</td>\n",
       "      <td>4</td>\n",
       "      <td>5</td>\n",
       "      <td>8</td>\n",
       "      <td>81</td>\n",
       "    </tr>\n",
       "    <tr>\n",
       "      <th>Male</th>\n",
       "      <td>30</td>\n",
       "      <td>3</td>\n",
       "      <td>5</td>\n",
       "      <td>8</td>\n",
       "      <td>46</td>\n",
       "    </tr>\n",
       "    <tr>\n",
       "      <th rowspan=\"2\" valign=\"top\">Marron</th>\n",
       "      <th>Femelle</th>\n",
       "      <td>34</td>\n",
       "      <td>81</td>\n",
       "      <td>29</td>\n",
       "      <td>14</td>\n",
       "      <td>158</td>\n",
       "    </tr>\n",
       "    <tr>\n",
       "      <th>Male</th>\n",
       "      <td>50</td>\n",
       "      <td>38</td>\n",
       "      <td>25</td>\n",
       "      <td>15</td>\n",
       "      <td>128</td>\n",
       "    </tr>\n",
       "    <tr>\n",
       "      <th rowspan=\"2\" valign=\"top\">Noir</th>\n",
       "      <th>Femelle</th>\n",
       "      <td>9</td>\n",
       "      <td>36</td>\n",
       "      <td>5</td>\n",
       "      <td>2</td>\n",
       "      <td>52</td>\n",
       "    </tr>\n",
       "    <tr>\n",
       "      <th>Male</th>\n",
       "      <td>11</td>\n",
       "      <td>32</td>\n",
       "      <td>10</td>\n",
       "      <td>3</td>\n",
       "      <td>56</td>\n",
       "    </tr>\n",
       "    <tr>\n",
       "      <th rowspan=\"2\" valign=\"top\">Roux</th>\n",
       "      <th>Femelle</th>\n",
       "      <td>7</td>\n",
       "      <td>16</td>\n",
       "      <td>7</td>\n",
       "      <td>7</td>\n",
       "      <td>37</td>\n",
       "    </tr>\n",
       "    <tr>\n",
       "      <th>Male</th>\n",
       "      <td>10</td>\n",
       "      <td>10</td>\n",
       "      <td>7</td>\n",
       "      <td>7</td>\n",
       "      <td>34</td>\n",
       "    </tr>\n",
       "    <tr>\n",
       "      <th>All</th>\n",
       "      <th></th>\n",
       "      <td>215</td>\n",
       "      <td>220</td>\n",
       "      <td>93</td>\n",
       "      <td>64</td>\n",
       "      <td>592</td>\n",
       "    </tr>\n",
       "  </tbody>\n",
       "</table>\n",
       "</div>"
      ],
      "text/plain": [
       "yeux             Bleu  Marron  Noisette  Vert  All\n",
       "cheveux sexe                                      \n",
       "Blond   Femelle    64       4         5     8   81\n",
       "        Male       30       3         5     8   46\n",
       "Marron  Femelle    34      81        29    14  158\n",
       "        Male       50      38        25    15  128\n",
       "Noir    Femelle     9      36         5     2   52\n",
       "        Male       11      32        10     3   56\n",
       "Roux    Femelle     7      16         7     7   37\n",
       "        Male       10      10         7     7   34\n",
       "All               215     220        93    64  592"
      ]
     },
     "execution_count": 35,
     "metadata": {},
     "output_type": "execute_result"
    }
   ],
   "source": [
    "pd.crosstab([df_Quali.cheveux, df_Quali.sexe], df_Quali.yeux, margins=True)"
   ]
  },
  {
   "cell_type": "code",
   "execution_count": 36,
   "metadata": {},
   "outputs": [
    {
     "data": {
      "text/html": [
       "<div>\n",
       "<style scoped>\n",
       "    .dataframe tbody tr th:only-of-type {\n",
       "        vertical-align: middle;\n",
       "    }\n",
       "\n",
       "    .dataframe tbody tr th {\n",
       "        vertical-align: top;\n",
       "    }\n",
       "\n",
       "    .dataframe thead tr th {\n",
       "        text-align: left;\n",
       "    }\n",
       "\n",
       "    .dataframe thead tr:last-of-type th {\n",
       "        text-align: right;\n",
       "    }\n",
       "</style>\n",
       "<table border=\"1\" class=\"dataframe\">\n",
       "  <thead>\n",
       "    <tr>\n",
       "      <th></th>\n",
       "      <th colspan=\"5\" halign=\"left\">sexe</th>\n",
       "    </tr>\n",
       "    <tr>\n",
       "      <th>yeux</th>\n",
       "      <th>Bleu</th>\n",
       "      <th>Marron</th>\n",
       "      <th>Noisette</th>\n",
       "      <th>Vert</th>\n",
       "      <th>All</th>\n",
       "    </tr>\n",
       "    <tr>\n",
       "      <th>cheveux</th>\n",
       "      <th></th>\n",
       "      <th></th>\n",
       "      <th></th>\n",
       "      <th></th>\n",
       "      <th></th>\n",
       "    </tr>\n",
       "  </thead>\n",
       "  <tbody>\n",
       "    <tr>\n",
       "      <th>Blond</th>\n",
       "      <td>94</td>\n",
       "      <td>7</td>\n",
       "      <td>10</td>\n",
       "      <td>16</td>\n",
       "      <td>127</td>\n",
       "    </tr>\n",
       "    <tr>\n",
       "      <th>Marron</th>\n",
       "      <td>84</td>\n",
       "      <td>119</td>\n",
       "      <td>54</td>\n",
       "      <td>29</td>\n",
       "      <td>286</td>\n",
       "    </tr>\n",
       "    <tr>\n",
       "      <th>Noir</th>\n",
       "      <td>20</td>\n",
       "      <td>68</td>\n",
       "      <td>15</td>\n",
       "      <td>5</td>\n",
       "      <td>108</td>\n",
       "    </tr>\n",
       "    <tr>\n",
       "      <th>Roux</th>\n",
       "      <td>17</td>\n",
       "      <td>26</td>\n",
       "      <td>14</td>\n",
       "      <td>14</td>\n",
       "      <td>71</td>\n",
       "    </tr>\n",
       "    <tr>\n",
       "      <th>All</th>\n",
       "      <td>215</td>\n",
       "      <td>220</td>\n",
       "      <td>93</td>\n",
       "      <td>64</td>\n",
       "      <td>592</td>\n",
       "    </tr>\n",
       "  </tbody>\n",
       "</table>\n",
       "</div>"
      ],
      "text/plain": [
       "        sexe                          \n",
       "yeux    Bleu Marron Noisette Vert  All\n",
       "cheveux                               \n",
       "Blond     94      7       10   16  127\n",
       "Marron    84    119       54   29  286\n",
       "Noir      20     68       15    5  108\n",
       "Roux      17     26       14   14   71\n",
       "All      215    220       93   64  592"
      ]
     },
     "execution_count": 36,
     "metadata": {},
     "output_type": "execute_result"
    }
   ],
   "source": [
    "pd.pivot_table(df_Quali, index=['cheveux'],columns=['yeux'], aggfunc='count',margins=True)"
   ]
  },
  {
   "cell_type": "code",
   "execution_count": 39,
   "metadata": {},
   "outputs": [
    {
     "data": {
      "text/html": [
       "<div>\n",
       "<style scoped>\n",
       "    .dataframe tbody tr th:only-of-type {\n",
       "        vertical-align: middle;\n",
       "    }\n",
       "\n",
       "    .dataframe tbody tr th {\n",
       "        vertical-align: top;\n",
       "    }\n",
       "\n",
       "    .dataframe thead th {\n",
       "        text-align: right;\n",
       "    }\n",
       "</style>\n",
       "<table border=\"1\" class=\"dataframe\">\n",
       "  <thead>\n",
       "    <tr style=\"text-align: right;\">\n",
       "      <th>yeux</th>\n",
       "      <th>Bleu</th>\n",
       "      <th>Marron</th>\n",
       "      <th>Noisette</th>\n",
       "      <th>Vert</th>\n",
       "      <th>All</th>\n",
       "    </tr>\n",
       "    <tr>\n",
       "      <th>cheveux</th>\n",
       "      <th></th>\n",
       "      <th></th>\n",
       "      <th></th>\n",
       "      <th></th>\n",
       "      <th></th>\n",
       "    </tr>\n",
       "  </thead>\n",
       "  <tbody>\n",
       "    <tr>\n",
       "      <th>Blond</th>\n",
       "      <td>15.878378</td>\n",
       "      <td>1.182432</td>\n",
       "      <td>1.689189</td>\n",
       "      <td>2.702703</td>\n",
       "      <td>21.452703</td>\n",
       "    </tr>\n",
       "    <tr>\n",
       "      <th>Marron</th>\n",
       "      <td>14.189189</td>\n",
       "      <td>20.101351</td>\n",
       "      <td>9.121622</td>\n",
       "      <td>4.898649</td>\n",
       "      <td>48.310811</td>\n",
       "    </tr>\n",
       "    <tr>\n",
       "      <th>Noir</th>\n",
       "      <td>3.378378</td>\n",
       "      <td>11.486486</td>\n",
       "      <td>2.533784</td>\n",
       "      <td>0.844595</td>\n",
       "      <td>18.243243</td>\n",
       "    </tr>\n",
       "    <tr>\n",
       "      <th>Roux</th>\n",
       "      <td>2.871622</td>\n",
       "      <td>4.391892</td>\n",
       "      <td>2.364865</td>\n",
       "      <td>2.364865</td>\n",
       "      <td>11.993243</td>\n",
       "    </tr>\n",
       "    <tr>\n",
       "      <th>All</th>\n",
       "      <td>36.317568</td>\n",
       "      <td>37.162162</td>\n",
       "      <td>15.709459</td>\n",
       "      <td>10.810811</td>\n",
       "      <td>100.000000</td>\n",
       "    </tr>\n",
       "  </tbody>\n",
       "</table>\n",
       "</div>"
      ],
      "text/plain": [
       "yeux          Bleu     Marron   Noisette       Vert         All\n",
       "cheveux                                                        \n",
       "Blond    15.878378   1.182432   1.689189   2.702703   21.452703\n",
       "Marron   14.189189  20.101351   9.121622   4.898649   48.310811\n",
       "Noir      3.378378  11.486486   2.533784   0.844595   18.243243\n",
       "Roux      2.871622   4.391892   2.364865   2.364865   11.993243\n",
       "All      36.317568  37.162162  15.709459  10.810811  100.000000"
      ]
     },
     "execution_count": 39,
     "metadata": {},
     "output_type": "execute_result"
    }
   ],
   "source": [
    "# Tableau de fréquence en pourcentage\n",
    "table = pd.crosstab(df_Quali.cheveux, df_Quali.yeux, margins=True, normalize=True)\n",
    "table\n",
    "table*100"
   ]
  },
  {
   "cell_type": "code",
   "execution_count": 40,
   "metadata": {},
   "outputs": [
    {
     "data": {
      "text/plain": [
       "<AxesSubplot:xlabel='cheveux'>"
      ]
     },
     "execution_count": 40,
     "metadata": {},
     "output_type": "execute_result"
    },
    {
     "data": {
      "image/png": "[encoded data removed]",
      "text/plain": [
       "<Figure size 432x288 with 1 Axes>"
      ]
     },
     "metadata": {
      "needs_background": "light"
     },
     "output_type": "display_data"
    }
   ],
   "source": [
    "# Tableau de fréquence en pourcentage représentation\n",
    "pd.crosstab(df_Quali.cheveux, df_Quali.yeux, margins=True, normalize=True).plot.bar(stacked=True)"
   ]
  },
  {
   "cell_type": "code",
   "execution_count": 41,
   "metadata": {},
   "outputs": [
    {
     "data": {
      "text/plain": [
       "(0.23359770544933828, 16, 0.9999999999992256)"
      ]
     },
     "execution_count": 41,
     "metadata": {},
     "output_type": "execute_result"
    }
   ],
   "source": [
    "from scipy.stats import chi2_contingency\n",
    "chi2, pvalue, degrees, expected = chi2_contingency(table)\n",
    "chi2, degrees, pvalue"
   ]
  },
  {
   "cell_type": "code",
   "execution_count": null,
   "metadata": {},
   "outputs": [],
   "source": []
  }
 ],
 "metadata": {
  "kernelspec": {
   "display_name": "Python 3",
   "language": "python",
   "name": "python3"
  },
  "language_info": {
   "codemirror_mode": {
    "name": "ipython",
    "version": 3
   },
   "file_extension": ".py",
   "mimetype": "text/x-python",
   "name": "python",
   "nbconvert_exporter": "python",
   "pygments_lexer": "ipython3",
   "version": "3.7.3"
  }
 },
 "nbformat": 4,
 "nbformat_minor": 5
}
