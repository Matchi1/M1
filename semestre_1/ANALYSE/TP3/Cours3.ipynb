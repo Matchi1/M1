{
 "cells": [
  {
   "cell_type": "markdown",
   "metadata": {},
   "source": [
    "# Analyse en Composantes Principales"
   ]
  },
  {
   "cell_type": "code",
   "execution_count": 3,
   "metadata": {},
   "outputs": [],
   "source": [
    "import pandas\n",
    "from sklearn.decomposition import PCA\n",
    "from sklearn.preprocessing import StandardScaler\n",
    "import matplotlib.pyplot as plt\n",
    "import numpy as np\n",
    "import seaborn as sns"
   ]
  },
  {
   "cell_type": "code",
   "execution_count": 4,
   "metadata": {},
   "outputs": [
    {
     "ename": "ImportError",
     "evalue": "Missing optional dependency 'xlrd'. Install xlrd >= 1.0.0 for Excel support Use pip or conda to install xlrd.",
     "output_type": "error",
     "traceback": [
      "\u001b[0;31m---------------------------------------------------------------------------\u001b[0m",
      "\u001b[0;31mImportError\u001b[0m                               Traceback (most recent call last)",
      "\u001b[0;32m<ipython-input-4-23b6f96a30e9>\u001b[0m in \u001b[0;36m<module>\u001b[0;34m()\u001b[0m\n\u001b[1;32m      1\u001b[0m \u001b[0;31m# Chargement du dataset de voiture\u001b[0m\u001b[0;34m\u001b[0m\u001b[0;34m\u001b[0m\u001b[0;34m\u001b[0m\u001b[0m\n\u001b[0;32m----> 2\u001b[0;31m \u001b[0mDf_Voiture\u001b[0m \u001b[0;34m=\u001b[0m \u001b[0mpandas\u001b[0m\u001b[0;34m.\u001b[0m\u001b[0mread_excel\u001b[0m\u001b[0;34m(\u001b[0m\u001b[0;34m\"autos_acp.xls\"\u001b[0m\u001b[0;34m)\u001b[0m\u001b[0;34m\u001b[0m\u001b[0;34m\u001b[0m\u001b[0m\n\u001b[0m",
      "\u001b[0;32m/home/2inf1/mathieu.chan/.local/lib/python3.7/site-packages/pandas/util/_decorators.py\u001b[0m in \u001b[0;36mwrapper\u001b[0;34m(*args, **kwargs)\u001b[0m\n\u001b[1;32m    309\u001b[0m                     \u001b[0mstacklevel\u001b[0m\u001b[0;34m=\u001b[0m\u001b[0mstacklevel\u001b[0m\u001b[0;34m,\u001b[0m\u001b[0;34m\u001b[0m\u001b[0;34m\u001b[0m\u001b[0m\n\u001b[1;32m    310\u001b[0m                 )\n\u001b[0;32m--> 311\u001b[0;31m             \u001b[0;32mreturn\u001b[0m \u001b[0mfunc\u001b[0m\u001b[0;34m(\u001b[0m\u001b[0;34m*\u001b[0m\u001b[0margs\u001b[0m\u001b[0;34m,\u001b[0m \u001b[0;34m**\u001b[0m\u001b[0mkwargs\u001b[0m\u001b[0;34m)\u001b[0m\u001b[0;34m\u001b[0m\u001b[0;34m\u001b[0m\u001b[0m\n\u001b[0m\u001b[1;32m    312\u001b[0m \u001b[0;34m\u001b[0m\u001b[0m\n\u001b[1;32m    313\u001b[0m         \u001b[0;32mreturn\u001b[0m \u001b[0mwrapper\u001b[0m\u001b[0;34m\u001b[0m\u001b[0;34m\u001b[0m\u001b[0m\n",
      "\u001b[0;32m/home/2inf1/mathieu.chan/.local/lib/python3.7/site-packages/pandas/io/excel/_base.py\u001b[0m in \u001b[0;36mread_excel\u001b[0;34m(io, sheet_name, header, names, index_col, usecols, squeeze, dtype, engine, converters, true_values, false_values, skiprows, nrows, na_values, keep_default_na, na_filter, verbose, parse_dates, date_parser, thousands, comment, skipfooter, convert_float, mangle_dupe_cols, storage_options)\u001b[0m\n\u001b[1;32m    362\u001b[0m     \u001b[0;32mif\u001b[0m \u001b[0;32mnot\u001b[0m \u001b[0misinstance\u001b[0m\u001b[0;34m(\u001b[0m\u001b[0mio\u001b[0m\u001b[0;34m,\u001b[0m \u001b[0mExcelFile\u001b[0m\u001b[0;34m)\u001b[0m\u001b[0;34m:\u001b[0m\u001b[0;34m\u001b[0m\u001b[0;34m\u001b[0m\u001b[0m\n\u001b[1;32m    363\u001b[0m         \u001b[0mshould_close\u001b[0m \u001b[0;34m=\u001b[0m \u001b[0;32mTrue\u001b[0m\u001b[0;34m\u001b[0m\u001b[0;34m\u001b[0m\u001b[0m\n\u001b[0;32m--> 364\u001b[0;31m         \u001b[0mio\u001b[0m \u001b[0;34m=\u001b[0m \u001b[0mExcelFile\u001b[0m\u001b[0;34m(\u001b[0m\u001b[0mio\u001b[0m\u001b[0;34m,\u001b[0m \u001b[0mstorage_options\u001b[0m\u001b[0;34m=\u001b[0m\u001b[0mstorage_options\u001b[0m\u001b[0;34m,\u001b[0m \u001b[0mengine\u001b[0m\u001b[0;34m=\u001b[0m\u001b[0mengine\u001b[0m\u001b[0;34m)\u001b[0m\u001b[0;34m\u001b[0m\u001b[0;34m\u001b[0m\u001b[0m\n\u001b[0m\u001b[1;32m    365\u001b[0m     \u001b[0;32melif\u001b[0m \u001b[0mengine\u001b[0m \u001b[0;32mand\u001b[0m \u001b[0mengine\u001b[0m \u001b[0;34m!=\u001b[0m \u001b[0mio\u001b[0m\u001b[0;34m.\u001b[0m\u001b[0mengine\u001b[0m\u001b[0;34m:\u001b[0m\u001b[0;34m\u001b[0m\u001b[0;34m\u001b[0m\u001b[0m\n\u001b[1;32m    366\u001b[0m         raise ValueError(\n",
      "\u001b[0;32m/home/2inf1/mathieu.chan/.local/lib/python3.7/site-packages/pandas/io/excel/_base.py\u001b[0m in \u001b[0;36m__init__\u001b[0;34m(self, path_or_buffer, engine, storage_options)\u001b[0m\n\u001b[1;32m   1231\u001b[0m         \u001b[0mself\u001b[0m\u001b[0;34m.\u001b[0m\u001b[0mstorage_options\u001b[0m \u001b[0;34m=\u001b[0m \u001b[0mstorage_options\u001b[0m\u001b[0;34m\u001b[0m\u001b[0;34m\u001b[0m\u001b[0m\n\u001b[1;32m   1232\u001b[0m \u001b[0;34m\u001b[0m\u001b[0m\n\u001b[0;32m-> 1233\u001b[0;31m         \u001b[0mself\u001b[0m\u001b[0;34m.\u001b[0m\u001b[0m_reader\u001b[0m \u001b[0;34m=\u001b[0m \u001b[0mself\u001b[0m\u001b[0;34m.\u001b[0m\u001b[0m_engines\u001b[0m\u001b[0;34m[\u001b[0m\u001b[0mengine\u001b[0m\u001b[0;34m]\u001b[0m\u001b[0;34m(\u001b[0m\u001b[0mself\u001b[0m\u001b[0;34m.\u001b[0m\u001b[0m_io\u001b[0m\u001b[0;34m,\u001b[0m \u001b[0mstorage_options\u001b[0m\u001b[0;34m=\u001b[0m\u001b[0mstorage_options\u001b[0m\u001b[0;34m)\u001b[0m\u001b[0;34m\u001b[0m\u001b[0;34m\u001b[0m\u001b[0m\n\u001b[0m\u001b[1;32m   1234\u001b[0m \u001b[0;34m\u001b[0m\u001b[0m\n\u001b[1;32m   1235\u001b[0m     \u001b[0;32mdef\u001b[0m \u001b[0m__fspath__\u001b[0m\u001b[0;34m(\u001b[0m\u001b[0mself\u001b[0m\u001b[0;34m)\u001b[0m\u001b[0;34m:\u001b[0m\u001b[0;34m\u001b[0m\u001b[0;34m\u001b[0m\u001b[0m\n",
      "\u001b[0;32m/home/2inf1/mathieu.chan/.local/lib/python3.7/site-packages/pandas/io/excel/_xlrd.py\u001b[0m in \u001b[0;36m__init__\u001b[0;34m(self, filepath_or_buffer, storage_options)\u001b[0m\n\u001b[1;32m     22\u001b[0m         \"\"\"\n\u001b[1;32m     23\u001b[0m         \u001b[0merr_msg\u001b[0m \u001b[0;34m=\u001b[0m \u001b[0;34m\"Install xlrd >= 1.0.0 for Excel support\"\u001b[0m\u001b[0;34m\u001b[0m\u001b[0;34m\u001b[0m\u001b[0m\n\u001b[0;32m---> 24\u001b[0;31m         \u001b[0mimport_optional_dependency\u001b[0m\u001b[0;34m(\u001b[0m\u001b[0;34m\"xlrd\"\u001b[0m\u001b[0;34m,\u001b[0m \u001b[0mextra\u001b[0m\u001b[0;34m=\u001b[0m\u001b[0merr_msg\u001b[0m\u001b[0;34m)\u001b[0m\u001b[0;34m\u001b[0m\u001b[0;34m\u001b[0m\u001b[0m\n\u001b[0m\u001b[1;32m     25\u001b[0m         \u001b[0msuper\u001b[0m\u001b[0;34m(\u001b[0m\u001b[0;34m)\u001b[0m\u001b[0;34m.\u001b[0m\u001b[0m__init__\u001b[0m\u001b[0;34m(\u001b[0m\u001b[0mfilepath_or_buffer\u001b[0m\u001b[0;34m,\u001b[0m \u001b[0mstorage_options\u001b[0m\u001b[0;34m=\u001b[0m\u001b[0mstorage_options\u001b[0m\u001b[0;34m)\u001b[0m\u001b[0;34m\u001b[0m\u001b[0;34m\u001b[0m\u001b[0m\n\u001b[1;32m     26\u001b[0m \u001b[0;34m\u001b[0m\u001b[0m\n",
      "\u001b[0;32m/home/2inf1/mathieu.chan/.local/lib/python3.7/site-packages/pandas/compat/_optional.py\u001b[0m in \u001b[0;36mimport_optional_dependency\u001b[0;34m(name, extra, errors, min_version)\u001b[0m\n\u001b[1;32m    116\u001b[0m     \u001b[0;32mexcept\u001b[0m \u001b[0mImportError\u001b[0m\u001b[0;34m:\u001b[0m\u001b[0;34m\u001b[0m\u001b[0;34m\u001b[0m\u001b[0m\n\u001b[1;32m    117\u001b[0m         \u001b[0;32mif\u001b[0m \u001b[0merrors\u001b[0m \u001b[0;34m==\u001b[0m \u001b[0;34m\"raise\"\u001b[0m\u001b[0;34m:\u001b[0m\u001b[0;34m\u001b[0m\u001b[0;34m\u001b[0m\u001b[0m\n\u001b[0;32m--> 118\u001b[0;31m             \u001b[0;32mraise\u001b[0m \u001b[0mImportError\u001b[0m\u001b[0;34m(\u001b[0m\u001b[0mmsg\u001b[0m\u001b[0;34m)\u001b[0m \u001b[0;32mfrom\u001b[0m \u001b[0;32mNone\u001b[0m\u001b[0;34m\u001b[0m\u001b[0;34m\u001b[0m\u001b[0m\n\u001b[0m\u001b[1;32m    119\u001b[0m         \u001b[0;32melse\u001b[0m\u001b[0;34m:\u001b[0m\u001b[0;34m\u001b[0m\u001b[0;34m\u001b[0m\u001b[0m\n\u001b[1;32m    120\u001b[0m             \u001b[0;32mreturn\u001b[0m \u001b[0;32mNone\u001b[0m\u001b[0;34m\u001b[0m\u001b[0;34m\u001b[0m\u001b[0m\n",
      "\u001b[0;31mImportError\u001b[0m: Missing optional dependency 'xlrd'. Install xlrd >= 1.0.0 for Excel support Use pip or conda to install xlrd."
     ]
    }
   ],
   "source": [
    "# Chargement du dataset de voiture\n",
    "Df_Voiture = pandas.read_excel(\"autos_acp.xls\")"
   ]
  },
  {
   "cell_type": "code",
   "execution_count": null,
   "metadata": {},
   "outputs": [],
   "source": [
    "# Affichage des caractéristiques des données\n",
    "Df_Voiture.info()"
   ]
  },
  {
   "cell_type": "code",
   "execution_count": null,
   "metadata": {},
   "outputs": [],
   "source": [
    "# Description complète\n",
    "Df_Voiture.describe(include='all')"
   ]
  },
  {
   "cell_type": "code",
   "execution_count": null,
   "metadata": {},
   "outputs": [],
   "source": [
    "# Afficher une représentation\n",
    "Df_Voiture.head()"
   ]
  },
  {
   "cell_type": "code",
   "execution_count": null,
   "metadata": {},
   "outputs": [],
   "source": [
    "Df_Voiture.shape"
   ]
  },
  {
   "cell_type": "code",
   "execution_count": null,
   "metadata": {},
   "outputs": [],
   "source": [
    "# Matrice des corrélations sur les variables numériques (non centrée réduite)\n",
    "Df_Voiture.corr()"
   ]
  },
  {
   "cell_type": "code",
   "execution_count": null,
   "metadata": {},
   "outputs": [],
   "source": [
    "#librairie graphique\n",
    "import seaborn as sns\n",
    "\n",
    "#pairplot\n",
    "sns.pairplot(Df_Voiture)"
   ]
  },
  {
   "cell_type": "code",
   "execution_count": null,
   "metadata": {},
   "outputs": [],
   "source": [
    "# ACP normée : centrer et réduire les données\n",
    "df_Voiture_z_scaled = Df_Voiture.copy()\n",
    "# apply normalization techniques\n",
    "for column in df_Voiture_z_scaled.iloc[:,1:].columns:\n",
    "    df_Voiture_z_scaled[column] = (df_Voiture_z_scaled[column] - df_Voiture_z_scaled[column].mean()) / df_Voiture_z_scaled[column].std(ddof=0)\n",
    "# Vérification moyenne nulle (à quelques écart près)\n",
    "print(\"Moyenne colonne Cylindrée = \" ,df_Voiture_z_scaled[\"CYL\"].mean())\n",
    "print(\"Moyenne colonne Poids = \" ,df_Voiture_z_scaled[\"POIDS\"].mean())\n",
    "print(\"Moyenne colonne Vitesse Max = \" ,df_Voiture_z_scaled[\"V-MAX\"].mean())\n",
    "# Vérification des écarts-type\n",
    "print(\"écarts-type colonne Cylindrée = \" ,df_Voiture_z_scaled[\"CYL\"].std(ddof=0))\n",
    "print(\"écarts-type colonne Poids = \" ,df_Voiture_z_scaled[\"POIDS\"].std(ddof=0))\n",
    "print(\"écarts-type colonne Vitesse Max = \" ,df_Voiture_z_scaled[\"V-MAX\"].std(ddof=0))"
   ]
  },
  {
   "cell_type": "code",
   "execution_count": null,
   "metadata": {},
   "outputs": [],
   "source": [
    "# Matrice des corrélations\n",
    "df_Voiture_z_scaled.corr()\n",
    "# La trace de la matrice est égale à 6 le nombre de variable\n",
    "# Nous  notons  que  les  plus  fortes corrélations  ont  lieu  entre  (PUISS, VMAX),  et  entre  (LONG, \n",
    "# LARG, POIDS). Nous observons également que le niveau global des corrélations est élevé. "
   ]
  },
  {
   "cell_type": "code",
   "execution_count": null,
   "metadata": {},
   "outputs": [],
   "source": [
    "# Peut on retrouver le nombre d'axe et la matrice de corrélation via le calcul de l'inertie\n",
    "Z = df_Voiture_z_scaled.iloc[:,1:].values\n",
    "#correspondance : produit matriciel : (1/n) (Z'Z) \n",
    "print(np.dot(np.transpose(Z),Z)/df_Voiture_z_scaled.shape[0])"
   ]
  },
  {
   "cell_type": "markdown",
   "metadata": {},
   "source": [
    "# Analyse Normée en Composantes Principales"
   ]
  },
  {
   "cell_type": "code",
   "execution_count": null,
   "metadata": {},
   "outputs": [],
   "source": [
    "# Calcul des composantes principales\n",
    "pca = PCA()\n",
    "X=pca.fit_transform(df_Voiture_z_scaled.iloc[:,1:])\n",
    "X.shape # Données et feature"
   ]
  },
  {
   "cell_type": "code",
   "execution_count": null,
   "metadata": {},
   "outputs": [],
   "source": [
    "# afficher les nouvelles coordonnées des véhicules\n",
    "df_X = pandas.DataFrame({\n",
    "    'Comp1': X[:,0],\n",
    "    'Comp2': X[:,1],\n",
    "    'Comp3': X[:,2],\n",
    "    'Comp4': X[:,3],\n",
    "    'Comp5': X[:,4],\n",
    "    'Comp6': X[:,5],\n",
    "},index=df_Voiture_z_scaled.Modele)\n",
    "df_X"
   ]
  },
  {
   "cell_type": "code",
   "execution_count": null,
   "metadata": {},
   "outputs": [],
   "source": [
    "#corrélation des facteurs avec les variables \n",
    "Mlambda = np.corrcoef(x=X,y=Z,rowvar=False)\n",
    "print(Mlambda)"
   ]
  },
  {
   "cell_type": "code",
   "execution_count": null,
   "metadata": {},
   "outputs": [],
   "source": [
    "# Une fois que vous avez les principaux composants, vous pouvez trouver le \n",
    "# Explained_variance_ratio. Il vous fournira la quantité d'informations ou de variance\n",
    "# que chaque composant principal détient après avoir projeté les données dans \n",
    "# un sous-espace de dimension inférieure \n",
    "pca.explained_variance_ratio_*100"
   ]
  },
  {
   "cell_type": "raw",
   "metadata": {},
   "source": [
    "Le premier composant à lui seul capture 73.68% de la variabilité dans l'ensemble de données et le deuxième composant à lui seul capture environ 14.27% de la variabilité dans l'ensemble de données et ainsi de suite. Notez également que les valeurs du tableau ci-dessus sont triées par ordre décroissant. \n",
    "Prendre la somme du tableau ci-dessus retournera la variance totale expliquée par chacun des composants sélectionnés.\n",
    "Si nous obtenons la somme cumulative du tableau ci-dessus, nous pouvons voir le tableau suivant.\n",
    "La somme des deux premières composantes résument presque 88% de l'information disponible"
   ]
  },
  {
   "cell_type": "code",
   "execution_count": null,
   "metadata": {},
   "outputs": [],
   "source": [
    "print(\"Variance cumulée expliquée par les composantes principales = \", np.cumsum(pca.explained_variance_ratio_*100), \"%\")"
   ]
  },
  {
   "cell_type": "code",
   "execution_count": null,
   "metadata": {},
   "outputs": [],
   "source": [
    "# Nombre de composantes\n",
    "pca.n_components_"
   ]
  },
  {
   "cell_type": "code",
   "execution_count": null,
   "metadata": {},
   "outputs": [],
   "source": [
    "# Règle du coude pour choisir les composantes à retenir\n",
    "plt.plot(np.arange(1,pca.n_components_+1),pca.explained_variance_) \n",
    "plt.title(\"Explained variance vs. # of factors\") \n",
    "plt.ylabel(\"Cumsum explained variance ratio\") \n",
    "plt.xlabel(\"Factor number\") \n",
    "plt.show()"
   ]
  },
  {
   "cell_type": "code",
   "execution_count": null,
   "metadata": {},
   "outputs": [],
   "source": [
    "#cumul de variance expliquée \n",
    "plt.plot(np.arange(1,pca.n_components_+1),np.cumsum(pca.explained_variance_ratio_*100)) \n",
    "plt.title(\"Explained variance vs. # of factors\") \n",
    "plt.ylabel(\"Cumsum explained variance ratio\") \n",
    "plt.xlabel(\"Factor number\") \n",
    "plt.show()"
   ]
  },
  {
   "cell_type": "code",
   "execution_count": null,
   "metadata": {},
   "outputs": [],
   "source": [
    "scree = pca.explained_variance_ratio_*100\n",
    "plt.bar(np.arange(len(scree))+1, scree)\n",
    "plt.plot(np.arange(len(scree))+1, scree.cumsum(),c=\"red\",marker='o')\n",
    "plt.xlabel(\"rang de l'axe d'inertie\")\n",
    "plt.ylabel(\"pourcentage d'inertie\")\n",
    "plt.title(\"Eboulis des valeurs propres\")\n",
    "plt.show(block=False)"
   ]
  },
  {
   "cell_type": "raw",
   "metadata": {},
   "source": [
    "Les  \"cassures\"  dans  les  graphiques  ci-dessus  (Figure  2,  Figure  3)  sont  souvent  évoquées \n",
    "(règle  du  coude)  pour  identifier  le  nombre  de  facteurs  K*  à  retenir.  La  solution  (K*  =  2) \n",
    "semble s’imposer ici. "
   ]
  },
  {
   "cell_type": "code",
   "execution_count": null,
   "metadata": {},
   "outputs": [],
   "source": [
    "## distribution des composantes principales (autre version)\n",
    "plt.boxplot(X)\n",
    "plt.show()"
   ]
  },
  {
   "cell_type": "markdown",
   "metadata": {},
   "source": [
    "# Représentations des individus sur les composantes principales"
   ]
  },
  {
   "cell_type": "code",
   "execution_count": null,
   "metadata": {},
   "outputs": [],
   "source": [
    "# Représentation des individus sur le plan des deux premières composantes (tout à la main !!)\n",
    "fig, axes = plt.subplots(figsize=(10,10))\n",
    "axes.scatter(df_X.Comp1,df_X.Comp2)\n",
    "axes.set_xlabel('Composante_1')\n",
    "axes.set_ylabel('Composante_2')\n",
    "axes.set_title('Résultat de la PCA')\n",
    "#ajouter les axes \n",
    "plt.plot([df_X[\"Comp1\"].min(),df_X[\"Comp1\"].max()],[0,0],color='red',linestyle='-',linewidth=1) \n",
    "plt.plot([0,0],[df_X[\"Comp2\"].min(),df_X[\"Comp2\"].max()],color='red',linestyle='-',linewidth=1) \n",
    "for k, v in df_X.iterrows():\n",
    "    plt.text(v.Comp1,v.Comp2,k)\n",
    "plt.grid()\n",
    "plt.show()"
   ]
  },
  {
   "cell_type": "code",
   "execution_count": null,
   "metadata": {},
   "outputs": [],
   "source": [
    "# Représentation des individus sur le plan des une et trois, deux et trois\n",
    "fig, axes = plt.subplots(2,figsize=(8,8))\n",
    "axes[0].scatter(df_X.Comp1,df_X.Comp3)\n",
    "axes[0].set_xlabel('Composante_1')\n",
    "axes[0].set_ylabel('Composante_3')\n",
    "axes[0].set_title('Résultat de la PCA')\n",
    "#ajouter les axes \n",
    "axes[0].plot([df_X[\"Comp1\"].min(),df_X[\"Comp1\"].max()],[0,0],color='red',linestyle='-',linewidth=1) \n",
    "axes[0].plot([0,0],[df_X[\"Comp3\"].min(),df_X[\"Comp3\"].max()],color='red',linestyle='-',linewidth=1) \n",
    "for k, v in df_X.iterrows():\n",
    "    #axes.annotate(v.Car)\n",
    "    #plt.text(v.Comp1,v.Comp2,v.Car+\"-\"+v.Model)\n",
    "    axes[0].text(v.Comp1,v.Comp3,k)\n",
    "plt.grid()\n",
    "# ====================================================\n",
    "axes[1].scatter(df_X.Comp2,df_X.Comp3)\n",
    "axes[1].set_xlabel('Composante_2')\n",
    "axes[1].set_ylabel('Composante_3')\n",
    "axes[1].set_title('Résultat de la PCA')\n",
    "#ajouter les axes \n",
    "axes[1].plot([df_X[\"Comp2\"].min(),df_X[\"Comp2\"].max()],[0,0],color='red',linestyle='-',linewidth=1) \n",
    "axes[1].plot([0,0],[df_X[\"Comp3\"].min(),df_X[\"Comp3\"].max()],color='red',linestyle='-',linewidth=1) \n",
    "for k, v in df_X.iterrows():\n",
    "    axes[1].text(v.Comp2,v.Comp3,k)\n",
    "plt.grid()\n",
    "plt.show()"
   ]
  },
  {
   "cell_type": "code",
   "execution_count": null,
   "metadata": {},
   "outputs": [],
   "source": [
    "# Plot 3D pour vérifier la répartition sur les trois axes\n",
    "# import relevant libraries for 3d graph\n",
    "from mpl_toolkits.mplot3d import Axes3D\n",
    "fig = plt.figure(figsize=(6,6))\n",
    " \n",
    "# choose projection 3d for creating a 3d graph\n",
    "axis = fig.add_subplot(111, projection='3d')\n",
    " \n",
    "# x[:,0]is pc1,x[:,1] is pc2 while x[:,2] is pc3\n",
    "axis.scatter(X[:,0],X[:,1],X[:,2])\n",
    "axis.set_xlabel(\"PC1\", fontsize=10)\n",
    "axis.set_ylabel(\"PC2\", fontsize=10)\n",
    "axis.set_zlabel(\"PC3\", fontsize=10)\n",
    "plt.show()"
   ]
  },
  {
   "cell_type": "markdown",
   "metadata": {},
   "source": [
    "# Représentations des variables sur les composantes"
   ]
  },
  {
   "cell_type": "code",
   "execution_count": null,
   "metadata": {},
   "outputs": [],
   "source": [
    "pca."
   ]
  },
  {
   "cell_type": "code",
   "execution_count": null,
   "metadata": {},
   "outputs": [],
   "source": [
    "pca.components_\n",
    "# df_variable = pandas.DataFrame(pca.components_.T, columns = ['PC1', 'PC2'], index=df_Voiture_z_scaled.iloc[:,2:].columns)\n",
    "df_variable = pandas.DataFrame(pca.components_, columns = Df_Voiture.columns[1:], index=['Comp1','Comp2','Comp3','Comp4','Comp5','Comp6'])\n",
    "# Faire les corrélations \n",
    "#corr_df = df_comp.corr(method='pearson')\n",
    "# plotting heatmap\n",
    "#sns.heatmap(corr_df)\n",
    "df_variable.head()"
   ]
  },
  {
   "cell_type": "markdown",
   "metadata": {},
   "source": [
    "## Cercle des corrélations"
   ]
  },
  {
   "cell_type": "code",
   "execution_count": null,
   "metadata": {},
   "outputs": [],
   "source": [
    "#racine carrée des valeurs propres \n",
    "sqrt_valeur_propre = np.sqrt(pca.explained_variance_)\n",
    "\n",
    "#corrélation des variables avec les axes \n",
    "corvar = np.zeros((6,6)) \n",
    " \n",
    "for k in range(6): \n",
    "    corvar[:,k] = pca.components_[k,:] * sqrt_eigval[k] \n",
    "     \n",
    "#afficher la matrice des corrélations variables x facteurs     \n",
    "print(corvar) "
   ]
  },
  {
   "cell_type": "code",
   "execution_count": null,
   "metadata": {},
   "outputs": [],
   "source": [
    "#on affiche pour les deux premiers axes \n",
    "print(pandas.DataFrame({'id':Df_Voiture.columns[1:],'COR_1':corvar[:,0],'COR_2':corvar[:,1]}))"
   ]
  },
  {
   "cell_type": "code",
   "execution_count": null,
   "metadata": {},
   "outputs": [],
   "source": [
    "#cercle des corrélations des variables\n",
    "column = Df_Voiture.columns[1:].unique()\n",
    "\n",
    "fig, axes = plt.subplots(figsize=(8,8)) \n",
    "axes.set_xlim(-1,1) \n",
    "axes.set_ylim(-1,1) \n",
    " \n",
    "#affichage des étiquettes (noms des variables) \n",
    "for j in range(6): \n",
    "    plt.annotate(column[j],(corvar[j,0],corvar[j,1]))\n",
    "    plt.arrow(0, 0, corvar[j,0],corvar[j,1],color = 'y',alpha = 0.5, head_width=0.05,head_length=0.05)\n",
    "     \n",
    "#ajouter les axes \n",
    "axes.plot([df_X[\"Comp1\"].min(),df_X[\"Comp1\"].max()],[0,0],color='black',linestyle='-',linewidth=1) \n",
    "axes.plot([0,0],[df_X[\"Comp2\"].min(),df_X[\"Comp2\"].max()],color='black',linestyle='-',linewidth=1) \n",
    "\n",
    "#ajouter un cercle \n",
    "cercle = plt.Circle((0,0),1,color='blue',fill=False) \n",
    "axes.add_artist(cercle) \n",
    "\n",
    "axes.set_xlabel('Composante_1')\n",
    "axes.set_ylabel('Composante_2')\n",
    "axes.set_title('cercle des corrélations des variables')\n",
    "\n",
    "#affichage \n",
    "plt.show() "
   ]
  },
  {
   "cell_type": "raw",
   "metadata": {},
   "source": [
    "On perçoit clairement l’effet taille sur le premier axe : les voitures puissantes et rapides sont \n",
    "aussi  les  plus  lourdes  et  imposantes,  la  relation  globale  entre  les  variables  est  en  réalité \n",
    "déterminée par la cylindrée (CYL)."
   ]
  }
 ],
 "metadata": {
  "kernelspec": {
   "display_name": "Python 3",
   "language": "python",
   "name": "python3"
  },
  "language_info": {
   "codemirror_mode": {
    "name": "ipython",
    "version": 3
   },
   "file_extension": ".py",
   "mimetype": "text/x-python",
   "name": "python",
   "nbconvert_exporter": "python",
   "pygments_lexer": "ipython3",
   "version": "3.7.3"
  }
 },
 "nbformat": 4,
 "nbformat_minor": 5
}
