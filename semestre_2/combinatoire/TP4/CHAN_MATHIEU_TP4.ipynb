{
 "cells": [
  {
   "cell_type": "markdown",
   "metadata": {},
   "source": [
    "# TD 4 - Calcul non commutatif avec sympy"
   ]
  },
  {
   "cell_type": "code",
   "execution_count": 1,
   "metadata": {},
   "outputs": [],
   "source": [
    "from sympy import *"
   ]
  },
  {
   "cell_type": "code",
   "execution_count": 2,
   "metadata": {},
   "outputs": [],
   "source": [
    "a,b = symbols('a,b', commutative = False)"
   ]
  },
  {
   "cell_type": "code",
   "execution_count": 3,
   "metadata": {},
   "outputs": [],
   "source": [
    "A4 = expand((a+b)**4)"
   ]
  },
  {
   "cell_type": "code",
   "execution_count": 4,
   "metadata": {},
   "outputs": [
    {
     "name": "stdout",
     "output_type": "stream",
     "text": [
      "a*b*a*b + a*b*a**2 + a*b**2*a + a*b**3 + a**2*b*a + a**2*b**2 + a**3*b + a**4 + b*a*b*a + b*a*b**2 + b*a**2*b + b*a**3 + b**2*a*b + b**2*a**2 + b**3*a + b**4\n"
     ]
    }
   ],
   "source": [
    "print (A4)"
   ]
  },
  {
   "cell_type": "code",
   "execution_count": 5,
   "metadata": {},
   "outputs": [
    {
     "name": "stdout",
     "output_type": "stream",
     "text": [
      "[a*b*a*b, a*b*a**2, a*b**2*a, a*b**3, a**2*b*a, a**2*b**2, a**3*b, a**4, b*a*b*a, b*a*b**2, b*a**2*b, b*a**3, b**2*a*b, b**2*a**2, b**3*a, b**4]\n"
     ]
    }
   ],
   "source": [
    "print (A4.as_ordered_terms())"
   ]
  },
  {
   "cell_type": "code",
   "execution_count": 6,
   "metadata": {},
   "outputs": [],
   "source": [
    "ll = A4.as_ordered_terms()"
   ]
  },
  {
   "cell_type": "code",
   "execution_count": 7,
   "metadata": {},
   "outputs": [],
   "source": [
    "import re\n",
    "pat = re.compile(r'((\\w)\\*\\*(\\d+))')"
   ]
  },
  {
   "cell_type": "code",
   "execution_count": 8,
   "metadata": {},
   "outputs": [
    {
     "data": {
      "text/plain": [
       "a*b**3"
      ]
     },
     "execution_count": 8,
     "metadata": {},
     "output_type": "execute_result"
    }
   ],
   "source": [
    "w = ll[3];w"
   ]
  },
  {
   "cell_type": "code",
   "execution_count": 9,
   "metadata": {},
   "outputs": [
    {
     "data": {
      "text/plain": [
       "[('b**3', 'b', '3')]"
      ]
     },
     "execution_count": 9,
     "metadata": {},
     "output_type": "execute_result"
    }
   ],
   "source": [
    "pat.findall(str(w))"
   ]
  },
  {
   "cell_type": "code",
   "execution_count": 10,
   "metadata": {},
   "outputs": [],
   "source": [
    "def mon2word(w):\n",
    "    return pat.sub(lambda x: x.group(2)*int(x.group(3)),str(w)).replace('*','')"
   ]
  },
  {
   "cell_type": "code",
   "execution_count": 11,
   "metadata": {},
   "outputs": [
    {
     "name": "stdout",
     "output_type": "stream",
     "text": [
      "[a*b*a*b, a*b*a**2, a*b**2*a, a*b**3, a**2*b*a, a**2*b**2, a**3*b, a**4, b*a*b*a, b*a*b**2, b*a**2*b, b*a**3, b**2*a*b, b**2*a**2, b**3*a, b**4]\n"
     ]
    }
   ],
   "source": [
    "print(ll)"
   ]
  },
  {
   "cell_type": "code",
   "execution_count": 12,
   "metadata": {},
   "outputs": [
    {
     "name": "stdout",
     "output_type": "stream",
     "text": [
      "['abab', 'abaa', 'abba', 'abbb', 'aaba', 'aabb', 'aaab', 'aaaa', 'baba', 'babb', 'baab', 'baaa', 'bbab', 'bbaa', 'bbba', 'bbbb']\n"
     ]
    }
   ],
   "source": [
    "print(list(map(mon2word,ll)))"
   ]
  },
  {
   "cell_type": "code",
   "execution_count": 13,
   "metadata": {},
   "outputs": [],
   "source": [
    "dd = {0:1, 1:a*b}\n",
    "init_printing()\n",
    "def dyck(n):\n",
    "    if n in dd: return dd[n]\n",
    "    else:\n",
    "        dd[n] = sum([a*dyck(i)*b*dyck(n-1-i) for i in range(n)])\n",
    "        return expand(dd[n])"
   ]
  },
  {
   "cell_type": "code",
   "execution_count": 14,
   "metadata": {},
   "outputs": [
    {
     "data": {
      "image/png": "[encoded data removed]",
      "text/latex": [
       "$$a b a b + a^{2} b^{2}$$"
      ],
      "text/plain": [
       "           2  2\n",
       "a⋅b⋅a⋅b + a ⋅b "
      ]
     },
     "execution_count": 14,
     "metadata": {},
     "output_type": "execute_result"
    }
   ],
   "source": [
    "dyck(2)"
   ]
  },
  {
   "cell_type": "code",
   "execution_count": 15,
   "metadata": {},
   "outputs": [
    {
     "data": {
      "image/png": "[encoded data removed]",
      "text/latex": [
       "$$a b a b a b + a b a^{2} b^{2} + a^{2} b a b^{2} + a^{2} b^{2} a b + a^{3} b^{3}$$"
      ],
      "text/plain": [
       "                   2  2    2      2    2  2        3  3\n",
       "a⋅b⋅a⋅b⋅a⋅b + a⋅b⋅a ⋅b  + a ⋅b⋅a⋅b  + a ⋅b ⋅a⋅b + a ⋅b "
      ]
     },
     "execution_count": 15,
     "metadata": {},
     "output_type": "execute_result"
    }
   ],
   "source": [
    "dyck(3)"
   ]
  },
  {
   "cell_type": "code",
   "execution_count": 16,
   "metadata": {},
   "outputs": [
    {
     "data": {
      "image/png": "[encoded data removed]",
      "text/latex": [
       "$$a b a b a b a b + a b a b a^{2} b^{2} + a b a^{2} b a b^{2} + a b a^{2} b^{2} a b + a b a^{3} b^{3} + a^{2} b a b a b^{2} + a^{2} b a b^{2} a b + a^{2} b a^{2} b^{3} + a^{2} b^{2} a b a b + a^{2} b^{2} a^{2} b^{2} + a^{3} b a b^{3} + a^{3} b^{2} a b^{2} + a^{3} b^{3} a b + a^{4} b^{4}$$"
      ],
      "text/plain": [
       "                           2  2        2      2        2  2            3  3   \n",
       "a⋅b⋅a⋅b⋅a⋅b⋅a⋅b + a⋅b⋅a⋅b⋅a ⋅b  + a⋅b⋅a ⋅b⋅a⋅b  + a⋅b⋅a ⋅b ⋅a⋅b + a⋅b⋅a ⋅b  + \n",
       "\n",
       " 2          2    2      2        2    2  3    2  2            2  2  2  2    3 \n",
       "a ⋅b⋅a⋅b⋅a⋅b  + a ⋅b⋅a⋅b ⋅a⋅b + a ⋅b⋅a ⋅b  + a ⋅b ⋅a⋅b⋅a⋅b + a ⋅b ⋅a ⋅b  + a ⋅\n",
       "\n",
       "     3    3  2    2    3  3        4  4\n",
       "b⋅a⋅b  + a ⋅b ⋅a⋅b  + a ⋅b ⋅a⋅b + a ⋅b "
      ]
     },
     "execution_count": 16,
     "metadata": {},
     "output_type": "execute_result"
    }
   ],
   "source": [
    "dyck(4)"
   ]
  },
  {
   "cell_type": "code",
   "execution_count": 28,
   "metadata": {},
   "outputs": [
    {
     "data": {
      "image/png": "[encoded data removed]",
      "text/latex": [
       "$$\\left [ a b \\left(a b \\left(a b a b + a^{2} b^{2}\\right) + a \\left(a b a b + a^{2} b^{2}\\right) b + a^{2} b^{2} a b\\right), \\quad a \\left(a b a b + a^{2} b^{2}\\right) b a b, \\quad a \\left(a b \\left(a b a b + a^{2} b^{2}\\right) + a \\left(a b a b + a^{2} b^{2}\\right) b + a^{2} b^{2} a b\\right) b, \\quad a^{2} b^{2} \\left(a b a b + a^{2} b^{2}\\right)\\right ]$$"
      ],
      "text/plain": [
       "⎡    ⎛    ⎛           2  2⎞     ⎛           2  2⎞      2  2    ⎞    ⎛         \n",
       "⎣a⋅b⋅⎝a⋅b⋅⎝a⋅b⋅a⋅b + a ⋅b ⎠ + a⋅⎝a⋅b⋅a⋅b + a ⋅b ⎠⋅b + a ⋅b ⋅a⋅b⎠, a⋅⎝a⋅b⋅a⋅b +\n",
       "\n",
       "  2  2⎞          ⎛    ⎛           2  2⎞     ⎛           2  2⎞      2  2    ⎞  \n",
       " a ⋅b ⎠⋅b⋅a⋅b, a⋅⎝a⋅b⋅⎝a⋅b⋅a⋅b + a ⋅b ⎠ + a⋅⎝a⋅b⋅a⋅b + a ⋅b ⎠⋅b + a ⋅b ⋅a⋅b⎠⋅b\n",
       "\n",
       "   2  2 ⎛           2  2⎞⎤\n",
       ", a ⋅b ⋅⎝a⋅b⋅a⋅b + a ⋅b ⎠⎦"
      ]
     },
     "execution_count": 28,
     "metadata": {},
     "output_type": "execute_result"
    }
   ],
   "source": [
    "D4 = dyck(4).as_ordered_terms();D4"
   ]
  },
  {
   "cell_type": "code",
   "execution_count": 29,
   "metadata": {},
   "outputs": [
    {
     "name": "stdout",
     "output_type": "stream",
     "text": [
      "['abababab + ababaabb + abaababb + abaabbab + abaaabbb', 'aababbab + aaabbbab', 'aabababb + aabaabbb + aaababbb + aaabbabb + aaaabbbb', 'aabbabab + aabbaabb']\n"
     ]
    }
   ],
   "source": [
    "print (list(map(mon2word,map(expand, D4))))"
   ]
  },
  {
   "cell_type": "code",
   "execution_count": 19,
   "metadata": {},
   "outputs": [
    {
     "data": {
      "image/png": "[encoded data removed]",
      "text/latex": [
       "$$x$$"
      ],
      "text/plain": [
       "x"
      ]
     },
     "execution_count": 19,
     "metadata": {},
     "output_type": "execute_result"
    }
   ],
   "source": [
    "var('x')"
   ]
  },
  {
   "cell_type": "code",
   "execution_count": 20,
   "metadata": {},
   "outputs": [],
   "source": [
    "d5 = dyck(5)"
   ]
  },
  {
   "cell_type": "code",
   "execution_count": 21,
   "metadata": {},
   "outputs": [
    {
     "data": {
      "image/png": "[encoded data removed]",
      "text/latex": [
       "$$42 x^{10}$$"
      ],
      "text/plain": [
       "    10\n",
       "42⋅x  "
      ]
     },
     "execution_count": 21,
     "metadata": {},
     "output_type": "execute_result"
    }
   ],
   "source": [
    "d5.subs({a:x,b:x}) # Les substitutions se font avec un dictionnaire"
   ]
  },
  {
   "cell_type": "code",
   "execution_count": 49,
   "metadata": {},
   "outputs": [
    {
     "name": "stdout",
     "output_type": "stream",
     "text": [
      "1 1 2 5 14 42 132 429 "
     ]
    }
   ],
   "source": [
    "for i in range(8):\n",
    "    d = dyck(i)\n",
    "    if i < 1: print(d, end=' ')\n",
    "    else:\n",
    "        print(d.subs({a:x,b:x}).as_poly().all_coeffs()[0], end=' ')"
   ]
  },
  {
   "cell_type": "code",
   "execution_count": 55,
   "metadata": {},
   "outputs": [],
   "source": [
    "ff = {0:1, 1:b, 2:a*b+b*b}\n",
    "\n",
    "def fib(n):\n",
    "    if n in ff: return ff[n]\n",
    "    else:\n",
    "        ff[n] = sum([b*ff[n-1]+a*b*ff[n-2]])\n",
    "        return expand(ff[n])"
   ]
  },
  {
   "cell_type": "code",
   "execution_count": 56,
   "metadata": {},
   "outputs": [
    {
     "data": {
      "image/png": "[encoded data removed]",
      "text/latex": [
       "$$a b^{2} + b a b + b^{3}$$"
      ],
      "text/plain": [
       "   2            3\n",
       "a⋅b  + b⋅a⋅b + b "
      ]
     },
     "execution_count": 56,
     "metadata": {},
     "output_type": "execute_result"
    }
   ],
   "source": [
    "fib(3)"
   ]
  },
  {
   "cell_type": "code",
   "execution_count": 64,
   "metadata": {},
   "outputs": [
    {
     "name": "stdout",
     "output_type": "stream",
     "text": [
      "1 1 2 3 5 8 13 21 "
     ]
    }
   ],
   "source": [
    "for i in range(8):\n",
    "    f = fib(i)\n",
    "    if i < 1: print(f, end=' ')\n",
    "    else:\n",
    "        print(f.subs({a:x,b:x}).as_poly().all_coeffs()[0], end=' ')"
   ]
  },
  {
   "cell_type": "code",
   "execution_count": 90,
   "metadata": {},
   "outputs": [],
   "source": [
    "var('o')\n",
    "def bintrees(n):\n",
    "    ll = []\n",
    "    if n == 1: return [o]\n",
    "    for i in range(1,n):\n",
    "        ll += [(o, l, r) for l in bintrees(i) for r in bintrees(n - i)]\n",
    "    return ll"
   ]
  },
  {
   "cell_type": "code",
   "execution_count": 91,
   "metadata": {},
   "outputs": [
    {
     "name": "stdout",
     "output_type": "stream",
     "text": [
      "[(o, o, (o, o, (o, o, (o, o, o)))), (o, o, (o, o, (o, (o, o, o), o))), (o, o, (o, (o, o, o), (o, o, o))), (o, o, (o, (o, o, (o, o, o)), o)), (o, o, (o, (o, (o, o, o), o), o)), (o, (o, o, o), (o, o, (o, o, o))), (o, (o, o, o), (o, (o, o, o), o)), (o, (o, o, (o, o, o)), (o, o, o)), (o, (o, (o, o, o), o), (o, o, o)), (o, (o, o, (o, o, (o, o, o))), o), (o, (o, o, (o, (o, o, o), o)), o), (o, (o, (o, o, o), (o, o, o)), o), (o, (o, (o, o, (o, o, o)), o), o), (o, (o, (o, (o, o, o), o), o), o)]\n"
     ]
    }
   ],
   "source": [
    "print (bintrees(5))"
   ]
  },
  {
   "cell_type": "code",
   "execution_count": 130,
   "metadata": {},
   "outputs": [],
   "source": [
    "def parcours(t):\n",
    "    def aux(tree):\n",
    "        if tree == o: return ''\n",
    "        return 'a'+ aux(tree[1])+'b'+ aux(tree[2])\n",
    "    return [aux(tree) for tree in t]"
   ]
  },
  {
   "cell_type": "code",
   "execution_count": 133,
   "metadata": {},
   "outputs": [
    {
     "data": {
      "text/plain": [
       "['abababab',\n",
       " 'ababaabb',\n",
       " 'abaabbab',\n",
       " 'abaababb',\n",
       " 'abaaabbb',\n",
       " 'aabbabab',\n",
       " 'aabbaabb',\n",
       " 'aababbab',\n",
       " 'aaabbbab',\n",
       " 'aabababb',\n",
       " 'aabaabbb',\n",
       " 'aaabbabb',\n",
       " 'aaababbb',\n",
       " 'aaaabbbb']"
      ]
     },
     "execution_count": 133,
     "metadata": {},
     "output_type": "execute_result"
    }
   ],
   "source": [
    "parcours(bintrees(5))"
   ]
  },
  {
   "cell_type": "markdown",
   "metadata": {},
   "source": [
    "# Question supplémentaire\n",
    "Programmer la bijection inverse, c'est à dire, retrouver l'arbre binaire à partir du mot de Dyck. Indication : calculer les sommes cumulées de a=1 et b=-1 et trouver la position du premier retour à l'axe."
   ]
  },
  {
   "cell_type": "code",
   "execution_count": 139,
   "metadata": {},
   "outputs": [
    {
     "data": {
      "image/png": "[encoded data removed]",
      "text/latex": [
       "$$\\left ( o, \\quad o, \\quad \\left ( o, \\quad o, \\quad \\left ( o, \\quad o, \\quad \\left ( o, \\quad o, \\quad \\left ( o, \\quad o, \\quad o\\right )\\right )\\right )\\right )\\right )$$"
      ],
      "text/plain": [
       "(o, o, (o, o, (o, o, (o, o, (o, o, o)))))"
      ]
     },
     "execution_count": 139,
     "metadata": {},
     "output_type": "execute_result"
    }
   ],
   "source": [
    "def bij(w):\n",
    "    code = []\n",
    "    somme = 0\n",
    "    for letter in w:\n",
    "        somme += 1 if letter == 'a' else -1\n",
    "        code.append(somme)\n",
    "    def aux(c):\n",
    "        if c == []: return (o,o,o)\n",
    "        if c[0]-c[1]: return (o,o,aux(c[2:]))\n",
    "        return (o,aux(c[2:]),o)\n",
    "    return aux(code)\n",
    "    \n",
    "bij('abababab')"
   ]
  },
  {
   "cell_type": "code",
   "execution_count": null,
   "metadata": {},
   "outputs": [],
   "source": []
  },
  {
   "cell_type": "code",
   "execution_count": null,
   "metadata": {},
   "outputs": [],
   "source": []
  }
 ],
 "metadata": {
  "kernelspec": {
   "display_name": "Python 3",
   "language": "python",
   "name": "python3"
  },
  "language_info": {
   "codemirror_mode": {
    "name": "ipython",
    "version": 3
   },
   "file_extension": ".py",
   "mimetype": "text/x-python",
   "name": "python",
   "nbconvert_exporter": "python",
   "pygments_lexer": "ipython3",
   "version": "3.7.3"
  }
 },
 "nbformat": 4,
 "nbformat_minor": 2
}
