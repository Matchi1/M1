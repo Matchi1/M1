{
 "cells": [
  {
   "cell_type": "markdown",
   "metadata": {},
   "source": [
    "# Partitions d'entiers"
   ]
  },
  {
   "cell_type": "code",
   "execution_count": 1,
   "metadata": {},
   "outputs": [],
   "source": [
    "# Il vaut mieux commencer par une fonction sans arguments optionnels\n",
    "def pp(n,k,l):\n",
    "    if n == 0: return [tuple()]\n",
    "    if l == 0 or k == 0: return []\n",
    "    return [(j,) + x for j in range(min(k,n),0,-1) for x in pp(n-j,j,l-1)]"
   ]
  },
  {
   "cell_type": "code",
   "execution_count": 2,
   "metadata": {},
   "outputs": [
    {
     "data": {
      "text/plain": [
       "[(4, 4), (4, 3, 1), (4, 2, 2), (3, 3, 2)]"
      ]
     },
     "execution_count": 2,
     "metadata": {},
     "output_type": "execute_result"
    }
   ],
   "source": [
    "pp(8,4,3)"
   ]
  },
  {
   "cell_type": "code",
   "execution_count": 3,
   "metadata": {},
   "outputs": [
    {
     "data": {
      "text/plain": [
       "[(3, 3, 2), (3, 3, 1, 1), (3, 2, 2, 1), (2, 2, 2, 2)]"
      ]
     },
     "execution_count": 3,
     "metadata": {},
     "output_type": "execute_result"
    }
   ],
   "source": [
    "pp(8,3,4)"
   ]
  },
  {
   "cell_type": "code",
   "execution_count": 4,
   "metadata": {},
   "outputs": [
    {
     "data": {
      "text/plain": [
       "[(6,),\n",
       " (5, 1),\n",
       " (4, 2),\n",
       " (4, 1, 1),\n",
       " (3, 3),\n",
       " (3, 2, 1),\n",
       " (3, 1, 1, 1),\n",
       " (2, 2, 2),\n",
       " (2, 2, 1, 1),\n",
       " (2, 1, 1, 1, 1),\n",
       " (1, 1, 1, 1, 1, 1)]"
      ]
     },
     "execution_count": 4,
     "metadata": {},
     "output_type": "execute_result"
    }
   ],
   "source": [
    "pp(6,6,6)"
   ]
  },
  {
   "cell_type": "code",
   "execution_count": 5,
   "metadata": {},
   "outputs": [],
   "source": [
    "def partitions(n,maxpart=None,maxlength=None):\n",
    "    return pp(n,maxpart if maxpart != None else n, maxlength if maxlength != None else n)"
   ]
  },
  {
   "cell_type": "code",
   "execution_count": 6,
   "metadata": {},
   "outputs": [
    {
     "data": {
      "text/plain": [
       "[(4, 4), (4, 3, 1), (4, 2, 2), (3, 3, 2)]"
      ]
     },
     "execution_count": 6,
     "metadata": {},
     "output_type": "execute_result"
    }
   ],
   "source": [
    "partitions(8,4,3)"
   ]
  },
  {
   "cell_type": "code",
   "execution_count": 7,
   "metadata": {},
   "outputs": [
    {
     "data": {
      "text/plain": [
       "[(3, 3, 2), (3, 3, 1, 1), (3, 2, 2, 1), (2, 2, 2, 2)]"
      ]
     },
     "execution_count": 7,
     "metadata": {},
     "output_type": "execute_result"
    }
   ],
   "source": [
    "partitions(8,3,4)"
   ]
  },
  {
   "cell_type": "code",
   "execution_count": 8,
   "metadata": {},
   "outputs": [
    {
     "data": {
      "text/plain": [
       "[(6,),\n",
       " (5, 1),\n",
       " (4, 2),\n",
       " (4, 1, 1),\n",
       " (3, 3),\n",
       " (3, 2, 1),\n",
       " (3, 1, 1, 1),\n",
       " (2, 2, 2),\n",
       " (2, 2, 1, 1),\n",
       " (2, 1, 1, 1, 1),\n",
       " (1, 1, 1, 1, 1, 1)]"
      ]
     },
     "execution_count": 8,
     "metadata": {},
     "output_type": "execute_result"
    }
   ],
   "source": [
    "partitions(6)"
   ]
  },
  {
   "cell_type": "code",
   "execution_count": 9,
   "metadata": {},
   "outputs": [
    {
     "data": {
      "text/plain": [
       "[(4, 2),\n",
       " (4, 1, 1),\n",
       " (3, 3),\n",
       " (3, 2, 1),\n",
       " (3, 1, 1, 1),\n",
       " (2, 2, 2),\n",
       " (2, 2, 1, 1),\n",
       " (2, 1, 1, 1, 1),\n",
       " (1, 1, 1, 1, 1, 1)]"
      ]
     },
     "execution_count": 9,
     "metadata": {},
     "output_type": "execute_result"
    }
   ],
   "source": [
    "partitions(6, maxpart=4)"
   ]
  },
  {
   "cell_type": "code",
   "execution_count": 10,
   "metadata": {},
   "outputs": [
    {
     "data": {
      "text/plain": [
       "[(6,),\n",
       " (5, 1),\n",
       " (4, 2),\n",
       " (4, 1, 1),\n",
       " (3, 3),\n",
       " (3, 2, 1),\n",
       " (3, 1, 1, 1),\n",
       " (2, 2, 2),\n",
       " (2, 2, 1, 1)]"
      ]
     },
     "execution_count": 10,
     "metadata": {},
     "output_type": "execute_result"
    }
   ],
   "source": [
    "partitions(6, maxlength=4)"
   ]
  },
  {
   "cell_type": "markdown",
   "metadata": {},
   "source": [
    "# Diagramme de Ferrer"
   ]
  },
  {
   "cell_type": "code",
   "execution_count": 11,
   "metadata": {},
   "outputs": [],
   "source": [
    "def ferrers(p):\n",
    "    for i in range(len(p)-1,-1,-1):\n",
    "        for _ in range(p[i]):\n",
    "            print(' * ', end='')\n",
    "        print()"
   ]
  },
  {
   "cell_type": "code",
   "execution_count": 12,
   "metadata": {},
   "outputs": [
    {
     "name": "stdout",
     "output_type": "stream",
     "text": [
      " * \n",
      " * \n",
      " *  * \n",
      " *  *  * \n",
      " *  *  * \n",
      " *  *  *  *  * \n"
     ]
    }
   ],
   "source": [
    "ferrers([5,3,3,2,1,1])"
   ]
  },
  {
   "cell_type": "code",
   "execution_count": 13,
   "metadata": {},
   "outputs": [
    {
     "name": "stdout",
     "output_type": "stream",
     "text": [
      "(1 - x)*(1 - x**2)*(1 - x**3)*(1 - x**4)*(1 - x**5)*(1 - x**6)*(1 - x**7)*(1 - x**8)*(1 - x**9)*(1 - x**10)*(1 - x**11)*(1 - x**12)*(1 - x**13)*(1 - x**14)*(1 - x**15)*(1 - x**16)*(1 - x**17)*(1 - x**18)*(1 - x**19)*(1 - x**20)*(1 - x**21)*(1 - x**22)*(1 - x**23)*(1 - x**24)*(1 - x**25)*(1 - x**26)*(1 - x**27)*(1 - x**28)*(1 - x**29)*(1 - x**30)*(1 - x**31)*(1 - x**32)*(1 - x**33)*(1 - x**34)*(1 - x**35)*(1 - x**36)*(1 - x**37)*(1 - x**38)*(1 - x**39)*(1 - x**40)*(1 - x**41)*(1 - x**42)*(1 - x**43)*(1 - x**44)*(1 - x**45)*(1 - x**46)*(1 - x**47)*(1 - x**48)*(1 - x**49)*(1 - x**50)\n"
     ]
    }
   ],
   "source": [
    "from sympy import *\n",
    "from functools import reduce\n",
    "var('x')\n",
    "g = reduce(lambda u,v:u*v,[1-x**k for k in range(1,51)])\n",
    "print (g)"
   ]
  },
  {
   "cell_type": "code",
   "execution_count": 14,
   "metadata": {},
   "outputs": [
    {
     "name": "stdout",
     "output_type": "stream",
     "text": [
      "-x**40 - x**35 + x**26 + x**22 - x**15 - x**12 + x**7 + x**5 - x**2 - x + 1\n"
     ]
    }
   ],
   "source": [
    "# Il faut donner un petit coup de pouce en décomposant le calcul\n",
    "a = 1-x\n",
    "for k in range(2,51):\n",
    "    b = a*(1-x**k)\n",
    "    b = b.expand()\n",
    "    b = series(b,x,0,51).removeO()\n",
    "    a = b\n",
    "print (a)"
   ]
  },
  {
   "cell_type": "code",
   "execution_count": 15,
   "metadata": {},
   "outputs": [],
   "source": [
    "d = {(0,0):1, (0,1):1, (1,1):-1}\n",
    "def a(n,k):\n",
    "    if (n,k) in d:\n",
    "        return d[(n,k)]\n",
    "    elif k==0:\n",
    "        d[(n,k)] = 0\n",
    "    elif n==0:\n",
    "        d[(n,k)] = 1\n",
    "    elif n < k:\n",
    "        d[(n,k)] = a(n,k-1)\n",
    "    else:\n",
    "        d[(n,k)] = a(n,k-1) - a(n-k,k-1)\n",
    "    return d[(n,k)]"
   ]
  },
  {
   "cell_type": "markdown",
   "metadata": {},
   "source": [
    "# Le théorème des nombres pentagonaux d'Euler"
   ]
  },
  {
   "cell_type": "code",
   "execution_count": 16,
   "metadata": {},
   "outputs": [
    {
     "name": "stdout",
     "output_type": "stream",
     "text": [
      "0 1 2 5 7 12 15 22 26 35 40 51 57 70 77 92 100 117 126 145 155 176 187 "
     ]
    }
   ],
   "source": [
    "for n in range(200):\n",
    "    if a(n,n) != 0: print(n, end=' ')"
   ]
  },
  {
   "cell_type": "code",
   "execution_count": 17,
   "metadata": {},
   "outputs": [
    {
     "name": "stdout",
     "output_type": "stream",
     "text": [
      "[1, 1, 3, 2, 5, 3, 7, 4, 9, 5, 11, 6, 13, 7, 15, 8, 17, 9, 19, 10, 21, 11]\n"
     ]
    }
   ],
   "source": [
    "x = [n for n in range(200) if a(n,n) != 0]\n",
    "for i in range(len(x)-1):\n",
    "    x[i] = x[i+1] - x[i]\n",
    "x = x[:-1]\n",
    "print(x)"
   ]
  },
  {
   "cell_type": "code",
   "execution_count": 18,
   "metadata": {},
   "outputs": [
    {
     "name": "stdout",
     "output_type": "stream",
     "text": [
      "[1, 3, 5, 7, 9, 11, 13, 15, 17, 19, 21]\n",
      "[1, 2, 3, 4, 5, 6, 7, 8, 9, 10, 11]\n"
     ]
    }
   ],
   "source": [
    "print(x[::2])\n",
    "print(x[1::2])"
   ]
  },
  {
   "cell_type": "markdown",
   "metadata": {},
   "source": [
    "1, 3, 5, 7, 9, 11, 13, 15, 17, 19, 21 -> 2k+1\n",
    "\n",
    "1, 2, 3, 4, 5, 6, 7, 8, 9, 10, 11 -> k"
   ]
  },
  {
   "cell_type": "code",
   "execution_count": 19,
   "metadata": {},
   "outputs": [
    {
     "name": "stdout",
     "output_type": "stream",
     "text": [
      "0 0 1 2 5 7 12 15 22 26 35 40 51 57 70 77 92 100 117 126 "
     ]
    }
   ],
   "source": [
    "for x in range(10):\n",
    "    print (x*(3*x-1)//2, x*(3*x+1)//2, end=' ')"
   ]
  },
  {
   "cell_type": "code",
   "execution_count": 20,
   "metadata": {},
   "outputs": [
    {
     "data": {
      "text/latex": [
       "$\\displaystyle x^{126} - x^{117} + x^{100} - x^{92} + x^{77} - x^{70} + x^{57} - x^{51} + x^{40} - x^{35} + x^{26} - x^{22} + x^{15} - x^{12} + x^{7} - x^{5} + x^{2} - x + 1$"
      ],
      "text/plain": [
       "x**126 - x**117 + x**100 - x**92 + x**77 - x**70 + x**57 - x**51 + x**40 - x**35 + x**26 - x**22 + x**15 - x**12 + x**7 - x**5 + x**2 - x + 1"
      ]
     },
     "execution_count": 20,
     "metadata": {},
     "output_type": "execute_result"
    }
   ],
   "source": [
    "var('x')\n",
    "res = 1\n",
    "for i in range(10):\n",
    "    res += ((-1)**n)*((x**(i*(3*i-1)//2)) - (x**(i*(3*i+1)//2)))\n",
    "res"
   ]
  },
  {
   "cell_type": "code",
   "execution_count": 21,
   "metadata": {},
   "outputs": [],
   "source": [
    "def part(n):\n",
    "    if n == 0: return 1\n",
    "    return sum([-part(n-k)*a(k,k) for k in range(1,n+1)])"
   ]
  },
  {
   "cell_type": "code",
   "execution_count": 22,
   "metadata": {},
   "outputs": [
    {
     "data": {
      "text/plain": [
       "[1, 1, 2, 3, 5, 7, 11, 15, 22, 30]"
      ]
     },
     "execution_count": 22,
     "metadata": {},
     "output_type": "execute_result"
    }
   ],
   "source": [
    "[part(n) for n in range(10)]"
   ]
  },
  {
   "cell_type": "code",
   "execution_count": null,
   "metadata": {},
   "outputs": [],
   "source": []
  }
 ],
 "metadata": {
  "kernelspec": {
   "display_name": "Python 3",
   "language": "python",
   "name": "python3"
  },
  "language_info": {
   "codemirror_mode": {
    "name": "ipython",
    "version": 3
   },
   "file_extension": ".py",
   "mimetype": "text/x-python",
   "name": "python",
   "nbconvert_exporter": "python",
   "pygments_lexer": "ipython3",
   "version": "3.8.5"
  }
 },
 "nbformat": 4,
 "nbformat_minor": 2
}
