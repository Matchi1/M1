{
 "cells": [
  {
   "cell_type": "markdown",
   "metadata": {},
   "source": [
    "# Partitions autoconjuguées"
   ]
  },
  {
   "cell_type": "code",
   "execution_count": 1,
   "metadata": {},
   "outputs": [],
   "source": [
    "def pp(n,k,l):\n",
    "    if n==0: return [tuple()]\n",
    "    if l<=0 or k<=0: return []\n",
    "    return [(i,)+ p for i in range(min(k,n),0,-1) for p in pp(n-i,i,l-1)]\n",
    "\n",
    "def partitions(n,maxpart=None,maxlength=None):\n",
    "    k = maxpart or n\n",
    "    l = maxlength or n\n",
    "    return pp(n,k,l)"
   ]
  },
  {
   "cell_type": "code",
   "execution_count": 2,
   "metadata": {},
   "outputs": [],
   "source": [
    "def conjugate(p):\n",
    "    return tuple([len([j for j in range(len(p)) if p[j]>=i]) for i in range(1,p[0]+1) ])"
   ]
  },
  {
   "cell_type": "code",
   "execution_count": 3,
   "metadata": {},
   "outputs": [],
   "source": [
    "def auto_conjugate(n):\n",
    "    return [elt for i in range(1,n) for elt in partitions(i) if elt == conjugate(elt)]"
   ]
  },
  {
   "cell_type": "code",
   "execution_count": 4,
   "metadata": {},
   "outputs": [
    {
     "name": "stdout",
     "output_type": "stream",
     "text": [
      "[(1,), (2, 1), (2, 2), (3, 1, 1), (3, 2, 1), (4, 1, 1, 1), (4, 2, 1, 1), (3, 3, 2), (5, 1, 1, 1, 1), (3, 3, 3), (5, 2, 1, 1, 1), (4, 3, 2, 1), (6, 1, 1, 1, 1, 1), (4, 3, 3, 1), (6, 2, 1, 1, 1, 1), (5, 3, 2, 1, 1), (4, 4, 2, 2), (7, 1, 1, 1, 1, 1, 1), (5, 3, 3, 1, 1), (4, 4, 3, 2), (7, 2, 1, 1, 1, 1, 1), (6, 3, 2, 1, 1, 1), (5, 4, 2, 2, 1), (8, 1, 1, 1, 1, 1, 1, 1), (6, 3, 3, 1, 1, 1), (5, 4, 3, 2, 1), (4, 4, 4, 3), (8, 2, 1, 1, 1, 1, 1, 1), (7, 3, 2, 1, 1, 1, 1), (6, 4, 2, 2, 1, 1), (5, 5, 2, 2, 2), (4, 4, 4, 4), (9, 1, 1, 1, 1, 1, 1, 1, 1), (7, 3, 3, 1, 1, 1, 1), (6, 4, 3, 2, 1, 1), (5, 5, 3, 2, 2), (5, 4, 4, 3, 1), (9, 2, 1, 1, 1, 1, 1, 1, 1), (8, 3, 2, 1, 1, 1, 1, 1), (7, 4, 2, 2, 1, 1, 1), (6, 5, 2, 2, 2, 1), (5, 4, 4, 4, 1), (10, 1, 1, 1, 1, 1, 1, 1, 1, 1), (8, 3, 3, 1, 1, 1, 1, 1), (7, 4, 3, 2, 1, 1, 1), (6, 5, 3, 2, 2, 1), (6, 4, 4, 3, 1, 1), (5, 5, 4, 3, 2)]\n"
     ]
    }
   ],
   "source": [
    "auto = auto_conjugate(20)\n",
    "print(auto)"
   ]
  },
  {
   "cell_type": "code",
   "execution_count": 15,
   "metadata": {},
   "outputs": [],
   "source": [
    "from sympy import *\n",
    "\n",
    "var('x')\n",
    "def coeff_part(n):\n",
    "    res = 1\n",
    "    for k in range(0, n):\n",
    "        res *= (1 + x**(2*k+1))\n",
    "    return res.expand().as_poly().all_coeffs()"
   ]
  },
  {
   "cell_type": "code",
   "execution_count": 16,
   "metadata": {},
   "outputs": [
    {
     "name": "stdout",
     "output_type": "stream",
     "text": [
      "[1, 1, 0, 1, 1, 1, 1, 1, 2, 2, 2, 2, 3, 3, 3, 4, 5, 5, 5, 6, 7, 8, 8, 9, 11, 12, 12, 14, 16, 17, 18, 20, 23, 25, 26, 29, 33, 35, 37, 41, 46, 48, 51, 56, 61, 66, 69, 75, 83, 88, 92, 100, 109, 115, 122, 131, 142, 150, 158, 169, 183, 193, 202, 217, 233, 245, 257, 274, 292, 308, 322, 342, 365, 383, 399, 424, 449, 470, 491, 518, 548, 573, 597, 628, 663, 692, 719, 756, 795, 827, 860, 901, 944, 982, 1019, 1064, 1115, 1156, 1197, 1249, 1304, 1349, 1397, 1453, 1513, 1565, 1616, 1677, 1744, 1800, 1855, 1924, 1995, 2055, 2116, 2190, 2264, 2332, 2396, 2474, 2557, 2627, 2694, 2779, 2864, 2938, 3011, 3099, 3188, 3267, 3342, 3433, 3527, 3608, 3685, 3781, 3878, 3958, 4040, 4136, 4234, 4318, 4400, 4496, 4599, 4681, 4762, 4861, 4962, 5042, 5126, 5222, 5322, 5403, 5483, 5577, 5676, 5754, 5829, 5924, 6019, 6091, 6164, 6254, 6342, 6414, 6480, 6564, 6650, 6714, 6772, 6854, 6930, 6987, 7040, 7114, 7182, 7233, 7277, 7341, 7404, 7445, 7479, 7537, 7590, 7619, 7647, 7693, 7735, 7757, 7775, 7808, 7845, 7853, 7859, 7885, 7909, 7905, 7904, 7917, 7930, 7917, 7904, 7905, 7909, 7885, 7859, 7853, 7845, 7808, 7775, 7757, 7735, 7693, 7647, 7619, 7590, 7537, 7479, 7445, 7404, 7341, 7277, 7233, 7182, 7114, 7040, 6987, 6930, 6854, 6772, 6714, 6650, 6564, 6480, 6414, 6342, 6254, 6164, 6091, 6019, 5924, 5829, 5754, 5676, 5577, 5483, 5403, 5322, 5222, 5126, 5042, 4962, 4861, 4762, 4681, 4599, 4496, 4400, 4318, 4234, 4136, 4040, 3958, 3878, 3781, 3685, 3608, 3527, 3433, 3342, 3267, 3188, 3099, 3011, 2938, 2864, 2779, 2694, 2627, 2557, 2474, 2396, 2332, 2264, 2190, 2116, 2055, 1995, 1924, 1855, 1800, 1744, 1677, 1616, 1565, 1513, 1453, 1397, 1349, 1304, 1249, 1197, 1156, 1115, 1064, 1019, 982, 944, 901, 860, 827, 795, 756, 719, 692, 663, 628, 597, 573, 548, 518, 491, 470, 449, 424, 399, 383, 365, 342, 322, 308, 292, 274, 257, 245, 233, 217, 202, 193, 183, 169, 158, 150, 142, 131, 122, 115, 109, 100, 92, 88, 83, 75, 69, 66, 61, 56, 51, 48, 46, 41, 37, 35, 33, 29, 26, 25, 23, 20, 18, 17, 16, 14, 12, 12, 11, 9, 8, 8, 7, 6, 5, 5, 5, 4, 3, 3, 3, 2, 2, 2, 2, 1, 1, 1, 1, 1, 0, 1, 1]\n"
     ]
    }
   ],
   "source": [
    "print(coeff_part(20))"
   ]
  },
  {
   "cell_type": "code",
   "execution_count": 21,
   "metadata": {},
   "outputs": [
    {
     "name": "stdout",
     "output_type": "stream",
     "text": [
      "1 :  [1, 1]\n",
      "2 :  [1, 1, 0, 1, 1]\n",
      "3 :  [1, 1, 0, 1, 1, 1, 1, 0, 1, 1]\n",
      "4 :  [1, 1, 0, 1, 1, 1, 1, 1, 2, 1, 1, 1, 1, 1, 0, 1, 1]\n"
     ]
    }
   ],
   "source": [
    "for i in range(1,5):\n",
    "    print(str(i) + ' : ', coeff_part(i))"
   ]
  },
  {
   "cell_type": "markdown",
   "metadata": {},
   "source": [
    "On peut remarquer que les valeurs sont symétriques dans la liste des coefficients du développement du produit"
   ]
  },
  {
   "cell_type": "code",
   "execution_count": 6,
   "metadata": {},
   "outputs": [],
   "source": [
    "def ferrers(p):\n",
    "    ll = [' * '*i for i in sorted(p)]\n",
    "    return '\\n'.join(ll)"
   ]
  },
  {
   "cell_type": "code",
   "execution_count": 11,
   "metadata": {},
   "outputs": [
    {
     "name": "stdout",
     "output_type": "stream",
     "text": [
      "for partition (1,)\n",
      " * \n",
      "\n",
      "for partition (2, 1)\n",
      " * \n",
      " *  * \n",
      "\n",
      "for partition (2, 2)\n",
      " *  * \n",
      " *  * \n",
      "\n",
      "for partition (3, 1, 1)\n",
      " * \n",
      " * \n",
      " *  *  * \n",
      "\n",
      "for partition (3, 2, 1)\n",
      " * \n",
      " *  * \n",
      " *  *  * \n",
      "\n",
      "for partition (4, 1, 1, 1)\n",
      " * \n",
      " * \n",
      " * \n",
      " *  *  *  * \n",
      "\n",
      "for partition (4, 2, 1, 1)\n",
      " * \n",
      " * \n",
      " *  * \n",
      " *  *  *  * \n",
      "\n",
      "for partition (3, 3, 2)\n",
      " *  * \n",
      " *  *  * \n",
      " *  *  * \n",
      "\n",
      "for partition (5, 1, 1, 1, 1)\n",
      " * \n",
      " * \n",
      " * \n",
      " * \n",
      " *  *  *  *  * \n",
      "\n",
      "for partition (3, 3, 3)\n",
      " *  *  * \n",
      " *  *  * \n",
      " *  *  * \n",
      "\n",
      "for partition (5, 2, 1, 1, 1)\n",
      " * \n",
      " * \n",
      " * \n",
      " *  * \n",
      " *  *  *  *  * \n",
      "\n",
      "for partition (4, 3, 2, 1)\n",
      " * \n",
      " *  * \n",
      " *  *  * \n",
      " *  *  *  * \n",
      "\n",
      "for partition (6, 1, 1, 1, 1, 1)\n",
      " * \n",
      " * \n",
      " * \n",
      " * \n",
      " * \n",
      " *  *  *  *  *  * \n",
      "\n",
      "for partition (4, 3, 3, 1)\n",
      " * \n",
      " *  *  * \n",
      " *  *  * \n",
      " *  *  *  * \n",
      "\n",
      "for partition (6, 2, 1, 1, 1, 1)\n",
      " * \n",
      " * \n",
      " * \n",
      " * \n",
      " *  * \n",
      " *  *  *  *  *  * \n",
      "\n",
      "for partition (5, 3, 2, 1, 1)\n",
      " * \n",
      " * \n",
      " *  * \n",
      " *  *  * \n",
      " *  *  *  *  * \n",
      "\n",
      "for partition (4, 4, 2, 2)\n",
      " *  * \n",
      " *  * \n",
      " *  *  *  * \n",
      " *  *  *  * \n",
      "\n",
      "for partition (7, 1, 1, 1, 1, 1, 1)\n",
      " * \n",
      " * \n",
      " * \n",
      " * \n",
      " * \n",
      " * \n",
      " *  *  *  *  *  *  * \n",
      "\n",
      "for partition (5, 3, 3, 1, 1)\n",
      " * \n",
      " * \n",
      " *  *  * \n",
      " *  *  * \n",
      " *  *  *  *  * \n",
      "\n",
      "for partition (4, 4, 3, 2)\n",
      " *  * \n",
      " *  *  * \n",
      " *  *  *  * \n",
      " *  *  *  * \n",
      "\n",
      "for partition (7, 2, 1, 1, 1, 1, 1)\n",
      " * \n",
      " * \n",
      " * \n",
      " * \n",
      " * \n",
      " *  * \n",
      " *  *  *  *  *  *  * \n",
      "\n",
      "for partition (6, 3, 2, 1, 1, 1)\n",
      " * \n",
      " * \n",
      " * \n",
      " *  * \n",
      " *  *  * \n",
      " *  *  *  *  *  * \n",
      "\n",
      "for partition (5, 4, 2, 2, 1)\n",
      " * \n",
      " *  * \n",
      " *  * \n",
      " *  *  *  * \n",
      " *  *  *  *  * \n",
      "\n",
      "for partition (8, 1, 1, 1, 1, 1, 1, 1)\n",
      " * \n",
      " * \n",
      " * \n",
      " * \n",
      " * \n",
      " * \n",
      " * \n",
      " *  *  *  *  *  *  *  * \n",
      "\n",
      "for partition (6, 3, 3, 1, 1, 1)\n",
      " * \n",
      " * \n",
      " * \n",
      " *  *  * \n",
      " *  *  * \n",
      " *  *  *  *  *  * \n",
      "\n",
      "for partition (5, 4, 3, 2, 1)\n",
      " * \n",
      " *  * \n",
      " *  *  * \n",
      " *  *  *  * \n",
      " *  *  *  *  * \n",
      "\n",
      "for partition (4, 4, 4, 3)\n",
      " *  *  * \n",
      " *  *  *  * \n",
      " *  *  *  * \n",
      " *  *  *  * \n",
      "\n",
      "for partition (8, 2, 1, 1, 1, 1, 1, 1)\n",
      " * \n",
      " * \n",
      " * \n",
      " * \n",
      " * \n",
      " * \n",
      " *  * \n",
      " *  *  *  *  *  *  *  * \n",
      "\n",
      "for partition (7, 3, 2, 1, 1, 1, 1)\n",
      " * \n",
      " * \n",
      " * \n",
      " * \n",
      " *  * \n",
      " *  *  * \n",
      " *  *  *  *  *  *  * \n",
      "\n",
      "for partition (6, 4, 2, 2, 1, 1)\n",
      " * \n",
      " * \n",
      " *  * \n",
      " *  * \n",
      " *  *  *  * \n",
      " *  *  *  *  *  * \n",
      "\n",
      "for partition (5, 5, 2, 2, 2)\n",
      " *  * \n",
      " *  * \n",
      " *  * \n",
      " *  *  *  *  * \n",
      " *  *  *  *  * \n",
      "\n",
      "for partition (4, 4, 4, 4)\n",
      " *  *  *  * \n",
      " *  *  *  * \n",
      " *  *  *  * \n",
      " *  *  *  * \n",
      "\n",
      "for partition (9, 1, 1, 1, 1, 1, 1, 1, 1)\n",
      " * \n",
      " * \n",
      " * \n",
      " * \n",
      " * \n",
      " * \n",
      " * \n",
      " * \n",
      " *  *  *  *  *  *  *  *  * \n",
      "\n",
      "for partition (7, 3, 3, 1, 1, 1, 1)\n",
      " * \n",
      " * \n",
      " * \n",
      " * \n",
      " *  *  * \n",
      " *  *  * \n",
      " *  *  *  *  *  *  * \n",
      "\n",
      "for partition (6, 4, 3, 2, 1, 1)\n",
      " * \n",
      " * \n",
      " *  * \n",
      " *  *  * \n",
      " *  *  *  * \n",
      " *  *  *  *  *  * \n",
      "\n",
      "for partition (5, 5, 3, 2, 2)\n",
      " *  * \n",
      " *  * \n",
      " *  *  * \n",
      " *  *  *  *  * \n",
      " *  *  *  *  * \n",
      "\n",
      "for partition (5, 4, 4, 3, 1)\n",
      " * \n",
      " *  *  * \n",
      " *  *  *  * \n",
      " *  *  *  * \n",
      " *  *  *  *  * \n",
      "\n",
      "for partition (9, 2, 1, 1, 1, 1, 1, 1, 1)\n",
      " * \n",
      " * \n",
      " * \n",
      " * \n",
      " * \n",
      " * \n",
      " * \n",
      " *  * \n",
      " *  *  *  *  *  *  *  *  * \n",
      "\n",
      "for partition (8, 3, 2, 1, 1, 1, 1, 1)\n",
      " * \n",
      " * \n",
      " * \n",
      " * \n",
      " * \n",
      " *  * \n",
      " *  *  * \n",
      " *  *  *  *  *  *  *  * \n",
      "\n",
      "for partition (7, 4, 2, 2, 1, 1, 1)\n",
      " * \n",
      " * \n",
      " * \n",
      " *  * \n",
      " *  * \n",
      " *  *  *  * \n",
      " *  *  *  *  *  *  * \n",
      "\n",
      "for partition (6, 5, 2, 2, 2, 1)\n",
      " * \n",
      " *  * \n",
      " *  * \n",
      " *  * \n",
      " *  *  *  *  * \n",
      " *  *  *  *  *  * \n",
      "\n",
      "for partition (5, 4, 4, 4, 1)\n",
      " * \n",
      " *  *  *  * \n",
      " *  *  *  * \n",
      " *  *  *  * \n",
      " *  *  *  *  * \n",
      "\n",
      "for partition (10, 1, 1, 1, 1, 1, 1, 1, 1, 1)\n",
      " * \n",
      " * \n",
      " * \n",
      " * \n",
      " * \n",
      " * \n",
      " * \n",
      " * \n",
      " * \n",
      " *  *  *  *  *  *  *  *  *  * \n",
      "\n",
      "for partition (8, 3, 3, 1, 1, 1, 1, 1)\n",
      " * \n",
      " * \n",
      " * \n",
      " * \n",
      " * \n",
      " *  *  * \n",
      " *  *  * \n",
      " *  *  *  *  *  *  *  * \n",
      "\n",
      "for partition (7, 4, 3, 2, 1, 1, 1)\n",
      " * \n",
      " * \n",
      " * \n",
      " *  * \n",
      " *  *  * \n",
      " *  *  *  * \n",
      " *  *  *  *  *  *  * \n",
      "\n",
      "for partition (6, 5, 3, 2, 2, 1)\n",
      " * \n",
      " *  * \n",
      " *  * \n",
      " *  *  * \n",
      " *  *  *  *  * \n",
      " *  *  *  *  *  * \n",
      "\n",
      "for partition (6, 4, 4, 3, 1, 1)\n",
      " * \n",
      " * \n",
      " *  *  * \n",
      " *  *  *  * \n",
      " *  *  *  * \n",
      " *  *  *  *  *  * \n",
      "\n",
      "for partition (5, 5, 4, 3, 2)\n",
      " *  * \n",
      " *  *  * \n",
      " *  *  *  * \n",
      " *  *  *  *  * \n",
      " *  *  *  *  * \n",
      "\n"
     ]
    }
   ],
   "source": [
    "for p in auto:\n",
    "    print('for partition ' + str(p))\n",
    "    print(ferrers(p))\n",
    "    print()"
   ]
  },
  {
   "cell_type": "markdown",
   "metadata": {},
   "source": [
    "On remarque qu'il y aussi une symétrie pour les partitions auto-conjuguées"
   ]
  },
  {
   "cell_type": "code",
   "execution_count": 74,
   "metadata": {},
   "outputs": [
    {
     "name": "stdout",
     "output_type": "stream",
     "text": [
      "[(), (1,), (2,), (1, 1), (2, 1), (2, 2)]\n"
     ]
    }
   ],
   "source": [
    "def rect(k,l):\n",
    "    return [p for i in range(k*l+1) for p in partitions(i,k,l)]\n",
    "print(rect(2,2))"
   ]
  },
  {
   "cell_type": "code",
   "execution_count": 75,
   "metadata": {},
   "outputs": [
    {
     "name": "stdout",
     "output_type": "stream",
     "text": [
      "\n",
      "\n",
      " * \n",
      "\n",
      " *  * \n",
      "\n",
      " * \n",
      " * \n",
      "\n",
      " * \n",
      " *  * \n",
      "\n",
      " *  * \n",
      " *  * \n",
      "\n"
     ]
    }
   ],
   "source": [
    "for p in rect(2,2):\n",
    "    print(ferrers(p))\n",
    "    print()"
   ]
  },
  {
   "cell_type": "code",
   "execution_count": 142,
   "metadata": {},
   "outputs": [],
   "source": [
    "var('q')\n",
    "def gauss(n,k):\n",
    "    return sum([p.as_poly().all_coeffs() for p in rect(n,k)])"
   ]
  },
  {
   "cell_type": "code",
   "execution_count": 143,
   "metadata": {},
   "outputs": [],
   "source": [
    "def bino(n, k):\n",
    "    if k == 0: return 1\n",
    "    if k == n: return 1\n",
    "    return bino(n-1,k-1) + bino(n-1, k)"
   ]
  },
  {
   "cell_type": "code",
   "execution_count": 144,
   "metadata": {},
   "outputs": [
    {
     "name": "stdout",
     "output_type": "stream",
     "text": [
      "\n",
      "1 \n",
      "1 1 \n",
      "1 2 1 \n",
      "1 3 3 1 \n",
      "1 4 6 4 1 \n",
      "1 5 10 10 5 1 \n",
      "1 6 15 20 15 6 1 \n",
      "1 7 21 35 35 21 7 1 \n",
      "1 8 28 56 70 56 28 8 1 "
     ]
    }
   ],
   "source": [
    "for i in range(9):\n",
    "    print()\n",
    "    for j in range(i+1):\n",
    "        print(bino(i,j), end=' ')"
   ]
  },
  {
   "cell_type": "code",
   "execution_count": 145,
   "metadata": {},
   "outputs": [
    {
     "ename": "AttributeError",
     "evalue": "'tuple' object has no attribute 'as_poly'",
     "output_type": "error",
     "traceback": [
      "\u001b[0;31m---------------------------------------------------------------------------\u001b[0m",
      "\u001b[0;31mAttributeError\u001b[0m                            Traceback (most recent call last)",
      "\u001b[0;32m<ipython-input-145-b3b8b8964acd>\u001b[0m in \u001b[0;36m<module>\u001b[0;34m()\u001b[0m\n\u001b[1;32m      2\u001b[0m     \u001b[0;32mfor\u001b[0m \u001b[0mj\u001b[0m \u001b[0;32min\u001b[0m \u001b[0mrange\u001b[0m\u001b[0;34m(\u001b[0m\u001b[0mi\u001b[0m\u001b[0;34m+\u001b[0m\u001b[0;36m1\u001b[0m\u001b[0;34m)\u001b[0m\u001b[0;34m:\u001b[0m\u001b[0;34m\u001b[0m\u001b[0;34m\u001b[0m\u001b[0m\n\u001b[1;32m      3\u001b[0m         \u001b[0mb\u001b[0m \u001b[0;34m=\u001b[0m \u001b[0mbino\u001b[0m\u001b[0;34m(\u001b[0m\u001b[0mi\u001b[0m\u001b[0;34m,\u001b[0m\u001b[0mj\u001b[0m\u001b[0;34m)\u001b[0m\u001b[0;34m\u001b[0m\u001b[0;34m\u001b[0m\u001b[0m\n\u001b[0;32m----> 4\u001b[0;31m         \u001b[0mg\u001b[0m \u001b[0;34m=\u001b[0m \u001b[0mgauss\u001b[0m\u001b[0;34m(\u001b[0m\u001b[0mi\u001b[0m\u001b[0;34m,\u001b[0m\u001b[0mj\u001b[0m\u001b[0;34m)\u001b[0m\u001b[0;34m\u001b[0m\u001b[0;34m\u001b[0m\u001b[0m\n\u001b[0m\u001b[1;32m      5\u001b[0m         \u001b[0mprint\u001b[0m\u001b[0;34m(\u001b[0m\u001b[0mb\u001b[0m\u001b[0;34m,\u001b[0m \u001b[0mg\u001b[0m\u001b[0;34m,\u001b[0m \u001b[0mb\u001b[0m \u001b[0;34m==\u001b[0m \u001b[0mg\u001b[0m\u001b[0;34m)\u001b[0m\u001b[0;34m\u001b[0m\u001b[0;34m\u001b[0m\u001b[0m\n",
      "\u001b[0;32m<ipython-input-142-7e942e02b153>\u001b[0m in \u001b[0;36mgauss\u001b[0;34m(n, k)\u001b[0m\n\u001b[1;32m      1\u001b[0m \u001b[0mvar\u001b[0m\u001b[0;34m(\u001b[0m\u001b[0;34m'q'\u001b[0m\u001b[0;34m)\u001b[0m\u001b[0;34m\u001b[0m\u001b[0;34m\u001b[0m\u001b[0m\n\u001b[1;32m      2\u001b[0m \u001b[0;32mdef\u001b[0m \u001b[0mgauss\u001b[0m\u001b[0;34m(\u001b[0m\u001b[0mn\u001b[0m\u001b[0;34m,\u001b[0m\u001b[0mk\u001b[0m\u001b[0;34m)\u001b[0m\u001b[0;34m:\u001b[0m\u001b[0;34m\u001b[0m\u001b[0;34m\u001b[0m\u001b[0m\n\u001b[0;32m----> 3\u001b[0;31m     \u001b[0;32mreturn\u001b[0m \u001b[0msum\u001b[0m\u001b[0;34m(\u001b[0m\u001b[0;34m[\u001b[0m\u001b[0mp\u001b[0m\u001b[0;34m.\u001b[0m\u001b[0mas_poly\u001b[0m\u001b[0;34m(\u001b[0m\u001b[0;34m)\u001b[0m\u001b[0;34m.\u001b[0m\u001b[0mall_coeffs\u001b[0m\u001b[0;34m(\u001b[0m\u001b[0;34m)\u001b[0m \u001b[0;32mfor\u001b[0m \u001b[0mp\u001b[0m \u001b[0;32min\u001b[0m \u001b[0mrect\u001b[0m\u001b[0;34m(\u001b[0m\u001b[0mn\u001b[0m\u001b[0;34m,\u001b[0m\u001b[0mk\u001b[0m\u001b[0;34m)\u001b[0m\u001b[0;34m]\u001b[0m\u001b[0;34m)\u001b[0m\u001b[0;34m\u001b[0m\u001b[0;34m\u001b[0m\u001b[0m\n\u001b[0m",
      "\u001b[0;32m<ipython-input-142-7e942e02b153>\u001b[0m in \u001b[0;36m<listcomp>\u001b[0;34m(.0)\u001b[0m\n\u001b[1;32m      1\u001b[0m \u001b[0mvar\u001b[0m\u001b[0;34m(\u001b[0m\u001b[0;34m'q'\u001b[0m\u001b[0;34m)\u001b[0m\u001b[0;34m\u001b[0m\u001b[0;34m\u001b[0m\u001b[0m\n\u001b[1;32m      2\u001b[0m \u001b[0;32mdef\u001b[0m \u001b[0mgauss\u001b[0m\u001b[0;34m(\u001b[0m\u001b[0mn\u001b[0m\u001b[0;34m,\u001b[0m\u001b[0mk\u001b[0m\u001b[0;34m)\u001b[0m\u001b[0;34m:\u001b[0m\u001b[0;34m\u001b[0m\u001b[0;34m\u001b[0m\u001b[0m\n\u001b[0;32m----> 3\u001b[0;31m     \u001b[0;32mreturn\u001b[0m \u001b[0msum\u001b[0m\u001b[0;34m(\u001b[0m\u001b[0;34m[\u001b[0m\u001b[0mp\u001b[0m\u001b[0;34m.\u001b[0m\u001b[0mas_poly\u001b[0m\u001b[0;34m(\u001b[0m\u001b[0;34m)\u001b[0m\u001b[0;34m.\u001b[0m\u001b[0mall_coeffs\u001b[0m\u001b[0;34m(\u001b[0m\u001b[0;34m)\u001b[0m \u001b[0;32mfor\u001b[0m \u001b[0mp\u001b[0m \u001b[0;32min\u001b[0m \u001b[0mrect\u001b[0m\u001b[0;34m(\u001b[0m\u001b[0mn\u001b[0m\u001b[0;34m,\u001b[0m\u001b[0mk\u001b[0m\u001b[0;34m)\u001b[0m\u001b[0;34m]\u001b[0m\u001b[0;34m)\u001b[0m\u001b[0;34m\u001b[0m\u001b[0;34m\u001b[0m\u001b[0m\n\u001b[0m",
      "\u001b[0;31mAttributeError\u001b[0m: 'tuple' object has no attribute 'as_poly'"
     ]
    }
   ],
   "source": [
    "for i in range(0,9):\n",
    "    for j in range(i+1):\n",
    "        b = bino(i,j)\n",
    "        g = gauss(i,j)\n",
    "        print(b, g, b == g)"
   ]
  },
  {
   "cell_type": "code",
   "execution_count": null,
   "metadata": {},
   "outputs": [],
   "source": []
  }
 ],
 "metadata": {
  "kernelspec": {
   "display_name": "Python 3",
   "language": "python",
   "name": "python3"
  },
  "language_info": {
   "codemirror_mode": {
    "name": "ipython",
    "version": 3
   },
   "file_extension": ".py",
   "mimetype": "text/x-python",
   "name": "python",
   "nbconvert_exporter": "python",
   "pygments_lexer": "ipython3",
   "version": "3.7.3"
  }
 },
 "nbformat": 4,
 "nbformat_minor": 2
}
