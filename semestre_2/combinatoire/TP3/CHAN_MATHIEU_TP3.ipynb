{
 "cells": [
  {
   "cell_type": "markdown",
   "metadata": {},
   "source": [
    "# Nombre de Stirling"
   ]
  },
  {
   "cell_type": "markdown",
   "metadata": {},
   "source": [
    "Coder une fonction stirling1(n,k,signed=True) calculant les deux versions à l'aide de la récurrence du triangle vue en cours."
   ]
  },
  {
   "cell_type": "code",
   "execution_count": 1,
   "metadata": {},
   "outputs": [],
   "source": [
    "def stirling1(n,k,signed=True):\n",
    "    if n == k == 0: return 1\n",
    "    if n < 1: return 0\n",
    "    if k == 0: return 0\n",
    "    if not signed:\n",
    "        return stirling1(n - 1, k - 1, signed) + (n - 1) * stirling1(n - 1, k, signed)\n",
    "    return -(n - 1) * stirling1(n - 1, k, signed) + stirling1(n - 1, k - 1, signed)"
   ]
  },
  {
   "cell_type": "code",
   "execution_count": 2,
   "metadata": {},
   "outputs": [
    {
     "name": "stdout",
     "output_type": "stream",
     "text": [
      "-362880 362880\n",
      "1026576 1026576\n",
      "-1172700 1172700\n",
      "723680 723680\n",
      "-269325 269325\n",
      "63273 63273\n",
      "-9450 9450\n",
      "870 870\n",
      "-45 45\n",
      "1 1\n"
     ]
    }
   ],
   "source": [
    "for k in range(1,11): print (stirling1(10,k), stirling1(10,k,signed=False))"
   ]
  },
  {
   "cell_type": "code",
   "execution_count": 3,
   "metadata": {},
   "outputs": [],
   "source": [
    "def triangle_stirling(n, signed=False):\n",
    "    for i in range(n):\n",
    "        for j in range(i + 1):\n",
    "            print(stirling1(i, j, signed), end=' ')\n",
    "        print()"
   ]
  },
  {
   "cell_type": "code",
   "execution_count": 4,
   "metadata": {},
   "outputs": [
    {
     "name": "stdout",
     "output_type": "stream",
     "text": [
      "1 \n",
      "0 1 \n",
      "0 1 1 \n",
      "0 2 3 1 \n",
      "0 6 11 6 1 \n",
      "0 24 50 35 10 1 \n",
      "0 120 274 225 85 15 1 \n",
      "0 720 1764 1624 735 175 21 1 \n",
      "0 5040 13068 13132 6769 1960 322 28 1 \n",
      "0 40320 109584 118124 67284 22449 4536 546 36 1 \n",
      "\n",
      "1 \n",
      "0 1 \n",
      "0 -1 1 \n",
      "0 2 -3 1 \n",
      "0 -6 11 -6 1 \n",
      "0 24 -50 35 -10 1 \n",
      "0 -120 274 -225 85 -15 1 \n",
      "0 720 -1764 1624 -735 175 -21 1 \n",
      "0 -5040 13068 -13132 6769 -1960 322 -28 1 \n",
      "0 40320 -109584 118124 -67284 22449 -4536 546 -36 1 \n"
     ]
    }
   ],
   "source": [
    "triangle_stirling(10)\n",
    "print()\n",
    "triangle_stirling(10, True)"
   ]
  },
  {
   "cell_type": "markdown",
   "metadata": {},
   "source": [
    "Coder une fonction fallpow(n,variable=t) calculant  (t)n ."
   ]
  },
  {
   "cell_type": "code",
   "execution_count": 5,
   "metadata": {},
   "outputs": [
    {
     "data": {
      "text/plain": [
       "(x, t)"
      ]
     },
     "execution_count": 5,
     "metadata": {},
     "output_type": "execute_result"
    }
   ],
   "source": [
    "from sympy import *\n",
    "var('x t')\n"
   ]
  },
  {
   "cell_type": "code",
   "execution_count": 6,
   "metadata": {},
   "outputs": [],
   "source": [
    "from functools import reduce\n",
    "\n",
    "def fallpow(n):\n",
    "    return reduce(lambda u,v:u*v, [t-i for i in range(n)])"
   ]
  },
  {
   "cell_type": "code",
   "execution_count": 7,
   "metadata": {},
   "outputs": [
    {
     "data": {
      "text/plain": [
       "t*(t - 4)*(t - 3)*(t - 2)*(t - 1)"
      ]
     },
     "execution_count": 7,
     "metadata": {},
     "output_type": "execute_result"
    }
   ],
   "source": [
    "fallpow(5)"
   ]
  },
  {
   "cell_type": "markdown",
   "metadata": {},
   "source": [
    "Calculer les premiers  Bn(t)  au moyen de cette série, puis coder une fonction stirling2(n,k) calculant directement les coefficients au moyen de la récurrence du triangle vue en cours."
   ]
  },
  {
   "cell_type": "code",
   "execution_count": 8,
   "metadata": {},
   "outputs": [
    {
     "data": {
      "text/plain": [
       "Poly((t**8/40320 + t**7/1440 + 19*t**6/2880 + 5*t**5/192 + 27*t**4/640 + 23*t**3/960 + 127*t**2/40320 + t/40320)*x**8 + (t**7/5040 + t**6/240 + t**5/36 + 5*t**4/72 + 43*t**3/720 + t**2/80 + t/5040)*x**7 + (t**6/720 + t**5/48 + 13*t**4/144 + t**3/8 + 31*t**2/720 + t/720)*x**6 + (t**5/120 + t**4/12 + 5*t**3/24 + t**2/8 + t/120)*x**5 + (t**4/24 + t**3/4 + 7*t**2/24 + t/24)*x**4 + (t**3/6 + t**2/2 + t/6)*x**3 + (t**2/2 + t/2)*x**2 + t*x + 1, x, domain='QQ[t]')"
      ]
     },
     "execution_count": 8,
     "metadata": {},
     "output_type": "execute_result"
    }
   ],
   "source": [
    "B = exp(t*(exp(x)-1))\n",
    "bb = series(B,x,0,9).removeO().as_poly(x); bb"
   ]
  },
  {
   "cell_type": "code",
   "execution_count": 9,
   "metadata": {},
   "outputs": [
    {
     "data": {
      "text/plain": [
       "[t**8/40320 + t**7/1440 + 19*t**6/2880 + 5*t**5/192 + 27*t**4/640 + 23*t**3/960 + 127*t**2/40320 + t/40320,\n",
       " t**7/5040 + t**6/240 + t**5/36 + 5*t**4/72 + 43*t**3/720 + t**2/80 + t/5040,\n",
       " t**6/720 + t**5/48 + 13*t**4/144 + t**3/8 + 31*t**2/720 + t/720,\n",
       " t**5/120 + t**4/12 + 5*t**3/24 + t**2/8 + t/120,\n",
       " t**4/24 + t**3/4 + 7*t**2/24 + t/24,\n",
       " t**3/6 + t**2/2 + t/6,\n",
       " t**2/2 + t/2,\n",
       " t,\n",
       " 1]"
      ]
     },
     "execution_count": 9,
     "metadata": {},
     "output_type": "execute_result"
    }
   ],
   "source": [
    "bb.all_coeffs()"
   ]
  },
  {
   "cell_type": "code",
   "execution_count": 10,
   "metadata": {},
   "outputs": [],
   "source": [
    "bb = bb.all_coeffs()\n",
    "bb.reverse()"
   ]
  },
  {
   "cell_type": "code",
   "execution_count": 11,
   "metadata": {},
   "outputs": [
    {
     "data": {
      "text/plain": [
       "[1,\n",
       " t,\n",
       " t**2 + t,\n",
       " t**3 + 3*t**2 + t,\n",
       " t**4 + 6*t**3 + 7*t**2 + t,\n",
       " t**5 + 10*t**4 + 25*t**3 + 15*t**2 + t,\n",
       " t**6 + 15*t**5 + 65*t**4 + 90*t**3 + 31*t**2 + t,\n",
       " t**7 + 21*t**6 + 140*t**5 + 350*t**4 + 301*t**3 + 63*t**2 + t,\n",
       " t**8 + 28*t**7 + 266*t**6 + 1050*t**5 + 1701*t**4 + 966*t**3 + 127*t**2 + t]"
      ]
     },
     "execution_count": 11,
     "metadata": {},
     "output_type": "execute_result"
    }
   ],
   "source": [
    "bb = [expand(bb[i]*factorial(i)) for i in range(len(bb))];bb"
   ]
  },
  {
   "cell_type": "code",
   "execution_count": 12,
   "metadata": {},
   "outputs": [],
   "source": [
    "def stirling2(n,k):\n",
    "    if k==n: return 1\n",
    "    if k==0: return 0\n",
    "    return stirling2(n - 1, k - 1) + k * stirling2(n - 1, k)"
   ]
  },
  {
   "cell_type": "code",
   "execution_count": 15,
   "metadata": {},
   "outputs": [
    {
     "name": "stdout",
     "output_type": "stream",
     "text": [
      "1\n",
      "511\n",
      "9330\n",
      "34105\n",
      "42525\n",
      "22827\n",
      "5880\n",
      "750\n",
      "45\n",
      "1\n"
     ]
    }
   ],
   "source": [
    "for k in range(1,11): print (stirling2(10,k))"
   ]
  },
  {
   "cell_type": "code",
   "execution_count": 19,
   "metadata": {},
   "outputs": [],
   "source": [
    "def triangle_stirling2(n):\n",
    "    for i in range(n):\n",
    "        for j in range(i + 1):\n",
    "            print(stirling2(i, j), end=' ')\n",
    "        print()"
   ]
  },
  {
   "cell_type": "code",
   "execution_count": 20,
   "metadata": {},
   "outputs": [
    {
     "name": "stdout",
     "output_type": "stream",
     "text": [
      "1 \n",
      "0 1 \n",
      "0 1 1 \n",
      "0 1 3 1 \n",
      "0 1 7 6 1 \n",
      "0 1 15 25 10 1 \n",
      "0 1 31 90 65 15 1 \n",
      "0 1 63 301 350 140 21 1 \n",
      "0 1 127 966 1701 1050 266 28 1 \n",
      "0 1 255 3025 7770 6951 2646 462 36 1 \n"
     ]
    }
   ],
   "source": [
    "triangle_stirling2(10)"
   ]
  },
  {
   "cell_type": "markdown",
   "metadata": {},
   "source": [
    "calculer les premiers polynômes  Sp(t)"
   ]
  },
  {
   "cell_type": "code",
   "execution_count": 25,
   "metadata": {},
   "outputs": [],
   "source": [
    "def S(p):\n",
    "    return factor(sum([stirling2(p,j)*fallpow(j+1)*Rational(1,j+1) for j in range(1,p+1)]))"
   ]
  },
  {
   "cell_type": "code",
   "execution_count": 26,
   "metadata": {},
   "outputs": [
    {
     "name": "stdout",
     "output_type": "stream",
     "text": [
      "t*(t - 1)/2\n",
      "t*(t - 1)*(2*t - 1)/6\n",
      "t**2*(t - 1)**2/4\n",
      "t*(t - 1)*(2*t - 1)*(3*t**2 - 3*t - 1)/30\n",
      "t**2*(t - 1)**2*(2*t**2 - 2*t - 1)/12\n",
      "t*(t - 1)*(2*t - 1)*(3*t**4 - 6*t**3 + 3*t + 1)/42\n",
      "t**2*(t - 1)**2*(3*t**4 - 6*t**3 - t**2 + 4*t + 2)/24\n",
      "t*(t - 1)*(2*t - 1)*(5*t**6 - 15*t**5 + 5*t**4 + 15*t**3 - t**2 - 9*t - 3)/90\n"
     ]
    }
   ],
   "source": [
    "for p in range(1,9): print(S(p))"
   ]
  },
  {
   "cell_type": "markdown",
   "metadata": {},
   "source": [
    "On va maintenant vérifier que le nombre de partitions d'un ensemble à n éléments en k blocs est bien  S(n,k) . Pour engendrer récursivement les partitions d'une liste ll, on pourra utiliser deux fonctions auxiliaires qui insérent son dernier élément dans les partitions du reste :"
   ]
  },
  {
   "cell_type": "code",
   "execution_count": 46,
   "metadata": {},
   "outputs": [],
   "source": [
    "def _insert_all(x,p): # p partition ensembliste\n",
    "    res = []\n",
    "    for i in range(len(p)):\n",
    "        res.append(p[:i] + [(p[i], (x,),)] + p[i + 1:])\n",
    "    return res\n",
    "\n",
    "def _add_part(x,p):\n",
    "    return p + ((x,))\n",
    "\n",
    "def set_partitions(ll):\n",
    "    values = sorted([(i,) for i in ll], reverse=True)\n",
    "    x = values.pop(0)\n",
    "    res = _insert_all(x, values)\n",
    "    print(res)"
   ]
  },
  {
   "cell_type": "code",
   "execution_count": 47,
   "metadata": {},
   "outputs": [
    {
     "name": "stdout",
     "output_type": "stream",
     "text": [
      "[[((3,), ((4,),)), (2,), (1,)], [(3,), ((2,), ((4,),)), (1,)], [(3,), (2,), ((1,), ((4,),))]]\n"
     ]
    }
   ],
   "source": [
    "set_partitions(range(1,5))[((3,), ((4,),)), (2,), (1,)], ["
   ]
  },
  {
   "cell_type": "code",
   "execution_count": null,
   "metadata": {},
   "outputs": [],
   "source": []
  }
 ],
 "metadata": {
  "kernelspec": {
   "display_name": "Python 3",
   "language": "python",
   "name": "python3"
  },
  "language_info": {
   "codemirror_mode": {
    "name": "ipython",
    "version": 3
   },
   "file_extension": ".py",
   "mimetype": "text/x-python",
   "name": "python",
   "nbconvert_exporter": "python",
   "pygments_lexer": "ipython3",
   "version": "3.7.3"
  }
 },
 "nbformat": 4,
 "nbformat_minor": 2
}
