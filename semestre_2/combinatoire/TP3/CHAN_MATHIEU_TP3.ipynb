{
 "cells": [
  {
   "cell_type": "markdown",
   "metadata": {},
   "source": [
    "# Nombre de Stirling"
   ]
  },
  {
   "cell_type": "markdown",
   "metadata": {},
   "source": [
    "Coder une fonction stirling1(n,k,signed=True) calculant les deux versions à l'aide de la récurrence du triangle vue en cours."
   ]
  },
  {
   "cell_type": "code",
   "execution_count": 1,
   "metadata": {},
   "outputs": [],
   "source": [
    "def stirling1(n,k,signed=True):\n",
    "    if n == k == 0: return 1\n",
    "    if n < 1: return 0\n",
    "    if k == 0: return 0\n",
    "    if not signed:\n",
    "        return stirling1(n - 1, k - 1, signed) + (n - 1) * stirling1(n - 1, k, signed)\n",
    "    return -(n - 1) * stirling1(n - 1, k, signed) + stirling1(n - 1, k - 1, signed)"
   ]
  },
  {
   "cell_type": "code",
   "execution_count": 2,
   "metadata": {},
   "outputs": [
    {
     "name": "stdout",
     "output_type": "stream",
     "text": [
      "-362880 362880\n",
      "1026576 1026576\n",
      "-1172700 1172700\n",
      "723680 723680\n",
      "-269325 269325\n",
      "63273 63273\n",
      "-9450 9450\n",
      "870 870\n",
      "-45 45\n",
      "1 1\n"
     ]
    }
   ],
   "source": [
    "for k in range(1,11): print (stirling1(10,k), stirling1(10,k,signed=False))"
   ]
  },
  {
   "cell_type": "code",
   "execution_count": 3,
   "metadata": {},
   "outputs": [],
   "source": [
    "def triangle_stirling(n, signed=False):\n",
    "    for i in range(n):\n",
    "        for j in range(i + 1):\n",
    "            print(stirling1(i, j, signed), end=' ')\n",
    "        print()"
   ]
  },
  {
   "cell_type": "code",
   "execution_count": 4,
   "metadata": {},
   "outputs": [
    {
     "name": "stdout",
     "output_type": "stream",
     "text": [
      "1 \n",
      "0 1 \n",
      "0 1 1 \n",
      "0 2 3 1 \n",
      "0 6 11 6 1 \n",
      "0 24 50 35 10 1 \n",
      "0 120 274 225 85 15 1 \n",
      "0 720 1764 1624 735 175 21 1 \n",
      "0 5040 13068 13132 6769 1960 322 28 1 \n",
      "0 40320 109584 118124 67284 22449 4536 546 36 1 \n",
      "\n",
      "1 \n",
      "0 1 \n",
      "0 -1 1 \n",
      "0 2 -3 1 \n",
      "0 -6 11 -6 1 \n",
      "0 24 -50 35 -10 1 \n",
      "0 -120 274 -225 85 -15 1 \n",
      "0 720 -1764 1624 -735 175 -21 1 \n",
      "0 -5040 13068 -13132 6769 -1960 322 -28 1 \n",
      "0 40320 -109584 118124 -67284 22449 -4536 546 -36 1 \n"
     ]
    }
   ],
   "source": [
    "triangle_stirling(10)\n",
    "print()\n",
    "triangle_stirling(10, True)"
   ]
  },
  {
   "cell_type": "markdown",
   "metadata": {},
   "source": [
    "Coder une fonction fallpow(n,variable=t) calculant  (t)n ."
   ]
  },
  {
   "cell_type": "code",
   "execution_count": 5,
   "metadata": {},
   "outputs": [
    {
     "data": {
      "text/plain": [
       "(x, t)"
      ]
     },
     "execution_count": 5,
     "metadata": {},
     "output_type": "execute_result"
    }
   ],
   "source": [
    "from sympy import *\n",
    "var('x t')\n"
   ]
  },
  {
   "cell_type": "code",
   "execution_count": 6,
   "metadata": {},
   "outputs": [],
   "source": [
    "from functools import reduce\n",
    "\n",
    "def fallpow(n):\n",
    "    return reduce(lambda u,v:u*v, [t-i for i in range(n)])"
   ]
  },
  {
   "cell_type": "code",
   "execution_count": 7,
   "metadata": {},
   "outputs": [
    {
     "data": {
      "text/latex": [
       "$\\displaystyle t \\left(t - 4\\right) \\left(t - 3\\right) \\left(t - 2\\right) \\left(t - 1\\right)$"
      ],
      "text/plain": [
       "t*(t - 4)*(t - 3)*(t - 2)*(t - 1)"
      ]
     },
     "execution_count": 7,
     "metadata": {},
     "output_type": "execute_result"
    }
   ],
   "source": [
    "fallpow(5)"
   ]
  },
  {
   "cell_type": "markdown",
   "metadata": {},
   "source": [
    "Calculer les premiers  Bn(t)  au moyen de cette série, puis coder une fonction stirling2(n,k) calculant directement les coefficients au moyen de la récurrence du triangle vue en cours."
   ]
  },
  {
   "cell_type": "code",
   "execution_count": 8,
   "metadata": {},
   "outputs": [
    {
     "data": {
      "text/latex": [
       "$\\displaystyle \\operatorname{Poly}{\\left( \\left(\\frac{t^{8}}{40320} + \\frac{t^{7}}{1440} + \\frac{19 t^{6}}{2880} + \\frac{5 t^{5}}{192} + \\frac{27 t^{4}}{640} + \\frac{23 t^{3}}{960} + \\frac{127 t^{2}}{40320} + \\frac{t}{40320}\\right) x^{8} + \\left(\\frac{t^{7}}{5040} + \\frac{t^{6}}{240} + \\frac{t^{5}}{36} + \\frac{5 t^{4}}{72} + \\frac{43 t^{3}}{720} + \\frac{t^{2}}{80} + \\frac{t}{5040}\\right) x^{7} + \\left(\\frac{t^{6}}{720} + \\frac{t^{5}}{48} + \\frac{13 t^{4}}{144} + \\frac{t^{3}}{8} + \\frac{31 t^{2}}{720} + \\frac{t}{720}\\right) x^{6} + \\left(\\frac{t^{5}}{120} + \\frac{t^{4}}{12} + \\frac{5 t^{3}}{24} + \\frac{t^{2}}{8} + \\frac{t}{120}\\right) x^{5} + \\left(\\frac{t^{4}}{24} + \\frac{t^{3}}{4} + \\frac{7 t^{2}}{24} + \\frac{t}{24}\\right) x^{4} + \\left(\\frac{t^{3}}{6} + \\frac{t^{2}}{2} + \\frac{t}{6}\\right) x^{3} + \\left(\\frac{t^{2}}{2} + \\frac{t}{2}\\right) x^{2} + t x + 1, x, domain=\\mathbb{Q}\\left[t\\right] \\right)}$"
      ],
      "text/plain": [
       "Poly((t**8/40320 + t**7/1440 + 19*t**6/2880 + 5*t**5/192 + 27*t**4/640 + 23*t**3/960 + 127*t**2/40320 + t/40320)*x**8 + (t**7/5040 + t**6/240 + t**5/36 + 5*t**4/72 + 43*t**3/720 + t**2/80 + t/5040)*x**7 + (t**6/720 + t**5/48 + 13*t**4/144 + t**3/8 + 31*t**2/720 + t/720)*x**6 + (t**5/120 + t**4/12 + 5*t**3/24 + t**2/8 + t/120)*x**5 + (t**4/24 + t**3/4 + 7*t**2/24 + t/24)*x**4 + (t**3/6 + t**2/2 + t/6)*x**3 + (t**2/2 + t/2)*x**2 + t*x + 1, x, domain='QQ[t]')"
      ]
     },
     "execution_count": 8,
     "metadata": {},
     "output_type": "execute_result"
    }
   ],
   "source": [
    "B = exp(t*(exp(x)-1))\n",
    "bb = series(B,x,0,9).removeO().as_poly(x); bb"
   ]
  },
  {
   "cell_type": "code",
   "execution_count": 9,
   "metadata": {},
   "outputs": [
    {
     "data": {
      "text/plain": [
       "[t**8/40320 + t**7/1440 + 19*t**6/2880 + 5*t**5/192 + 27*t**4/640 + 23*t**3/960 + 127*t**2/40320 + t/40320,\n",
       " t**7/5040 + t**6/240 + t**5/36 + 5*t**4/72 + 43*t**3/720 + t**2/80 + t/5040,\n",
       " t**6/720 + t**5/48 + 13*t**4/144 + t**3/8 + 31*t**2/720 + t/720,\n",
       " t**5/120 + t**4/12 + 5*t**3/24 + t**2/8 + t/120,\n",
       " t**4/24 + t**3/4 + 7*t**2/24 + t/24,\n",
       " t**3/6 + t**2/2 + t/6,\n",
       " t**2/2 + t/2,\n",
       " t,\n",
       " 1]"
      ]
     },
     "execution_count": 9,
     "metadata": {},
     "output_type": "execute_result"
    }
   ],
   "source": [
    "bb.all_coeffs()"
   ]
  },
  {
   "cell_type": "code",
   "execution_count": 10,
   "metadata": {},
   "outputs": [],
   "source": [
    "bb = bb.all_coeffs()\n",
    "bb.reverse()"
   ]
  },
  {
   "cell_type": "code",
   "execution_count": 11,
   "metadata": {},
   "outputs": [
    {
     "data": {
      "text/plain": [
       "[1,\n",
       " t,\n",
       " t**2 + t,\n",
       " t**3 + 3*t**2 + t,\n",
       " t**4 + 6*t**3 + 7*t**2 + t,\n",
       " t**5 + 10*t**4 + 25*t**3 + 15*t**2 + t,\n",
       " t**6 + 15*t**5 + 65*t**4 + 90*t**3 + 31*t**2 + t,\n",
       " t**7 + 21*t**6 + 140*t**5 + 350*t**4 + 301*t**3 + 63*t**2 + t,\n",
       " t**8 + 28*t**7 + 266*t**6 + 1050*t**5 + 1701*t**4 + 966*t**3 + 127*t**2 + t]"
      ]
     },
     "execution_count": 11,
     "metadata": {},
     "output_type": "execute_result"
    }
   ],
   "source": [
    "bb = [expand(bb[i]*factorial(i)) for i in range(len(bb))];bb"
   ]
  },
  {
   "cell_type": "code",
   "execution_count": 12,
   "metadata": {},
   "outputs": [],
   "source": [
    "def stirling2(n,k):\n",
    "    if k==n: return 1\n",
    "    if k==0: return 0\n",
    "    return stirling2(n - 1, k - 1) + k * stirling2(n - 1, k)"
   ]
  },
  {
   "cell_type": "code",
   "execution_count": 13,
   "metadata": {},
   "outputs": [
    {
     "name": "stdout",
     "output_type": "stream",
     "text": [
      "1\n",
      "511\n",
      "9330\n",
      "34105\n",
      "42525\n",
      "22827\n",
      "5880\n",
      "750\n",
      "45\n",
      "1\n"
     ]
    }
   ],
   "source": [
    "for k in range(1,11): print (stirling2(10,k))"
   ]
  },
  {
   "cell_type": "code",
   "execution_count": 14,
   "metadata": {},
   "outputs": [],
   "source": [
    "def triangle_stirling2(n):\n",
    "    for i in range(n):\n",
    "        for j in range(i + 1):\n",
    "            print(stirling2(i, j), end=' ')\n",
    "        print()"
   ]
  },
  {
   "cell_type": "code",
   "execution_count": 15,
   "metadata": {},
   "outputs": [
    {
     "name": "stdout",
     "output_type": "stream",
     "text": [
      "1 \n",
      "0 1 \n",
      "0 1 1 \n",
      "0 1 3 1 \n",
      "0 1 7 6 1 \n",
      "0 1 15 25 10 1 \n",
      "0 1 31 90 65 15 1 \n",
      "0 1 63 301 350 140 21 1 \n",
      "0 1 127 966 1701 1050 266 28 1 \n",
      "0 1 255 3025 7770 6951 2646 462 36 1 \n"
     ]
    }
   ],
   "source": [
    "triangle_stirling2(10)"
   ]
  },
  {
   "cell_type": "markdown",
   "metadata": {},
   "source": [
    "calculer les premiers polynômes  Sp(t)"
   ]
  },
  {
   "cell_type": "code",
   "execution_count": 16,
   "metadata": {},
   "outputs": [],
   "source": [
    "def S(p):\n",
    "    return factor(sum([stirling2(p,j)*fallpow(j+1)*Rational(1,j+1) for j in range(1,p+1)]))"
   ]
  },
  {
   "cell_type": "code",
   "execution_count": 17,
   "metadata": {},
   "outputs": [
    {
     "name": "stdout",
     "output_type": "stream",
     "text": [
      "t*(t - 1)/2\n",
      "t*(t - 1)*(2*t - 1)/6\n",
      "t**2*(t - 1)**2/4\n",
      "t*(t - 1)*(2*t - 1)*(3*t**2 - 3*t - 1)/30\n",
      "t**2*(t - 1)**2*(2*t**2 - 2*t - 1)/12\n",
      "t*(t - 1)*(2*t - 1)*(3*t**4 - 6*t**3 + 3*t + 1)/42\n",
      "t**2*(t - 1)**2*(3*t**4 - 6*t**3 - t**2 + 4*t + 2)/24\n",
      "t*(t - 1)*(2*t - 1)*(5*t**6 - 15*t**5 + 5*t**4 + 15*t**3 - t**2 - 9*t - 3)/90\n"
     ]
    }
   ],
   "source": [
    "for p in range(1,9): print(S(p))"
   ]
  },
  {
   "cell_type": "markdown",
   "metadata": {},
   "source": [
    "On va maintenant vérifier que le nombre de partitions d'un ensemble à n éléments en k blocs est bien  S(n,k) . Pour engendrer récursivement les partitions d'une liste ll, on pourra utiliser deux fonctions auxiliaires qui insérent son dernier élément dans les partitions du reste :"
   ]
  },
  {
   "cell_type": "code",
   "execution_count": 18,
   "metadata": {},
   "outputs": [],
   "source": [
    "def _insert_all(x,p): # p partition ensembliste\n",
    "    return [p[:i] + (p[i]+(x,),) + p[i + 1:] for i in range(len(p))]\n",
    "\n",
    "def _add_part(x,p):\n",
    "    return p + ((x,),)\n",
    "\n",
    "def set_partitions(ll):\n",
    "    if ll == []:\n",
    "        return [tuple()]\n",
    "    res = []\n",
    "    for index in range(len(ll)):\n",
    "        tmp = list(ll)\n",
    "        elt = tmp.pop(index)\n",
    "        aa = set_partitions(tmp)\n",
    "        res += (_add_part(elt, aa[0]),)\n",
    "        for i in range(len(aa)):\n",
    "            res += _insert_all(elt, aa[i])\n",
    "    return res"
   ]
  },
  {
   "cell_type": "code",
   "execution_count": 19,
   "metadata": {},
   "outputs": [
    {
     "data": {
      "text/plain": [
       "[((4,), (3,), (2,), (1,)),\n",
       " ((4, 1), (3,), (2,)),\n",
       " ((4,), (3, 1), (2,)),\n",
       " ((4,), (3,), (2, 1)),\n",
       " ((4, 2, 1), (3,)),\n",
       " ((4, 2), (3, 1)),\n",
       " ((4, 1), (3, 2)),\n",
       " ((4,), (3, 2, 1)),\n",
       " ((4, 3, 2, 1),),\n",
       " ((3, 2, 1), (4,)),\n",
       " ((3, 2), (4, 1)),\n",
       " ((3, 1), (4, 2)),\n",
       " ((3,), (4, 2, 1)),\n",
       " ((3, 4, 2, 1),),\n",
       " ((4, 1), (2,), (3,)),\n",
       " ((4,), (2, 1), (3,)),\n",
       " ((4,), (2,), (3, 1)),\n",
       " ((4, 3, 1), (2,)),\n",
       " ((4, 3), (2, 1)),\n",
       " ((4, 1), (2, 3)),\n",
       " ((4,), (2, 3, 1)),\n",
       " ((4, 2, 3, 1),),\n",
       " ((2, 3, 1), (4,)),\n",
       " ((2, 3), (4, 1)),\n",
       " ((2, 1), (4, 3)),\n",
       " ((2,), (4, 3, 1)),\n",
       " ((2, 4, 3, 1),),\n",
       " ((3, 1), (2,), (4,)),\n",
       " ((3,), (2, 1), (4,)),\n",
       " ((3,), (2,), (4, 1)),\n",
       " ((3, 4, 1), (2,)),\n",
       " ((3, 4), (2, 1)),\n",
       " ((3, 1), (2, 4)),\n",
       " ((3,), (2, 4, 1)),\n",
       " ((3, 2, 4, 1),),\n",
       " ((2, 4, 1), (3,)),\n",
       " ((2, 4), (3, 1)),\n",
       " ((2, 1), (3, 4)),\n",
       " ((2,), (3, 4, 1)),\n",
       " ((2, 3, 4, 1),),\n",
       " ((4,), (3,), (1,), (2,)),\n",
       " ((4, 2), (3,), (1,)),\n",
       " ((4,), (3, 2), (1,)),\n",
       " ((4,), (3,), (1, 2)),\n",
       " ((4, 1, 2), (3,)),\n",
       " ((4, 1), (3, 2)),\n",
       " ((4, 2), (3, 1)),\n",
       " ((4,), (3, 1, 2)),\n",
       " ((4, 3, 1, 2),),\n",
       " ((3, 1, 2), (4,)),\n",
       " ((3, 1), (4, 2)),\n",
       " ((3, 2), (4, 1)),\n",
       " ((3,), (4, 1, 2)),\n",
       " ((3, 4, 1, 2),),\n",
       " ((4, 2), (1,), (3,)),\n",
       " ((4,), (1, 2), (3,)),\n",
       " ((4,), (1,), (3, 2)),\n",
       " ((4, 3, 2), (1,)),\n",
       " ((4, 3), (1, 2)),\n",
       " ((4, 2), (1, 3)),\n",
       " ((4,), (1, 3, 2)),\n",
       " ((4, 1, 3, 2),),\n",
       " ((1, 3, 2), (4,)),\n",
       " ((1, 3), (4, 2)),\n",
       " ((1, 2), (4, 3)),\n",
       " ((1,), (4, 3, 2)),\n",
       " ((1, 4, 3, 2),),\n",
       " ((3, 2), (1,), (4,)),\n",
       " ((3,), (1, 2), (4,)),\n",
       " ((3,), (1,), (4, 2)),\n",
       " ((3, 4, 2), (1,)),\n",
       " ((3, 4), (1, 2)),\n",
       " ((3, 2), (1, 4)),\n",
       " ((3,), (1, 4, 2)),\n",
       " ((3, 1, 4, 2),),\n",
       " ((1, 4, 2), (3,)),\n",
       " ((1, 4), (3, 2)),\n",
       " ((1, 2), (3, 4)),\n",
       " ((1,), (3, 4, 2)),\n",
       " ((1, 3, 4, 2),),\n",
       " ((4,), (2,), (1,), (3,)),\n",
       " ((4, 3), (2,), (1,)),\n",
       " ((4,), (2, 3), (1,)),\n",
       " ((4,), (2,), (1, 3)),\n",
       " ((4, 1, 3), (2,)),\n",
       " ((4, 1), (2, 3)),\n",
       " ((4, 3), (2, 1)),\n",
       " ((4,), (2, 1, 3)),\n",
       " ((4, 2, 1, 3),),\n",
       " ((2, 1, 3), (4,)),\n",
       " ((2, 1), (4, 3)),\n",
       " ((2, 3), (4, 1)),\n",
       " ((2,), (4, 1, 3)),\n",
       " ((2, 4, 1, 3),),\n",
       " ((4, 3), (1,), (2,)),\n",
       " ((4,), (1, 3), (2,)),\n",
       " ((4,), (1,), (2, 3)),\n",
       " ((4, 2, 3), (1,)),\n",
       " ((4, 2), (1, 3)),\n",
       " ((4, 3), (1, 2)),\n",
       " ((4,), (1, 2, 3)),\n",
       " ((4, 1, 2, 3),),\n",
       " ((1, 2, 3), (4,)),\n",
       " ((1, 2), (4, 3)),\n",
       " ((1, 3), (4, 2)),\n",
       " ((1,), (4, 2, 3)),\n",
       " ((1, 4, 2, 3),),\n",
       " ((2, 3), (1,), (4,)),\n",
       " ((2,), (1, 3), (4,)),\n",
       " ((2,), (1,), (4, 3)),\n",
       " ((2, 4, 3), (1,)),\n",
       " ((2, 4), (1, 3)),\n",
       " ((2, 3), (1, 4)),\n",
       " ((2,), (1, 4, 3)),\n",
       " ((2, 1, 4, 3),),\n",
       " ((1, 4, 3), (2,)),\n",
       " ((1, 4), (2, 3)),\n",
       " ((1, 3), (2, 4)),\n",
       " ((1,), (2, 4, 3)),\n",
       " ((1, 2, 4, 3),),\n",
       " ((3,), (2,), (1,), (4,)),\n",
       " ((3, 4), (2,), (1,)),\n",
       " ((3,), (2, 4), (1,)),\n",
       " ((3,), (2,), (1, 4)),\n",
       " ((3, 1, 4), (2,)),\n",
       " ((3, 1), (2, 4)),\n",
       " ((3, 4), (2, 1)),\n",
       " ((3,), (2, 1, 4)),\n",
       " ((3, 2, 1, 4),),\n",
       " ((2, 1, 4), (3,)),\n",
       " ((2, 1), (3, 4)),\n",
       " ((2, 4), (3, 1)),\n",
       " ((2,), (3, 1, 4)),\n",
       " ((2, 3, 1, 4),),\n",
       " ((3, 4), (1,), (2,)),\n",
       " ((3,), (1, 4), (2,)),\n",
       " ((3,), (1,), (2, 4)),\n",
       " ((3, 2, 4), (1,)),\n",
       " ((3, 2), (1, 4)),\n",
       " ((3, 4), (1, 2)),\n",
       " ((3,), (1, 2, 4)),\n",
       " ((3, 1, 2, 4),),\n",
       " ((1, 2, 4), (3,)),\n",
       " ((1, 2), (3, 4)),\n",
       " ((1, 4), (3, 2)),\n",
       " ((1,), (3, 2, 4)),\n",
       " ((1, 3, 2, 4),),\n",
       " ((2, 4), (1,), (3,)),\n",
       " ((2,), (1, 4), (3,)),\n",
       " ((2,), (1,), (3, 4)),\n",
       " ((2, 3, 4), (1,)),\n",
       " ((2, 3), (1, 4)),\n",
       " ((2, 4), (1, 3)),\n",
       " ((2,), (1, 3, 4)),\n",
       " ((2, 1, 3, 4),),\n",
       " ((1, 3, 4), (2,)),\n",
       " ((1, 3), (2, 4)),\n",
       " ((1, 4), (2, 3)),\n",
       " ((1,), (2, 3, 4)),\n",
       " ((1, 2, 3, 4),)]"
      ]
     },
     "execution_count": 19,
     "metadata": {},
     "output_type": "execute_result"
    }
   ],
   "source": [
    "set_partitions(range(1,5))"
   ]
  },
  {
   "cell_type": "code",
   "execution_count": 20,
   "metadata": {},
   "outputs": [
    {
     "data": {
      "text/plain": [
       "160"
      ]
     },
     "execution_count": 20,
     "metadata": {},
     "output_type": "execute_result"
    }
   ],
   "source": [
    "len(_)"
   ]
  },
  {
   "cell_type": "code",
   "execution_count": 21,
   "metadata": {},
   "outputs": [],
   "source": [
    "def block_lengths(n):\n",
    "    pp = set_partitions(range(1,n+1))\n",
    "    ll = map(len,pp)\n",
    "    return [ll.count(i) for i in range(1,n+1)]"
   ]
  },
  {
   "cell_type": "code",
   "execution_count": 22,
   "metadata": {},
   "outputs": [
    {
     "ename": "AttributeError",
     "evalue": "'map' object has no attribute 'count'",
     "output_type": "error",
     "traceback": [
      "\u001b[0;31m---------------------------------------------------------------------------\u001b[0m",
      "\u001b[0;31mAttributeError\u001b[0m                            Traceback (most recent call last)",
      "\u001b[0;32m<ipython-input-22-b61be5b89821>\u001b[0m in \u001b[0;36m<module>\u001b[0;34m\u001b[0m\n\u001b[1;32m      1\u001b[0m \u001b[0;32mfor\u001b[0m \u001b[0mi\u001b[0m \u001b[0;32min\u001b[0m \u001b[0mrange\u001b[0m\u001b[0;34m(\u001b[0m\u001b[0;36m1\u001b[0m\u001b[0;34m,\u001b[0m\u001b[0;36m10\u001b[0m\u001b[0;34m)\u001b[0m\u001b[0;34m:\u001b[0m\u001b[0;34m\u001b[0m\u001b[0;34m\u001b[0m\u001b[0m\n\u001b[0;32m----> 2\u001b[0;31m     \u001b[0mprint\u001b[0m\u001b[0;34m(\u001b[0m\u001b[0mblock_lengths\u001b[0m\u001b[0;34m(\u001b[0m\u001b[0mi\u001b[0m\u001b[0;34m)\u001b[0m\u001b[0;34m)\u001b[0m\u001b[0;34m\u001b[0m\u001b[0;34m\u001b[0m\u001b[0m\n\u001b[0m",
      "\u001b[0;32m<ipython-input-21-b2f0b6085bc7>\u001b[0m in \u001b[0;36mblock_lengths\u001b[0;34m(n)\u001b[0m\n\u001b[1;32m      2\u001b[0m     \u001b[0mpp\u001b[0m \u001b[0;34m=\u001b[0m \u001b[0mset_partitions\u001b[0m\u001b[0;34m(\u001b[0m\u001b[0mrange\u001b[0m\u001b[0;34m(\u001b[0m\u001b[0;36m1\u001b[0m\u001b[0;34m,\u001b[0m\u001b[0mn\u001b[0m\u001b[0;34m+\u001b[0m\u001b[0;36m1\u001b[0m\u001b[0;34m)\u001b[0m\u001b[0;34m)\u001b[0m\u001b[0;34m\u001b[0m\u001b[0;34m\u001b[0m\u001b[0m\n\u001b[1;32m      3\u001b[0m     \u001b[0mll\u001b[0m \u001b[0;34m=\u001b[0m \u001b[0mmap\u001b[0m\u001b[0;34m(\u001b[0m\u001b[0mlen\u001b[0m\u001b[0;34m,\u001b[0m\u001b[0mpp\u001b[0m\u001b[0;34m)\u001b[0m\u001b[0;34m\u001b[0m\u001b[0;34m\u001b[0m\u001b[0m\n\u001b[0;32m----> 4\u001b[0;31m     \u001b[0;32mreturn\u001b[0m \u001b[0;34m[\u001b[0m\u001b[0mll\u001b[0m\u001b[0;34m.\u001b[0m\u001b[0mcount\u001b[0m\u001b[0;34m(\u001b[0m\u001b[0mi\u001b[0m\u001b[0;34m)\u001b[0m \u001b[0;32mfor\u001b[0m \u001b[0mi\u001b[0m \u001b[0;32min\u001b[0m \u001b[0mrange\u001b[0m\u001b[0;34m(\u001b[0m\u001b[0;36m1\u001b[0m\u001b[0;34m,\u001b[0m\u001b[0mn\u001b[0m\u001b[0;34m+\u001b[0m\u001b[0;36m1\u001b[0m\u001b[0;34m)\u001b[0m\u001b[0;34m]\u001b[0m\u001b[0;34m\u001b[0m\u001b[0;34m\u001b[0m\u001b[0m\n\u001b[0m",
      "\u001b[0;32m<ipython-input-21-b2f0b6085bc7>\u001b[0m in \u001b[0;36m<listcomp>\u001b[0;34m(.0)\u001b[0m\n\u001b[1;32m      2\u001b[0m     \u001b[0mpp\u001b[0m \u001b[0;34m=\u001b[0m \u001b[0mset_partitions\u001b[0m\u001b[0;34m(\u001b[0m\u001b[0mrange\u001b[0m\u001b[0;34m(\u001b[0m\u001b[0;36m1\u001b[0m\u001b[0;34m,\u001b[0m\u001b[0mn\u001b[0m\u001b[0;34m+\u001b[0m\u001b[0;36m1\u001b[0m\u001b[0;34m)\u001b[0m\u001b[0;34m)\u001b[0m\u001b[0;34m\u001b[0m\u001b[0;34m\u001b[0m\u001b[0m\n\u001b[1;32m      3\u001b[0m     \u001b[0mll\u001b[0m \u001b[0;34m=\u001b[0m \u001b[0mmap\u001b[0m\u001b[0;34m(\u001b[0m\u001b[0mlen\u001b[0m\u001b[0;34m,\u001b[0m\u001b[0mpp\u001b[0m\u001b[0;34m)\u001b[0m\u001b[0;34m\u001b[0m\u001b[0;34m\u001b[0m\u001b[0m\n\u001b[0;32m----> 4\u001b[0;31m     \u001b[0;32mreturn\u001b[0m \u001b[0;34m[\u001b[0m\u001b[0mll\u001b[0m\u001b[0;34m.\u001b[0m\u001b[0mcount\u001b[0m\u001b[0;34m(\u001b[0m\u001b[0mi\u001b[0m\u001b[0;34m)\u001b[0m \u001b[0;32mfor\u001b[0m \u001b[0mi\u001b[0m \u001b[0;32min\u001b[0m \u001b[0mrange\u001b[0m\u001b[0;34m(\u001b[0m\u001b[0;36m1\u001b[0m\u001b[0;34m,\u001b[0m\u001b[0mn\u001b[0m\u001b[0;34m+\u001b[0m\u001b[0;36m1\u001b[0m\u001b[0;34m)\u001b[0m\u001b[0;34m]\u001b[0m\u001b[0;34m\u001b[0m\u001b[0;34m\u001b[0m\u001b[0m\n\u001b[0m",
      "\u001b[0;31mAttributeError\u001b[0m: 'map' object has no attribute 'count'"
     ]
    }
   ],
   "source": [
    "for i in range(1,10):\n",
    "    print(block_lengths(i))"
   ]
  },
  {
   "cell_type": "code",
   "execution_count": 23,
   "metadata": {},
   "outputs": [],
   "source": [
    "%load_ext Cython"
   ]
  },
  {
   "cell_type": "code",
   "execution_count": 24,
   "metadata": {},
   "outputs": [],
   "source": [
    "%%cython\n",
    "\n",
    "def DisplayPartitions(c):\n",
    "    msg = []\n",
    "    res = {}\n",
    "    for i, v in c.items():\n",
    "        res[v] = [i] if v not in res.keys() else res[v] + [i]\n",
    "    for elt in res.values():\n",
    "        msg.append(str(elt))\n",
    "    msg.append('\\t')\n",
    "    msg.append(str(tuple(c.values())))\n",
    "    return ''.join(msg)\n",
    "\n",
    "def SetPartitions(n):\n",
    "    ll = []\n",
    "    c = {}\n",
    "    def SP(m, p):\n",
    "        if p > n:\n",
    "            ll.append(DisplayPartitions(c))\n",
    "        else:\n",
    "            for i in range(1,m+1):\n",
    "                c[p] = i\n",
    "                SP(m,p+1)\n",
    "            c[p] = m+1\n",
    "            SP(m+1,p+1)\n",
    "    SP(0,1)\n",
    "    return ll"
   ]
  },
  {
   "cell_type": "code",
   "execution_count": 28,
   "metadata": {},
   "outputs": [
    {
     "name": "stdout",
     "output_type": "stream",
     "text": [
      "[1, 2, 3, 4]\t(1, 1, 1, 1)\n",
      "[1, 2, 3][4]\t(1, 1, 1, 2)\n",
      "[1, 2, 4][3]\t(1, 1, 2, 1)\n",
      "[1, 2][3, 4]\t(1, 1, 2, 2)\n",
      "[1, 2][3][4]\t(1, 1, 2, 3)\n",
      "[1, 3, 4][2]\t(1, 2, 1, 1)\n",
      "[1, 3][2, 4]\t(1, 2, 1, 2)\n",
      "[1, 3][2][4]\t(1, 2, 1, 3)\n",
      "[1, 4][2, 3]\t(1, 2, 2, 1)\n",
      "[1][2, 3, 4]\t(1, 2, 2, 2)\n",
      "[1][2, 3][4]\t(1, 2, 2, 3)\n",
      "[1, 4][2][3]\t(1, 2, 3, 1)\n",
      "[1][2, 4][3]\t(1, 2, 3, 2)\n",
      "[1][2][3, 4]\t(1, 2, 3, 3)\n",
      "[1][2][3][4]\t(1, 2, 3, 4)\n"
     ]
    }
   ],
   "source": [
    "ll = SetPartitions(4)\n",
    "for elt in ll:\n",
    "    print(elt)"
   ]
  },
  {
   "cell_type": "code",
   "execution_count": 27,
   "metadata": {},
   "outputs": [
    {
     "name": "stdout",
     "output_type": "stream",
     "text": [
      "2443.434238433838 ms\n"
     ]
    }
   ],
   "source": [
    "import time\n",
    "now = time.time()\n",
    "SetPartitions(11)\n",
    "print('{} ms'.format((time.time() - now) * 1000))"
   ]
  },
  {
   "cell_type": "markdown",
   "metadata": {},
   "source": [
    "**Attention** : setpartitions ci-dessous ne fonctionne pas"
   ]
  },
  {
   "cell_type": "code",
   "execution_count": 26,
   "metadata": {},
   "outputs": [
    {
     "ename": "KeyboardInterrupt",
     "evalue": "",
     "output_type": "error",
     "traceback": [
      "\u001b[0;31m---------------------------------------------------------------------------\u001b[0m",
      "\u001b[0;31mKeyboardInterrupt\u001b[0m                         Traceback (most recent call last)",
      "\u001b[0;32m<ipython-input-26-ee04e7b52410>\u001b[0m in \u001b[0;36m<module>\u001b[0;34m\u001b[0m\n\u001b[1;32m      1\u001b[0m \u001b[0mnow\u001b[0m \u001b[0;34m=\u001b[0m \u001b[0mtime\u001b[0m\u001b[0;34m.\u001b[0m\u001b[0mtime\u001b[0m\u001b[0;34m(\u001b[0m\u001b[0;34m)\u001b[0m\u001b[0;34m\u001b[0m\u001b[0;34m\u001b[0m\u001b[0m\n\u001b[0;32m----> 2\u001b[0;31m \u001b[0mset_partitions\u001b[0m\u001b[0;34m(\u001b[0m\u001b[0mrange\u001b[0m\u001b[0;34m(\u001b[0m\u001b[0;36m1\u001b[0m\u001b[0;34m,\u001b[0m\u001b[0;36m11\u001b[0m\u001b[0;34m)\u001b[0m\u001b[0;34m)\u001b[0m\u001b[0;34m\u001b[0m\u001b[0;34m\u001b[0m\u001b[0m\n\u001b[0m\u001b[1;32m      3\u001b[0m \u001b[0mprint\u001b[0m\u001b[0;34m(\u001b[0m\u001b[0;34m'{} ms'\u001b[0m\u001b[0;34m.\u001b[0m\u001b[0mformat\u001b[0m\u001b[0;34m(\u001b[0m\u001b[0;34m(\u001b[0m\u001b[0mtime\u001b[0m\u001b[0;34m.\u001b[0m\u001b[0mtime\u001b[0m\u001b[0;34m(\u001b[0m\u001b[0;34m)\u001b[0m \u001b[0;34m-\u001b[0m \u001b[0mnow\u001b[0m\u001b[0;34m)\u001b[0m \u001b[0;34m*\u001b[0m \u001b[0;36m1000\u001b[0m\u001b[0;34m)\u001b[0m\u001b[0;34m)\u001b[0m\u001b[0;34m\u001b[0m\u001b[0;34m\u001b[0m\u001b[0m\n",
      "\u001b[0;32m<ipython-input-18-d5a1194218ef>\u001b[0m in \u001b[0;36mset_partitions\u001b[0;34m(ll)\u001b[0m\n\u001b[1;32m     12\u001b[0m         \u001b[0mtmp\u001b[0m \u001b[0;34m=\u001b[0m \u001b[0mlist\u001b[0m\u001b[0;34m(\u001b[0m\u001b[0mll\u001b[0m\u001b[0;34m)\u001b[0m\u001b[0;34m\u001b[0m\u001b[0;34m\u001b[0m\u001b[0m\n\u001b[1;32m     13\u001b[0m         \u001b[0melt\u001b[0m \u001b[0;34m=\u001b[0m \u001b[0mtmp\u001b[0m\u001b[0;34m.\u001b[0m\u001b[0mpop\u001b[0m\u001b[0;34m(\u001b[0m\u001b[0mindex\u001b[0m\u001b[0;34m)\u001b[0m\u001b[0;34m\u001b[0m\u001b[0;34m\u001b[0m\u001b[0m\n\u001b[0;32m---> 14\u001b[0;31m         \u001b[0maa\u001b[0m \u001b[0;34m=\u001b[0m \u001b[0mset_partitions\u001b[0m\u001b[0;34m(\u001b[0m\u001b[0mtmp\u001b[0m\u001b[0;34m)\u001b[0m\u001b[0;34m\u001b[0m\u001b[0;34m\u001b[0m\u001b[0m\n\u001b[0m\u001b[1;32m     15\u001b[0m         \u001b[0mres\u001b[0m \u001b[0;34m+=\u001b[0m \u001b[0;34m(\u001b[0m\u001b[0m_add_part\u001b[0m\u001b[0;34m(\u001b[0m\u001b[0melt\u001b[0m\u001b[0;34m,\u001b[0m \u001b[0maa\u001b[0m\u001b[0;34m[\u001b[0m\u001b[0;36m0\u001b[0m\u001b[0;34m]\u001b[0m\u001b[0;34m)\u001b[0m\u001b[0;34m,\u001b[0m\u001b[0;34m)\u001b[0m\u001b[0;34m\u001b[0m\u001b[0;34m\u001b[0m\u001b[0m\n\u001b[1;32m     16\u001b[0m         \u001b[0;32mfor\u001b[0m \u001b[0mi\u001b[0m \u001b[0;32min\u001b[0m \u001b[0mrange\u001b[0m\u001b[0;34m(\u001b[0m\u001b[0mlen\u001b[0m\u001b[0;34m(\u001b[0m\u001b[0maa\u001b[0m\u001b[0;34m)\u001b[0m\u001b[0;34m)\u001b[0m\u001b[0;34m:\u001b[0m\u001b[0;34m\u001b[0m\u001b[0;34m\u001b[0m\u001b[0m\n",
      "\u001b[0;32m<ipython-input-18-d5a1194218ef>\u001b[0m in \u001b[0;36mset_partitions\u001b[0;34m(ll)\u001b[0m\n\u001b[1;32m     12\u001b[0m         \u001b[0mtmp\u001b[0m \u001b[0;34m=\u001b[0m \u001b[0mlist\u001b[0m\u001b[0;34m(\u001b[0m\u001b[0mll\u001b[0m\u001b[0;34m)\u001b[0m\u001b[0;34m\u001b[0m\u001b[0;34m\u001b[0m\u001b[0m\n\u001b[1;32m     13\u001b[0m         \u001b[0melt\u001b[0m \u001b[0;34m=\u001b[0m \u001b[0mtmp\u001b[0m\u001b[0;34m.\u001b[0m\u001b[0mpop\u001b[0m\u001b[0;34m(\u001b[0m\u001b[0mindex\u001b[0m\u001b[0;34m)\u001b[0m\u001b[0;34m\u001b[0m\u001b[0;34m\u001b[0m\u001b[0m\n\u001b[0;32m---> 14\u001b[0;31m         \u001b[0maa\u001b[0m \u001b[0;34m=\u001b[0m \u001b[0mset_partitions\u001b[0m\u001b[0;34m(\u001b[0m\u001b[0mtmp\u001b[0m\u001b[0;34m)\u001b[0m\u001b[0;34m\u001b[0m\u001b[0;34m\u001b[0m\u001b[0m\n\u001b[0m\u001b[1;32m     15\u001b[0m         \u001b[0mres\u001b[0m \u001b[0;34m+=\u001b[0m \u001b[0;34m(\u001b[0m\u001b[0m_add_part\u001b[0m\u001b[0;34m(\u001b[0m\u001b[0melt\u001b[0m\u001b[0;34m,\u001b[0m \u001b[0maa\u001b[0m\u001b[0;34m[\u001b[0m\u001b[0;36m0\u001b[0m\u001b[0;34m]\u001b[0m\u001b[0;34m)\u001b[0m\u001b[0;34m,\u001b[0m\u001b[0;34m)\u001b[0m\u001b[0;34m\u001b[0m\u001b[0;34m\u001b[0m\u001b[0m\n\u001b[1;32m     16\u001b[0m         \u001b[0;32mfor\u001b[0m \u001b[0mi\u001b[0m \u001b[0;32min\u001b[0m \u001b[0mrange\u001b[0m\u001b[0;34m(\u001b[0m\u001b[0mlen\u001b[0m\u001b[0;34m(\u001b[0m\u001b[0maa\u001b[0m\u001b[0;34m)\u001b[0m\u001b[0;34m)\u001b[0m\u001b[0;34m:\u001b[0m\u001b[0;34m\u001b[0m\u001b[0;34m\u001b[0m\u001b[0m\n",
      "\u001b[0;32m<ipython-input-18-d5a1194218ef>\u001b[0m in \u001b[0;36mset_partitions\u001b[0;34m(ll)\u001b[0m\n\u001b[1;32m     12\u001b[0m         \u001b[0mtmp\u001b[0m \u001b[0;34m=\u001b[0m \u001b[0mlist\u001b[0m\u001b[0;34m(\u001b[0m\u001b[0mll\u001b[0m\u001b[0;34m)\u001b[0m\u001b[0;34m\u001b[0m\u001b[0;34m\u001b[0m\u001b[0m\n\u001b[1;32m     13\u001b[0m         \u001b[0melt\u001b[0m \u001b[0;34m=\u001b[0m \u001b[0mtmp\u001b[0m\u001b[0;34m.\u001b[0m\u001b[0mpop\u001b[0m\u001b[0;34m(\u001b[0m\u001b[0mindex\u001b[0m\u001b[0;34m)\u001b[0m\u001b[0;34m\u001b[0m\u001b[0;34m\u001b[0m\u001b[0m\n\u001b[0;32m---> 14\u001b[0;31m         \u001b[0maa\u001b[0m \u001b[0;34m=\u001b[0m \u001b[0mset_partitions\u001b[0m\u001b[0;34m(\u001b[0m\u001b[0mtmp\u001b[0m\u001b[0;34m)\u001b[0m\u001b[0;34m\u001b[0m\u001b[0;34m\u001b[0m\u001b[0m\n\u001b[0m\u001b[1;32m     15\u001b[0m         \u001b[0mres\u001b[0m \u001b[0;34m+=\u001b[0m \u001b[0;34m(\u001b[0m\u001b[0m_add_part\u001b[0m\u001b[0;34m(\u001b[0m\u001b[0melt\u001b[0m\u001b[0;34m,\u001b[0m \u001b[0maa\u001b[0m\u001b[0;34m[\u001b[0m\u001b[0;36m0\u001b[0m\u001b[0;34m]\u001b[0m\u001b[0;34m)\u001b[0m\u001b[0;34m,\u001b[0m\u001b[0;34m)\u001b[0m\u001b[0;34m\u001b[0m\u001b[0;34m\u001b[0m\u001b[0m\n\u001b[1;32m     16\u001b[0m         \u001b[0;32mfor\u001b[0m \u001b[0mi\u001b[0m \u001b[0;32min\u001b[0m \u001b[0mrange\u001b[0m\u001b[0;34m(\u001b[0m\u001b[0mlen\u001b[0m\u001b[0;34m(\u001b[0m\u001b[0maa\u001b[0m\u001b[0;34m)\u001b[0m\u001b[0;34m)\u001b[0m\u001b[0;34m:\u001b[0m\u001b[0;34m\u001b[0m\u001b[0;34m\u001b[0m\u001b[0m\n",
      "\u001b[0;32m<ipython-input-18-d5a1194218ef>\u001b[0m in \u001b[0;36mset_partitions\u001b[0;34m(ll)\u001b[0m\n\u001b[1;32m     12\u001b[0m         \u001b[0mtmp\u001b[0m \u001b[0;34m=\u001b[0m \u001b[0mlist\u001b[0m\u001b[0;34m(\u001b[0m\u001b[0mll\u001b[0m\u001b[0;34m)\u001b[0m\u001b[0;34m\u001b[0m\u001b[0;34m\u001b[0m\u001b[0m\n\u001b[1;32m     13\u001b[0m         \u001b[0melt\u001b[0m \u001b[0;34m=\u001b[0m \u001b[0mtmp\u001b[0m\u001b[0;34m.\u001b[0m\u001b[0mpop\u001b[0m\u001b[0;34m(\u001b[0m\u001b[0mindex\u001b[0m\u001b[0;34m)\u001b[0m\u001b[0;34m\u001b[0m\u001b[0;34m\u001b[0m\u001b[0m\n\u001b[0;32m---> 14\u001b[0;31m         \u001b[0maa\u001b[0m \u001b[0;34m=\u001b[0m \u001b[0mset_partitions\u001b[0m\u001b[0;34m(\u001b[0m\u001b[0mtmp\u001b[0m\u001b[0;34m)\u001b[0m\u001b[0;34m\u001b[0m\u001b[0;34m\u001b[0m\u001b[0m\n\u001b[0m\u001b[1;32m     15\u001b[0m         \u001b[0mres\u001b[0m \u001b[0;34m+=\u001b[0m \u001b[0;34m(\u001b[0m\u001b[0m_add_part\u001b[0m\u001b[0;34m(\u001b[0m\u001b[0melt\u001b[0m\u001b[0;34m,\u001b[0m \u001b[0maa\u001b[0m\u001b[0;34m[\u001b[0m\u001b[0;36m0\u001b[0m\u001b[0;34m]\u001b[0m\u001b[0;34m)\u001b[0m\u001b[0;34m,\u001b[0m\u001b[0;34m)\u001b[0m\u001b[0;34m\u001b[0m\u001b[0;34m\u001b[0m\u001b[0m\n\u001b[1;32m     16\u001b[0m         \u001b[0;32mfor\u001b[0m \u001b[0mi\u001b[0m \u001b[0;32min\u001b[0m \u001b[0mrange\u001b[0m\u001b[0;34m(\u001b[0m\u001b[0mlen\u001b[0m\u001b[0;34m(\u001b[0m\u001b[0maa\u001b[0m\u001b[0;34m)\u001b[0m\u001b[0;34m)\u001b[0m\u001b[0;34m:\u001b[0m\u001b[0;34m\u001b[0m\u001b[0;34m\u001b[0m\u001b[0m\n",
      "\u001b[0;32m<ipython-input-18-d5a1194218ef>\u001b[0m in \u001b[0;36mset_partitions\u001b[0;34m(ll)\u001b[0m\n\u001b[1;32m     12\u001b[0m         \u001b[0mtmp\u001b[0m \u001b[0;34m=\u001b[0m \u001b[0mlist\u001b[0m\u001b[0;34m(\u001b[0m\u001b[0mll\u001b[0m\u001b[0;34m)\u001b[0m\u001b[0;34m\u001b[0m\u001b[0;34m\u001b[0m\u001b[0m\n\u001b[1;32m     13\u001b[0m         \u001b[0melt\u001b[0m \u001b[0;34m=\u001b[0m \u001b[0mtmp\u001b[0m\u001b[0;34m.\u001b[0m\u001b[0mpop\u001b[0m\u001b[0;34m(\u001b[0m\u001b[0mindex\u001b[0m\u001b[0;34m)\u001b[0m\u001b[0;34m\u001b[0m\u001b[0;34m\u001b[0m\u001b[0m\n\u001b[0;32m---> 14\u001b[0;31m         \u001b[0maa\u001b[0m \u001b[0;34m=\u001b[0m \u001b[0mset_partitions\u001b[0m\u001b[0;34m(\u001b[0m\u001b[0mtmp\u001b[0m\u001b[0;34m)\u001b[0m\u001b[0;34m\u001b[0m\u001b[0;34m\u001b[0m\u001b[0m\n\u001b[0m\u001b[1;32m     15\u001b[0m         \u001b[0mres\u001b[0m \u001b[0;34m+=\u001b[0m \u001b[0;34m(\u001b[0m\u001b[0m_add_part\u001b[0m\u001b[0;34m(\u001b[0m\u001b[0melt\u001b[0m\u001b[0;34m,\u001b[0m \u001b[0maa\u001b[0m\u001b[0;34m[\u001b[0m\u001b[0;36m0\u001b[0m\u001b[0;34m]\u001b[0m\u001b[0;34m)\u001b[0m\u001b[0;34m,\u001b[0m\u001b[0;34m)\u001b[0m\u001b[0;34m\u001b[0m\u001b[0;34m\u001b[0m\u001b[0m\n\u001b[1;32m     16\u001b[0m         \u001b[0;32mfor\u001b[0m \u001b[0mi\u001b[0m \u001b[0;32min\u001b[0m \u001b[0mrange\u001b[0m\u001b[0;34m(\u001b[0m\u001b[0mlen\u001b[0m\u001b[0;34m(\u001b[0m\u001b[0maa\u001b[0m\u001b[0;34m)\u001b[0m\u001b[0;34m)\u001b[0m\u001b[0;34m:\u001b[0m\u001b[0;34m\u001b[0m\u001b[0;34m\u001b[0m\u001b[0m\n",
      "\u001b[0;32m<ipython-input-18-d5a1194218ef>\u001b[0m in \u001b[0;36mset_partitions\u001b[0;34m(ll)\u001b[0m\n\u001b[1;32m     12\u001b[0m         \u001b[0mtmp\u001b[0m \u001b[0;34m=\u001b[0m \u001b[0mlist\u001b[0m\u001b[0;34m(\u001b[0m\u001b[0mll\u001b[0m\u001b[0;34m)\u001b[0m\u001b[0;34m\u001b[0m\u001b[0;34m\u001b[0m\u001b[0m\n\u001b[1;32m     13\u001b[0m         \u001b[0melt\u001b[0m \u001b[0;34m=\u001b[0m \u001b[0mtmp\u001b[0m\u001b[0;34m.\u001b[0m\u001b[0mpop\u001b[0m\u001b[0;34m(\u001b[0m\u001b[0mindex\u001b[0m\u001b[0;34m)\u001b[0m\u001b[0;34m\u001b[0m\u001b[0;34m\u001b[0m\u001b[0m\n\u001b[0;32m---> 14\u001b[0;31m         \u001b[0maa\u001b[0m \u001b[0;34m=\u001b[0m \u001b[0mset_partitions\u001b[0m\u001b[0;34m(\u001b[0m\u001b[0mtmp\u001b[0m\u001b[0;34m)\u001b[0m\u001b[0;34m\u001b[0m\u001b[0;34m\u001b[0m\u001b[0m\n\u001b[0m\u001b[1;32m     15\u001b[0m         \u001b[0mres\u001b[0m \u001b[0;34m+=\u001b[0m \u001b[0;34m(\u001b[0m\u001b[0m_add_part\u001b[0m\u001b[0;34m(\u001b[0m\u001b[0melt\u001b[0m\u001b[0;34m,\u001b[0m \u001b[0maa\u001b[0m\u001b[0;34m[\u001b[0m\u001b[0;36m0\u001b[0m\u001b[0;34m]\u001b[0m\u001b[0;34m)\u001b[0m\u001b[0;34m,\u001b[0m\u001b[0;34m)\u001b[0m\u001b[0;34m\u001b[0m\u001b[0;34m\u001b[0m\u001b[0m\n\u001b[1;32m     16\u001b[0m         \u001b[0;32mfor\u001b[0m \u001b[0mi\u001b[0m \u001b[0;32min\u001b[0m \u001b[0mrange\u001b[0m\u001b[0;34m(\u001b[0m\u001b[0mlen\u001b[0m\u001b[0;34m(\u001b[0m\u001b[0maa\u001b[0m\u001b[0;34m)\u001b[0m\u001b[0;34m)\u001b[0m\u001b[0;34m:\u001b[0m\u001b[0;34m\u001b[0m\u001b[0;34m\u001b[0m\u001b[0m\n",
      "\u001b[0;32m<ipython-input-18-d5a1194218ef>\u001b[0m in \u001b[0;36mset_partitions\u001b[0;34m(ll)\u001b[0m\n\u001b[1;32m     12\u001b[0m         \u001b[0mtmp\u001b[0m \u001b[0;34m=\u001b[0m \u001b[0mlist\u001b[0m\u001b[0;34m(\u001b[0m\u001b[0mll\u001b[0m\u001b[0;34m)\u001b[0m\u001b[0;34m\u001b[0m\u001b[0;34m\u001b[0m\u001b[0m\n\u001b[1;32m     13\u001b[0m         \u001b[0melt\u001b[0m \u001b[0;34m=\u001b[0m \u001b[0mtmp\u001b[0m\u001b[0;34m.\u001b[0m\u001b[0mpop\u001b[0m\u001b[0;34m(\u001b[0m\u001b[0mindex\u001b[0m\u001b[0;34m)\u001b[0m\u001b[0;34m\u001b[0m\u001b[0;34m\u001b[0m\u001b[0m\n\u001b[0;32m---> 14\u001b[0;31m         \u001b[0maa\u001b[0m \u001b[0;34m=\u001b[0m \u001b[0mset_partitions\u001b[0m\u001b[0;34m(\u001b[0m\u001b[0mtmp\u001b[0m\u001b[0;34m)\u001b[0m\u001b[0;34m\u001b[0m\u001b[0;34m\u001b[0m\u001b[0m\n\u001b[0m\u001b[1;32m     15\u001b[0m         \u001b[0mres\u001b[0m \u001b[0;34m+=\u001b[0m \u001b[0;34m(\u001b[0m\u001b[0m_add_part\u001b[0m\u001b[0;34m(\u001b[0m\u001b[0melt\u001b[0m\u001b[0;34m,\u001b[0m \u001b[0maa\u001b[0m\u001b[0;34m[\u001b[0m\u001b[0;36m0\u001b[0m\u001b[0;34m]\u001b[0m\u001b[0;34m)\u001b[0m\u001b[0;34m,\u001b[0m\u001b[0;34m)\u001b[0m\u001b[0;34m\u001b[0m\u001b[0;34m\u001b[0m\u001b[0m\n\u001b[1;32m     16\u001b[0m         \u001b[0;32mfor\u001b[0m \u001b[0mi\u001b[0m \u001b[0;32min\u001b[0m \u001b[0mrange\u001b[0m\u001b[0;34m(\u001b[0m\u001b[0mlen\u001b[0m\u001b[0;34m(\u001b[0m\u001b[0maa\u001b[0m\u001b[0;34m)\u001b[0m\u001b[0;34m)\u001b[0m\u001b[0;34m:\u001b[0m\u001b[0;34m\u001b[0m\u001b[0;34m\u001b[0m\u001b[0m\n",
      "\u001b[0;32m<ipython-input-18-d5a1194218ef>\u001b[0m in \u001b[0;36mset_partitions\u001b[0;34m(ll)\u001b[0m\n\u001b[1;32m     12\u001b[0m         \u001b[0mtmp\u001b[0m \u001b[0;34m=\u001b[0m \u001b[0mlist\u001b[0m\u001b[0;34m(\u001b[0m\u001b[0mll\u001b[0m\u001b[0;34m)\u001b[0m\u001b[0;34m\u001b[0m\u001b[0;34m\u001b[0m\u001b[0m\n\u001b[1;32m     13\u001b[0m         \u001b[0melt\u001b[0m \u001b[0;34m=\u001b[0m \u001b[0mtmp\u001b[0m\u001b[0;34m.\u001b[0m\u001b[0mpop\u001b[0m\u001b[0;34m(\u001b[0m\u001b[0mindex\u001b[0m\u001b[0;34m)\u001b[0m\u001b[0;34m\u001b[0m\u001b[0;34m\u001b[0m\u001b[0m\n\u001b[0;32m---> 14\u001b[0;31m         \u001b[0maa\u001b[0m \u001b[0;34m=\u001b[0m \u001b[0mset_partitions\u001b[0m\u001b[0;34m(\u001b[0m\u001b[0mtmp\u001b[0m\u001b[0;34m)\u001b[0m\u001b[0;34m\u001b[0m\u001b[0;34m\u001b[0m\u001b[0m\n\u001b[0m\u001b[1;32m     15\u001b[0m         \u001b[0mres\u001b[0m \u001b[0;34m+=\u001b[0m \u001b[0;34m(\u001b[0m\u001b[0m_add_part\u001b[0m\u001b[0;34m(\u001b[0m\u001b[0melt\u001b[0m\u001b[0;34m,\u001b[0m \u001b[0maa\u001b[0m\u001b[0;34m[\u001b[0m\u001b[0;36m0\u001b[0m\u001b[0;34m]\u001b[0m\u001b[0;34m)\u001b[0m\u001b[0;34m,\u001b[0m\u001b[0;34m)\u001b[0m\u001b[0;34m\u001b[0m\u001b[0;34m\u001b[0m\u001b[0m\n\u001b[1;32m     16\u001b[0m         \u001b[0;32mfor\u001b[0m \u001b[0mi\u001b[0m \u001b[0;32min\u001b[0m \u001b[0mrange\u001b[0m\u001b[0;34m(\u001b[0m\u001b[0mlen\u001b[0m\u001b[0;34m(\u001b[0m\u001b[0maa\u001b[0m\u001b[0;34m)\u001b[0m\u001b[0;34m)\u001b[0m\u001b[0;34m:\u001b[0m\u001b[0;34m\u001b[0m\u001b[0;34m\u001b[0m\u001b[0m\n",
      "\u001b[0;32m<ipython-input-18-d5a1194218ef>\u001b[0m in \u001b[0;36mset_partitions\u001b[0;34m(ll)\u001b[0m\n\u001b[1;32m     12\u001b[0m         \u001b[0mtmp\u001b[0m \u001b[0;34m=\u001b[0m \u001b[0mlist\u001b[0m\u001b[0;34m(\u001b[0m\u001b[0mll\u001b[0m\u001b[0;34m)\u001b[0m\u001b[0;34m\u001b[0m\u001b[0;34m\u001b[0m\u001b[0m\n\u001b[1;32m     13\u001b[0m         \u001b[0melt\u001b[0m \u001b[0;34m=\u001b[0m \u001b[0mtmp\u001b[0m\u001b[0;34m.\u001b[0m\u001b[0mpop\u001b[0m\u001b[0;34m(\u001b[0m\u001b[0mindex\u001b[0m\u001b[0;34m)\u001b[0m\u001b[0;34m\u001b[0m\u001b[0;34m\u001b[0m\u001b[0m\n\u001b[0;32m---> 14\u001b[0;31m         \u001b[0maa\u001b[0m \u001b[0;34m=\u001b[0m \u001b[0mset_partitions\u001b[0m\u001b[0;34m(\u001b[0m\u001b[0mtmp\u001b[0m\u001b[0;34m)\u001b[0m\u001b[0;34m\u001b[0m\u001b[0;34m\u001b[0m\u001b[0m\n\u001b[0m\u001b[1;32m     15\u001b[0m         \u001b[0mres\u001b[0m \u001b[0;34m+=\u001b[0m \u001b[0;34m(\u001b[0m\u001b[0m_add_part\u001b[0m\u001b[0;34m(\u001b[0m\u001b[0melt\u001b[0m\u001b[0;34m,\u001b[0m \u001b[0maa\u001b[0m\u001b[0;34m[\u001b[0m\u001b[0;36m0\u001b[0m\u001b[0;34m]\u001b[0m\u001b[0;34m)\u001b[0m\u001b[0;34m,\u001b[0m\u001b[0;34m)\u001b[0m\u001b[0;34m\u001b[0m\u001b[0;34m\u001b[0m\u001b[0m\n\u001b[1;32m     16\u001b[0m         \u001b[0;32mfor\u001b[0m \u001b[0mi\u001b[0m \u001b[0;32min\u001b[0m \u001b[0mrange\u001b[0m\u001b[0;34m(\u001b[0m\u001b[0mlen\u001b[0m\u001b[0;34m(\u001b[0m\u001b[0maa\u001b[0m\u001b[0;34m)\u001b[0m\u001b[0;34m)\u001b[0m\u001b[0;34m:\u001b[0m\u001b[0;34m\u001b[0m\u001b[0;34m\u001b[0m\u001b[0m\n",
      "\u001b[0;32m<ipython-input-18-d5a1194218ef>\u001b[0m in \u001b[0;36mset_partitions\u001b[0;34m(ll)\u001b[0m\n\u001b[1;32m     15\u001b[0m         \u001b[0mres\u001b[0m \u001b[0;34m+=\u001b[0m \u001b[0;34m(\u001b[0m\u001b[0m_add_part\u001b[0m\u001b[0;34m(\u001b[0m\u001b[0melt\u001b[0m\u001b[0;34m,\u001b[0m \u001b[0maa\u001b[0m\u001b[0;34m[\u001b[0m\u001b[0;36m0\u001b[0m\u001b[0;34m]\u001b[0m\u001b[0;34m)\u001b[0m\u001b[0;34m,\u001b[0m\u001b[0;34m)\u001b[0m\u001b[0;34m\u001b[0m\u001b[0;34m\u001b[0m\u001b[0m\n\u001b[1;32m     16\u001b[0m         \u001b[0;32mfor\u001b[0m \u001b[0mi\u001b[0m \u001b[0;32min\u001b[0m \u001b[0mrange\u001b[0m\u001b[0;34m(\u001b[0m\u001b[0mlen\u001b[0m\u001b[0;34m(\u001b[0m\u001b[0maa\u001b[0m\u001b[0;34m)\u001b[0m\u001b[0;34m)\u001b[0m\u001b[0;34m:\u001b[0m\u001b[0;34m\u001b[0m\u001b[0;34m\u001b[0m\u001b[0m\n\u001b[0;32m---> 17\u001b[0;31m             \u001b[0mres\u001b[0m \u001b[0;34m+=\u001b[0m \u001b[0m_insert_all\u001b[0m\u001b[0;34m(\u001b[0m\u001b[0melt\u001b[0m\u001b[0;34m,\u001b[0m \u001b[0maa\u001b[0m\u001b[0;34m[\u001b[0m\u001b[0mi\u001b[0m\u001b[0;34m]\u001b[0m\u001b[0;34m)\u001b[0m\u001b[0;34m\u001b[0m\u001b[0;34m\u001b[0m\u001b[0m\n\u001b[0m\u001b[1;32m     18\u001b[0m     \u001b[0;32mreturn\u001b[0m \u001b[0mres\u001b[0m\u001b[0;34m\u001b[0m\u001b[0;34m\u001b[0m\u001b[0m\n",
      "\u001b[0;32m<ipython-input-18-d5a1194218ef>\u001b[0m in \u001b[0;36m_insert_all\u001b[0;34m(x, p)\u001b[0m\n\u001b[1;32m      1\u001b[0m \u001b[0;32mdef\u001b[0m \u001b[0m_insert_all\u001b[0m\u001b[0;34m(\u001b[0m\u001b[0mx\u001b[0m\u001b[0;34m,\u001b[0m\u001b[0mp\u001b[0m\u001b[0;34m)\u001b[0m\u001b[0;34m:\u001b[0m \u001b[0;31m# p partition ensembliste\u001b[0m\u001b[0;34m\u001b[0m\u001b[0;34m\u001b[0m\u001b[0m\n\u001b[0;32m----> 2\u001b[0;31m     \u001b[0;32mreturn\u001b[0m \u001b[0;34m[\u001b[0m\u001b[0mp\u001b[0m\u001b[0;34m[\u001b[0m\u001b[0;34m:\u001b[0m\u001b[0mi\u001b[0m\u001b[0;34m]\u001b[0m \u001b[0;34m+\u001b[0m \u001b[0;34m(\u001b[0m\u001b[0mp\u001b[0m\u001b[0;34m[\u001b[0m\u001b[0mi\u001b[0m\u001b[0;34m]\u001b[0m\u001b[0;34m+\u001b[0m\u001b[0;34m(\u001b[0m\u001b[0mx\u001b[0m\u001b[0;34m,\u001b[0m\u001b[0;34m)\u001b[0m\u001b[0;34m,\u001b[0m\u001b[0;34m)\u001b[0m \u001b[0;34m+\u001b[0m \u001b[0mp\u001b[0m\u001b[0;34m[\u001b[0m\u001b[0mi\u001b[0m \u001b[0;34m+\u001b[0m \u001b[0;36m1\u001b[0m\u001b[0;34m:\u001b[0m\u001b[0;34m]\u001b[0m \u001b[0;32mfor\u001b[0m \u001b[0mi\u001b[0m \u001b[0;32min\u001b[0m \u001b[0mrange\u001b[0m\u001b[0;34m(\u001b[0m\u001b[0mlen\u001b[0m\u001b[0;34m(\u001b[0m\u001b[0mp\u001b[0m\u001b[0;34m)\u001b[0m\u001b[0;34m)\u001b[0m\u001b[0;34m]\u001b[0m\u001b[0;34m\u001b[0m\u001b[0;34m\u001b[0m\u001b[0m\n\u001b[0m\u001b[1;32m      3\u001b[0m \u001b[0;34m\u001b[0m\u001b[0m\n\u001b[1;32m      4\u001b[0m \u001b[0;32mdef\u001b[0m \u001b[0m_add_part\u001b[0m\u001b[0;34m(\u001b[0m\u001b[0mx\u001b[0m\u001b[0;34m,\u001b[0m\u001b[0mp\u001b[0m\u001b[0;34m)\u001b[0m\u001b[0;34m:\u001b[0m\u001b[0;34m\u001b[0m\u001b[0;34m\u001b[0m\u001b[0m\n\u001b[1;32m      5\u001b[0m     \u001b[0;32mreturn\u001b[0m \u001b[0mp\u001b[0m \u001b[0;34m+\u001b[0m \u001b[0;34m(\u001b[0m\u001b[0;34m(\u001b[0m\u001b[0mx\u001b[0m\u001b[0;34m,\u001b[0m\u001b[0;34m)\u001b[0m\u001b[0;34m,\u001b[0m\u001b[0;34m)\u001b[0m\u001b[0;34m\u001b[0m\u001b[0;34m\u001b[0m\u001b[0m\n",
      "\u001b[0;31mKeyboardInterrupt\u001b[0m: "
     ]
    }
   ],
   "source": [
    "now = time.time()\n",
    "set_partitions(range(1,11))\n",
    "print('{} ms'.format((time.time() - now) * 1000))"
   ]
  },
  {
   "cell_type": "code",
   "execution_count": null,
   "metadata": {},
   "outputs": [],
   "source": []
  }
 ],
 "metadata": {
  "kernelspec": {
   "display_name": "Python 3",
   "language": "python",
   "name": "python3"
  },
  "language_info": {
   "codemirror_mode": {
    "name": "ipython",
    "version": 3
   },
   "file_extension": ".py",
   "mimetype": "text/x-python",
   "name": "python",
   "nbconvert_exporter": "python",
   "pygments_lexer": "ipython3",
   "version": "3.8.5"
  }
 },
 "nbformat": 4,
 "nbformat_minor": 2
}
